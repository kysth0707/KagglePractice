{
 "cells": [
  {
   "cell_type": "code",
   "execution_count": 2,
   "metadata": {},
   "outputs": [],
   "source": [
    "import PIL\n",
    "import matplotlib.pyplot as plt\n",
    "import tensorflow as tf\n",
    "import keras\n",
    "import numpy as np\n",
    "import os"
   ]
  },
  {
   "cell_type": "code",
   "execution_count": 3,
   "metadata": {},
   "outputs": [],
   "source": [
    "DatasetTopPos = r'E:\\GithubProjects\\KagglePractice\\Getam\\Dataset'"
   ]
  },
  {
   "cell_type": "code",
   "execution_count": 4,
   "metadata": {},
   "outputs": [
    {
     "data": {
      "text/plain": [
       "700"
      ]
     },
     "execution_count": 4,
     "metadata": {},
     "output_type": "execute_result"
    }
   ],
   "source": [
    "len(os.listdir(DatasetTopPos))"
   ]
  },
  {
   "cell_type": "code",
   "execution_count": 5,
   "metadata": {},
   "outputs": [],
   "source": [
    "def GetImages(TopPos):\n",
    "\tReturnValue = []\n",
    "\tfor file in os.listdir(TopPos):\n",
    "\t\tReturnValue.append(np.array(PIL.Image.open(fr\"{TopPos}\\{file}\")))\n",
    "\treturn np.array(ReturnValue)"
   ]
  },
  {
   "cell_type": "code",
   "execution_count": 6,
   "metadata": {},
   "outputs": [],
   "source": [
    "def GetLabels(TopPos):\n",
    "\tReturnValue = []\n",
    "\tfor file in os.listdir(TopPos):\n",
    "\t\tReturnValue.append(file[0])\n",
    "\treturn np.array(ReturnValue)"
   ]
  },
  {
   "cell_type": "code",
   "execution_count": 7,
   "metadata": {},
   "outputs": [],
   "source": [
    "from sklearn.model_selection import train_test_split"
   ]
  },
  {
   "cell_type": "code",
   "execution_count": 8,
   "metadata": {},
   "outputs": [
    {
     "data": {
      "text/plain": [
       "(700, 40, 31)"
      ]
     },
     "execution_count": 8,
     "metadata": {},
     "output_type": "execute_result"
    }
   ],
   "source": [
    "TrainSet = GetImages(DatasetTopPos)\n",
    "TrainSet.shape"
   ]
  },
  {
   "cell_type": "code",
   "execution_count": 9,
   "metadata": {},
   "outputs": [
    {
     "data": {
      "text/plain": [
       "(31, 40)"
      ]
     },
     "execution_count": 9,
     "metadata": {},
     "output_type": "execute_result"
    }
   ],
   "source": [
    "Height, Width = TrainSet.shape[1], TrainSet.shape[2]\n",
    "Width, Height"
   ]
  },
  {
   "attachments": {},
   "cell_type": "markdown",
   "metadata": {},
   "source": [
    "데이터 개수, Width, Height  \n",
    "RGB 채널은 없구나! 다행이다"
   ]
  },
  {
   "cell_type": "code",
   "execution_count": 10,
   "metadata": {},
   "outputs": [
    {
     "data": {
      "text/plain": [
       "(700,)"
      ]
     },
     "execution_count": 10,
     "metadata": {},
     "output_type": "execute_result"
    }
   ],
   "source": [
    "TrainLabel = GetLabels(DatasetTopPos)\n",
    "TrainLabel.shape"
   ]
  },
  {
   "cell_type": "code",
   "execution_count": 11,
   "metadata": {},
   "outputs": [
    {
     "data": {
      "text/plain": [
       "array(['0', '0', '0', '0', '0', '0', '0', '0', '0', '0', '1', '1', '1',\n",
       "       '1', '1', '1', '1', '1', '1', '1', '1', '1', '1', '1', '2', '2',\n",
       "       '2', '2', '2', '2', '2', '2', '2', '2', '2', '2', '2', '2', '2',\n",
       "       '3', '3', '3', '3', '3', '3', '3', '3', '3', '3', '3', '3', '3',\n",
       "       '3', '3', '3', '3', '4', '4', '4', '4', '4', '4', '4', '4', '4',\n",
       "       '4', '4', '4', '5', '5', '5', '5', '5', '5', '6', '6', '6', '6',\n",
       "       '6', '6', '6', '6', '6', '6', '6', '6', '7', '7', '7', '7', '7',\n",
       "       '7', '7', '7', '7', '7', '8', '8', '8', '8', '8', '8', '8', '8',\n",
       "       '8', '8', '9', '9', '9', '9', '9', '9', '9', '9', '9', '9', '9',\n",
       "       '9', '9', '9', '9', 'A', 'a', 'A', 'a', 'a', 'a', 'a', 'A', 'A',\n",
       "       'A', 'A', 'a', 'A', 'a', 'a', 'A', 'a', 'A', 'A', 'A', 'a', 'b',\n",
       "       'b', 'b', 'B', 'b', 'b', 'B', 'b', 'B', 'b', 'b', 'B', 'b', 'c',\n",
       "       'C', 'C', 'c', 'C', 'C', 'C', 'C', 'c', 'C', 'c', 'C', 'c', 'C',\n",
       "       'c', 'C', 'c', 'C', 'C', 'c', 'D', 'd', 'D', 'd', 'd', 'D', 'd',\n",
       "       'd', 'D', 'D', 'd', 'd', 'd', 'd', 'd', 'd', 'D', 'd', 'D', 'D',\n",
       "       'd', 'd', 'e', 'e', 'e', 'E', 'E', 'E', 'E', 'E', 'E', 'e', 'e',\n",
       "       'E', 'E', 'E', 'e', 'E', 'E', 'E', 'e', 'E', 'E', 'e', 'e', 'f',\n",
       "       'f', 'F', 'F', 'f', 'F', 'F', 'f', 'F', 'f', 'F', 'F', 'F', 'f',\n",
       "       'F', 'F', 'f', 'f', 'F', 'F', 'F', 'f', 'f', 'F', 'f', 'F', 'f',\n",
       "       'g', 'g', 'g', 'g', 'G', 'g', 'G', 'g', 'g', 'g', 'G', 'G', 'G',\n",
       "       'G', 'g', 'g', 'H', 'h', 'H', 'H', 'h', 'h', 'H', 'H', 'h', 'h',\n",
       "       'h', 'h', 'h', 'h', 'H', 'H', 'H', 'h', 'h', 'H', 'H', 'I', 'i',\n",
       "       'I', 'I', 'I', 'i', 'i', 'I', 'I', 'i', 'i', 'i', 'i', 'i', 'I',\n",
       "       'i', 'i', 'I', 'I', 'i', 'I', 'i', 'i', 'i', 'i', 'J', 'j', 'J',\n",
       "       'j', 'J', 'j', 'j', 'J', 'j', 'j', 'J', 'J', 'j', 'J', 'J', 'J',\n",
       "       'J', 'j', 'j', 'j', 'j', 'J', 'j', 'K', 'k', 'k', 'k', 'k', 'K',\n",
       "       'K', 'k', 'k', 'K', 'k', 'K', 'k', 'k', 'K', 'K', 'k', 'k', 'K',\n",
       "       'K', 'l', 'l', 'L', 'L', 'L', 'L', 'L', 'l', 'l', 'L', 'l', 'l',\n",
       "       'l', 'L', 'l', 'l', 'L', 'l', 'l', 'L', 'M', 'm', 'm', 'M', 'M',\n",
       "       'M', 'M', 'm', 'M', 'm', 'M', 'M', 'M', 'M', 'm', 'M', 'M', 'm',\n",
       "       'M', 'm', 'M', 'M', 'm', 'M', 'm', 'm', 'm', 'm', 'm', 'N', 'n',\n",
       "       'N', 'N', 'N', 'n', 'N', 'N', 'n', 'N', 'n', 'N', 'N', 'N', 'N',\n",
       "       'n', 'N', 'N', 'n', 'N', 'n', 'N', 'N', 'n', 'N', 'N', 'n', 'n',\n",
       "       'O', 'o', 'o', 'o', 'O', 'o', 'O', 'O', 'O', 'o', 'O', 'o', 'o',\n",
       "       'O', 'O', 'O', 'O', 'o', 'P', 'p', 'P', 'P', 'p', 'p', 'p', 'P',\n",
       "       'p', 'p', 'p', 'p', 'p', 'P', 'P', 'p', 'P', 'P', 'p', 'P', 'P',\n",
       "       'p', 'p', 'P', 'P', 'q', 'q', 'Q', 'Q', 'q', 'Q', 'Q', 'Q', 'Q',\n",
       "       'Q', 'Q', 'Q', 'Q', 'Q', 'q', 'Q', 'Q', 'Q', 'r', 'r', 'R', 'R',\n",
       "       'r', 'R', 'R', 'R', 'r', 'R', 'r', 'r', 'r', 'r', 'R', 'R', 'r',\n",
       "       'R', 'r', 'R', 'r', 'R', 'R', 'r', 'R', 's', 's', 'S', 'S', 's',\n",
       "       's', 'S', 's', 's', 's', 'S', 's', 'S', 's', 's', 'S', 'S', 'S',\n",
       "       'S', 'S', 's', 'S', 's', 'T', 'T', 'T', 'T', 'T', 't', 'T', 'T',\n",
       "       't', 't', 't', 't', 'T', 'T', 'T', 't', 't', 'T', 't', 'T', 'U',\n",
       "       'U', 'u', 'u', 'U', 'U', 'u', 'U', 'U', 'u', 'U', 'U', 'u', 'u',\n",
       "       'U', 'u', 'u', 'U', 'u', 'u', 'U', 'u', 'u', 'U', 'u', 'u', 'u',\n",
       "       'u', 'U', 'u', 'U', 'v', 'v', 'V', 'v', 'V', 'V', 'v', 'V', 'v',\n",
       "       'v', 'V', 'v', 'v', 'V', 'V', 'v', 'V', 'v', 'W', 'w', 'W', 'W',\n",
       "       'W', 'W', 'W', 'w', 'w', 'W', 'W', 'w', 'w', 'W', 'w', 'w', 'W',\n",
       "       'W', 'w', 'w', 'w', 'W', 'X', 'x', 'x', 'x', 'X', 'x', 'X', 'x',\n",
       "       'x', 'x', 'X', 'x', 'x', 'X', 'x', 'X', 'x', 'X', 'x', 'x', 'X',\n",
       "       'y', 'y', 'y', 'y', 'y', 'Y', 'y', 'Y', 'y', 'Y', 'y', 'y', 'Y',\n",
       "       'Y', 'y', 'y', 'y', 'y', 'Y', 'Y', 'Y', 'y', 'Y', 'Y', 'Z', 'Z',\n",
       "       'z', 'z', 'Z', 'z', 'Z', 'z', 'z', 'z', 'z', 'z', 'z', 'z', 'Z',\n",
       "       'z', 'Z', 'z', 'z', 'Z', 'z', 'z', 'z', 'Z', 'Z', 'z'], dtype='<U1')"
      ]
     },
     "execution_count": 11,
     "metadata": {},
     "output_type": "execute_result"
    }
   ],
   "source": [
    "TrainLabel"
   ]
  },
  {
   "cell_type": "code",
   "execution_count": 12,
   "metadata": {},
   "outputs": [
    {
     "data": {
      "text/plain": [
       "['0',\n",
       " '1',\n",
       " '2',\n",
       " '3',\n",
       " '4',\n",
       " '5',\n",
       " '6',\n",
       " '7',\n",
       " '8',\n",
       " '9',\n",
       " 'A',\n",
       " 'B',\n",
       " 'C',\n",
       " 'D',\n",
       " 'E',\n",
       " 'F',\n",
       " 'G',\n",
       " 'H',\n",
       " 'I',\n",
       " 'J',\n",
       " 'K',\n",
       " 'L',\n",
       " 'M',\n",
       " 'N',\n",
       " 'O',\n",
       " 'P',\n",
       " 'Q',\n",
       " 'R',\n",
       " 'S',\n",
       " 'T',\n",
       " 'U',\n",
       " 'V',\n",
       " 'W',\n",
       " 'X',\n",
       " 'Y',\n",
       " 'Z',\n",
       " 'a',\n",
       " 'b',\n",
       " 'c',\n",
       " 'd',\n",
       " 'e',\n",
       " 'f',\n",
       " 'g',\n",
       " 'h',\n",
       " 'i',\n",
       " 'j',\n",
       " 'k',\n",
       " 'l',\n",
       " 'm',\n",
       " 'n',\n",
       " 'o',\n",
       " 'p',\n",
       " 'q',\n",
       " 'r',\n",
       " 's',\n",
       " 't',\n",
       " 'u',\n",
       " 'v',\n",
       " 'w',\n",
       " 'x',\n",
       " 'y',\n",
       " 'z']"
      ]
     },
     "execution_count": 12,
     "metadata": {},
     "output_type": "execute_result"
    }
   ],
   "source": [
    "sorted(list(set(TrainLabel)))"
   ]
  },
  {
   "attachments": {},
   "cell_type": "markdown",
   "metadata": {},
   "source": [
    "아하 대충  \n",
    "0 ~ 9  \n",
    "a ~ z  \n",
    "A ~ Z  \n",
    "가 있구나"
   ]
  },
  {
   "cell_type": "code",
   "execution_count": 13,
   "metadata": {},
   "outputs": [
    {
     "data": {
      "image/png": "[encoded data removed]",
      "text/plain": [
       "<Figure size 640x480 with 1 Axes>"
      ]
     },
     "metadata": {},
     "output_type": "display_data"
    },
    {
     "data": {
      "text/plain": [
       "'0'"
      ]
     },
     "execution_count": 13,
     "metadata": {},
     "output_type": "execute_result"
    }
   ],
   "source": [
    "plt.imshow(TrainSet[0], cmap = plt.cm.binary)\n",
    "plt.show()\n",
    "TrainLabel[0]"
   ]
  },
  {
   "cell_type": "code",
   "execution_count": 14,
   "metadata": {},
   "outputs": [
    {
     "data": {
      "image/png": "[encoded data removed]",
      "text/plain": [
       "<Figure size 640x480 with 1 Axes>"
      ]
     },
     "metadata": {},
     "output_type": "display_data"
    },
    {
     "data": {
      "text/plain": [
       "'r'"
      ]
     },
     "execution_count": 14,
     "metadata": {},
     "output_type": "execute_result"
    }
   ],
   "source": [
    "plt.imshow(TrainSet[500], cmap = plt.cm.binary)\n",
    "plt.show()\n",
    "TrainLabel[500]"
   ]
  },
  {
   "attachments": {},
   "cell_type": "markdown",
   "metadata": {},
   "source": [
    "Reshape 할 시간"
   ]
  },
  {
   "cell_type": "code",
   "execution_count": 15,
   "metadata": {},
   "outputs": [
    {
     "data": {
      "text/plain": [
       "(700, 40, 31)"
      ]
     },
     "execution_count": 15,
     "metadata": {},
     "output_type": "execute_result"
    }
   ],
   "source": [
    "TrainSet.shape"
   ]
  },
  {
   "cell_type": "code",
   "execution_count": 16,
   "metadata": {},
   "outputs": [],
   "source": [
    "TrainSet = TrainSet.reshape((700, 40 * 31))"
   ]
  },
  {
   "cell_type": "code",
   "execution_count": 17,
   "metadata": {},
   "outputs": [
    {
     "data": {
      "text/plain": [
       "(700, 1240)"
      ]
     },
     "execution_count": 17,
     "metadata": {},
     "output_type": "execute_result"
    }
   ],
   "source": [
    "TrainSet.shape"
   ]
  },
  {
   "cell_type": "code",
   "execution_count": 18,
   "metadata": {},
   "outputs": [
    {
     "data": {
      "text/plain": [
       "array([  0, 255], dtype=uint8)"
      ]
     },
     "execution_count": 18,
     "metadata": {},
     "output_type": "execute_result"
    }
   ],
   "source": [
    "np.unique(TrainSet)"
   ]
  },
  {
   "attachments": {},
   "cell_type": "markdown",
   "metadata": {},
   "source": [
    "0 과 255 밖에 없구나  \n",
    "0 과 1 로 변경해주자"
   ]
  },
  {
   "cell_type": "code",
   "execution_count": 19,
   "metadata": {},
   "outputs": [],
   "source": [
    "TrainSet = TrainSet / 255"
   ]
  },
  {
   "cell_type": "code",
   "execution_count": 20,
   "metadata": {},
   "outputs": [],
   "source": [
    "TrainSet = TrainSet.astype('float32')"
   ]
  },
  {
   "cell_type": "code",
   "execution_count": 21,
   "metadata": {},
   "outputs": [
    {
     "data": {
      "text/plain": [
       "array([0., 1.], dtype=float32)"
      ]
     },
     "execution_count": 21,
     "metadata": {},
     "output_type": "execute_result"
    }
   ],
   "source": [
    "np.unique(TrainSet)"
   ]
  },
  {
   "cell_type": "code",
   "execution_count": 22,
   "metadata": {},
   "outputs": [
    {
     "data": {
      "text/plain": [
       "array(['0', '1', '2', '3', '4', '5', '6', '7', '8', '9', 'A', 'B', 'C',\n",
       "       'D', 'E', 'F', 'G', 'H', 'I', 'J', 'K', 'L', 'M', 'N', 'O', 'P',\n",
       "       'Q', 'R', 'S', 'T', 'U', 'V', 'W', 'X', 'Y', 'Z', 'a', 'b', 'c',\n",
       "       'd', 'e', 'f', 'g', 'h', 'i', 'j', 'k', 'l', 'm', 'n', 'o', 'p',\n",
       "       'q', 'r', 's', 't', 'u', 'v', 'w', 'x', 'y', 'z'], dtype='<U1')"
      ]
     },
     "execution_count": 22,
     "metadata": {},
     "output_type": "execute_result"
    }
   ],
   "source": [
    "np.unique(TrainLabel)"
   ]
  },
  {
   "cell_type": "code",
   "execution_count": 23,
   "metadata": {},
   "outputs": [],
   "source": [
    "MapObj = { x:i for i, x in enumerate(np.unique(TrainLabel))}\n",
    "\n",
    "def to_categorical(Data):\n",
    "\tReturnObj = []\n",
    "\n",
    "\tObjLen = len(MapObj)\n",
    "\tfor label in Data:\n",
    "\t\tTemp = np.array([0. for _ in range(ObjLen)])\n",
    "\t\tTemp[MapObj[label]] = 1.\n",
    "\t\tReturnObj.append(Temp)\n",
    "\treturn np.array(ReturnObj)"
   ]
  },
  {
   "cell_type": "code",
   "execution_count": 24,
   "metadata": {},
   "outputs": [],
   "source": [
    "TrainLabel = to_categorical(TrainLabel).astype('float32')"
   ]
  },
  {
   "cell_type": "code",
   "execution_count": 25,
   "metadata": {},
   "outputs": [
    {
     "data": {
      "text/plain": [
       "array([[1., 0., 0., ..., 0., 0., 0.],\n",
       "       [1., 0., 0., ..., 0., 0., 0.],\n",
       "       [1., 0., 0., ..., 0., 0., 0.],\n",
       "       ...,\n",
       "       [0., 0., 0., ..., 0., 0., 0.],\n",
       "       [0., 0., 0., ..., 0., 0., 0.],\n",
       "       [0., 0., 0., ..., 0., 0., 1.]], dtype=float32)"
      ]
     },
     "execution_count": 25,
     "metadata": {},
     "output_type": "execute_result"
    }
   ],
   "source": [
    "TrainLabel"
   ]
  },
  {
   "cell_type": "code",
   "execution_count": 26,
   "metadata": {},
   "outputs": [
    {
     "data": {
      "text/plain": [
       "(700, 62)"
      ]
     },
     "execution_count": 26,
     "metadata": {},
     "output_type": "execute_result"
    }
   ],
   "source": [
    "TrainLabel.shape"
   ]
  },
  {
   "cell_type": "code",
   "execution_count": 27,
   "metadata": {},
   "outputs": [],
   "source": [
    "from keras import models\n",
    "from keras import layers"
   ]
  },
  {
   "cell_type": "code",
   "execution_count": 28,
   "metadata": {},
   "outputs": [
    {
     "data": {
      "text/plain": [
       "1240"
      ]
     },
     "execution_count": 28,
     "metadata": {},
     "output_type": "execute_result"
    }
   ],
   "source": [
    "Width * Height"
   ]
  },
  {
   "attachments": {},
   "cell_type": "markdown",
   "metadata": {},
   "source": [
    "1240 : 입력"
   ]
  },
  {
   "cell_type": "code",
   "execution_count": 29,
   "metadata": {},
   "outputs": [
    {
     "data": {
      "text/plain": [
       "(700, 62)"
      ]
     },
     "execution_count": 29,
     "metadata": {},
     "output_type": "execute_result"
    }
   ],
   "source": [
    "TrainLabel.shape"
   ]
  },
  {
   "attachments": {},
   "cell_type": "markdown",
   "metadata": {},
   "source": [
    "62 : 출력"
   ]
  },
  {
   "cell_type": "code",
   "execution_count": 30,
   "metadata": {},
   "outputs": [],
   "source": [
    "model = models.Sequential([\n",
    "\tlayers.Dense(512, activation = 'relu', input_shape = (1240, )),\n",
    "\tlayers.Dense(256, activation = 'relu',),\n",
    "\tlayers.Dense(128, activation = 'relu',),\n",
    "\tlayers.Dense(64, activation = 'relu',),\n",
    "\n",
    "\tlayers.Dense(62, activation = 'softmax',), # 숫자가 10개이므로 저렇게 함 / softmax 는 좀 공부하기로\n",
    "])"
   ]
  },
  {
   "cell_type": "code",
   "execution_count": 31,
   "metadata": {},
   "outputs": [],
   "source": [
    "model.compile(\n",
    "\toptimizer = 'rmsprop',\n",
    "\tloss = 'categorical_crossentropy',\n",
    "\tmetrics = ['accuracy']\n",
    ")"
   ]
  },
  {
   "cell_type": "code",
   "execution_count": 32,
   "metadata": {},
   "outputs": [
    {
     "name": "stdout",
     "output_type": "stream",
     "text": [
      "Epoch 1/10\n",
      "6/6 [==============================] - 1s 14ms/step - loss: 3.7875 - accuracy: 0.1114\n",
      "Epoch 2/10\n",
      "6/6 [==============================] - 0s 12ms/step - loss: 2.7700 - accuracy: 0.3729\n",
      "Epoch 3/10\n",
      "6/6 [==============================] - 0s 11ms/step - loss: 1.5441 - accuracy: 0.6829\n",
      "Epoch 4/10\n",
      "6/6 [==============================] - 0s 12ms/step - loss: 0.8433 - accuracy: 0.8414\n",
      "Epoch 5/10\n",
      "6/6 [==============================] - 0s 11ms/step - loss: 0.1954 - accuracy: 0.9900\n",
      "Epoch 6/10\n",
      "6/6 [==============================] - 0s 12ms/step - loss: 0.0427 - accuracy: 1.0000\n",
      "Epoch 7/10\n",
      "6/6 [==============================] - 0s 11ms/step - loss: 0.0213 - accuracy: 1.0000\n",
      "Epoch 8/10\n",
      "6/6 [==============================] - 0s 11ms/step - loss: 0.0126 - accuracy: 1.0000\n",
      "Epoch 9/10\n",
      "6/6 [==============================] - 0s 10ms/step - loss: 0.0081 - accuracy: 1.0000\n",
      "Epoch 10/10\n",
      "6/6 [==============================] - 0s 10ms/step - loss: 0.0054 - accuracy: 1.0000\n"
     ]
    },
    {
     "data": {
      "text/plain": [
       "<keras.callbacks.History at 0x1eb039de5c0>"
      ]
     },
     "execution_count": 32,
     "metadata": {},
     "output_type": "execute_result"
    }
   ],
   "source": [
    "model.fit(TrainSet, TrainLabel, epochs = 10, batch_size = 128)"
   ]
  },
  {
   "cell_type": "code",
   "execution_count": 33,
   "metadata": {},
   "outputs": [
    {
     "name": "stdout",
     "output_type": "stream",
     "text": [
      "Model: \"sequential\"\n",
      "_________________________________________________________________\n",
      " Layer (type)                Output Shape              Param #   \n",
      "=================================================================\n",
      " dense (Dense)               (None, 512)               635392    \n",
      "                                                                 \n",
      " dense_1 (Dense)             (None, 256)               131328    \n",
      "                                                                 \n",
      " dense_2 (Dense)             (None, 128)               32896     \n",
      "                                                                 \n",
      " dense_3 (Dense)             (None, 64)                8256      \n",
      "                                                                 \n",
      " dense_4 (Dense)             (None, 62)                4030      \n",
      "                                                                 \n",
      "=================================================================\n",
      "Total params: 811,902\n",
      "Trainable params: 811,902\n",
      "Non-trainable params: 0\n",
      "_________________________________________________________________\n"
     ]
    }
   ],
   "source": [
    "model.summary()"
   ]
  },
  {
   "cell_type": "code",
   "execution_count": 34,
   "metadata": {},
   "outputs": [],
   "source": [
    "MapObjSwap = dict([(value, key) for key, value in MapObj.items()])\n",
    "\n",
    "def PredictArrayToNum(Prediction):\n",
    "\tMaxPercent = 0\n",
    "\tResult = \"?\"\n",
    "\tfor i, Percent in enumerate(Prediction):\n",
    "\t\tif Percent > MaxPercent:\n",
    "\t\t\tMaxPercent = Percent\n",
    "\t\t\tResult = MapObjSwap[i]\n",
    "\treturn (Result, MaxPercent)\n",
    "\n",
    "def PredictIt(Images, Labels, Num):\n",
    "\tMapObj.get('')\n",
    "\tplt.imshow(Images[Num].reshape(Height,Width), cmap = plt.cm.binary)\n",
    "\tPrediction = model.predict(np.array(\n",
    "\t\t[ Images[Num] ]\n",
    "\t))\n",
    "\treturn (PredictArrayToNum(Prediction.tolist()[0]),\n",
    "\t\t\tPredictArrayToNum(Labels[Num]))"
   ]
  },
  {
   "cell_type": "code",
   "execution_count": 35,
   "metadata": {},
   "outputs": [],
   "source": [
    "def GetPredictText(TupleValue):\n",
    "\tprint(f\"예측 : {TupleValue[0][0]} - {TupleValue[0][1] * 100}% / 정답 : {TupleValue[1][0]}\")"
   ]
  },
  {
   "cell_type": "code",
   "execution_count": 36,
   "metadata": {},
   "outputs": [
    {
     "name": "stdout",
     "output_type": "stream",
     "text": [
      "1/1 [==============================] - 0s 131ms/step\n",
      "예측 : 6 - 99.82507824897766% / 정답 : 6\n"
     ]
    },
    {
     "data": {
      "image/png": "[encoded data removed]",
      "text/plain": [
       "<Figure size 640x480 with 1 Axes>"
      ]
     },
     "metadata": {},
     "output_type": "display_data"
    }
   ],
   "source": [
    "GetPredictText(PredictIt(TrainSet, TrainLabel, 77))"
   ]
  },
  {
   "cell_type": "code",
   "execution_count": 37,
   "metadata": {},
   "outputs": [],
   "source": [
    "import random"
   ]
  },
  {
   "cell_type": "code",
   "execution_count": 38,
   "metadata": {},
   "outputs": [
    {
     "name": "stdout",
     "output_type": "stream",
     "text": [
      "1/1 [==============================] - 0s 24ms/step\n",
      "예측 : s - 98.69406819343567% / 정답 : s\n"
     ]
    },
    {
     "data": {
      "image/png": "[encoded data removed]",
      "text/plain": [
       "<Figure size 640x480 with 1 Axes>"
      ]
     },
     "metadata": {},
     "output_type": "display_data"
    }
   ],
   "source": [
    "GetPredictText(PredictIt(TrainSet, TrainLabel, random.randint(0, len(TrainSet)-1)))"
   ]
  },
  {
   "cell_type": "code",
   "execution_count": 39,
   "metadata": {},
   "outputs": [
    {
     "name": "stdout",
     "output_type": "stream",
     "text": [
      "22/22 [==============================] - 0s 4ms/step - loss: 0.0042 - accuracy: 1.0000\n"
     ]
    },
    {
     "data": {
      "text/plain": [
       "[0.0041580041870474815, 1.0]"
      ]
     },
     "execution_count": 39,
     "metadata": {},
     "output_type": "execute_result"
    }
   ],
   "source": [
    "model.evaluate(TrainSet, TrainLabel)"
   ]
  },
  {
   "attachments": {},
   "cell_type": "markdown",
   "metadata": {},
   "source": [
    "이제 Train, Test 나눠서 테스트해보자"
   ]
  },
  {
   "cell_type": "code",
   "execution_count": 40,
   "metadata": {},
   "outputs": [],
   "source": [
    "TrainSet, TestSet, TrainLabel, TestLabel = train_test_split(\n",
    "\tTrainSet,\n",
    "\tTrainLabel,\n",
    "\ttest_size = 0.2,\n",
    "\trandom_state = 123,\n",
    ")"
   ]
  },
  {
   "cell_type": "code",
   "execution_count": 41,
   "metadata": {},
   "outputs": [
    {
     "data": {
      "text/plain": [
       "(560, 140)"
      ]
     },
     "execution_count": 41,
     "metadata": {},
     "output_type": "execute_result"
    }
   ],
   "source": [
    "len(TrainSet), len(TestSet)"
   ]
  },
  {
   "attachments": {},
   "cell_type": "markdown",
   "metadata": {},
   "source": [
    "이제 모델을 리셋시켜주자"
   ]
  },
  {
   "cell_type": "code",
   "execution_count": 47,
   "metadata": {},
   "outputs": [],
   "source": [
    "model = models.Sequential([\n",
    "\tlayers.Dense(512, activation = 'relu', input_shape = (1240, )),\n",
    "\tlayers.Dense(256, activation = 'relu',),\n",
    "\tlayers.Dense(128, activation = 'relu',),\n",
    "\tlayers.Dense(64, activation = 'relu',),\n",
    "\n",
    "\tlayers.Dense(62, activation = 'softmax',), # 숫자가 10개이므로 저렇게 함 / softmax 는 좀 공부하기로\n",
    "])"
   ]
  },
  {
   "cell_type": "code",
   "execution_count": 48,
   "metadata": {},
   "outputs": [],
   "source": [
    "model.compile(\n",
    "\toptimizer = 'rmsprop',\n",
    "\tloss = 'categorical_crossentropy',\n",
    "\tmetrics = ['accuracy']\n",
    ")"
   ]
  },
  {
   "cell_type": "code",
   "execution_count": 49,
   "metadata": {},
   "outputs": [
    {
     "name": "stdout",
     "output_type": "stream",
     "text": [
      "Epoch 1/10\n",
      "5/5 [==============================] - 1s 14ms/step - loss: 3.9386 - accuracy: 0.0786\n",
      "Epoch 2/10\n",
      "5/5 [==============================] - 0s 17ms/step - loss: 2.9269 - accuracy: 0.3536\n",
      "Epoch 3/10\n",
      "5/5 [==============================] - 0s 15ms/step - loss: 1.8721 - accuracy: 0.5857\n",
      "Epoch 4/10\n",
      "5/5 [==============================] - 0s 16ms/step - loss: 0.8645 - accuracy: 0.8589\n",
      "Epoch 5/10\n",
      "5/5 [==============================] - 0s 17ms/step - loss: 0.3703 - accuracy: 0.9536\n",
      "Epoch 6/10\n",
      "5/5 [==============================] - 0s 16ms/step - loss: 0.0704 - accuracy: 1.0000\n",
      "Epoch 7/10\n",
      "5/5 [==============================] - 0s 16ms/step - loss: 0.0326 - accuracy: 1.0000\n",
      "Epoch 8/10\n",
      "5/5 [==============================] - 0s 14ms/step - loss: 0.0188 - accuracy: 1.0000\n",
      "Epoch 9/10\n",
      "5/5 [==============================] - 0s 11ms/step - loss: 0.0124 - accuracy: 1.0000\n",
      "Epoch 10/10\n",
      "5/5 [==============================] - 0s 13ms/step - loss: 0.0084 - accuracy: 1.0000\n"
     ]
    },
    {
     "data": {
      "text/plain": [
       "<keras.callbacks.History at 0x1eb0688f070>"
      ]
     },
     "execution_count": 49,
     "metadata": {},
     "output_type": "execute_result"
    }
   ],
   "source": [
    "model.fit(TrainSet, TrainLabel, epochs = 10, batch_size = 128)"
   ]
  },
  {
   "cell_type": "code",
   "execution_count": 53,
   "metadata": {},
   "outputs": [
    {
     "name": "stdout",
     "output_type": "stream",
     "text": [
      "5/5 [==============================] - 0s 5ms/step - loss: 0.0176 - accuracy: 1.0000\n"
     ]
    },
    {
     "data": {
      "text/plain": [
       "[0.017607785761356354, 1.0]"
      ]
     },
     "execution_count": 53,
     "metadata": {},
     "output_type": "execute_result"
    }
   ],
   "source": [
    "model.evaluate(TestSet, TestLabel)"
   ]
  },
  {
   "attachments": {},
   "cell_type": "markdown",
   "metadata": {},
   "source": [
    "오 정확도가 100% 나왔다!"
   ]
  }
 ],
 "metadata": {
  "kernelspec": {
   "display_name": "Python 3",
   "language": "python",
   "name": "python3"
  },
  "language_info": {
   "codemirror_mode": {
    "name": "ipython",
    "version": 3
   },
   "file_extension": ".py",
   "mimetype": "text/x-python",
   "name": "python",
   "nbconvert_exporter": "python",
   "pygments_lexer": "ipython3",
   "version": "3.10.5"
  },
  "orig_nbformat": 4,
  "vscode": {
   "interpreter": {
    "hash": "cde9198c2e8e91a0b91670eed1e26ed14d52c99f31af54ead9171463984fcc7e"
   }
  }
 },
 "nbformat": 4,
 "nbformat_minor": 2
}
