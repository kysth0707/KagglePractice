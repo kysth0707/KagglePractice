{
 "cells": [
  {
   "attachments": {},
   "cell_type": "markdown",
   "metadata": {},
   "source": [
    "https://codetorial.net/tensorflow/classifying_the_cats_and_dogs.html"
   ]
  },
  {
   "cell_type": "code",
   "execution_count": 1,
   "metadata": {},
   "outputs": [],
   "source": [
    "import tensorflow as tf\n",
    "from tensorflow.keras import layers\n",
    "from tensorflow.keras.models import Sequential\n",
    "import os"
   ]
  },
  {
   "cell_type": "code",
   "execution_count": 2,
   "metadata": {},
   "outputs": [],
   "source": [
    "TrainDir = r'E:\\GithubProjects\\KagglePractice\\HelmetDetection\\Datasets\\train'\n",
    "ValDir = r'E:\\GithubProjects\\KagglePractice\\HelmetDetection\\Datasets\\val'"
   ]
  },
  {
   "cell_type": "code",
   "execution_count": 3,
   "metadata": {},
   "outputs": [],
   "source": [
    "Width, Height = (100, 100)"
   ]
  },
  {
   "cell_type": "code",
   "execution_count": 4,
   "metadata": {},
   "outputs": [],
   "source": [
    "model = Sequential([\n",
    "\tlayers.Conv2D(16, (3, 3), activation='relu', input_shape = (Height, Width, 3)),\n",
    "\tlayers.MaxPooling2D(2, 2),\n",
    "\tlayers.Conv2D(32, (3, 3), activation='relu'),\n",
    "\tlayers.MaxPooling2D(2, 2),\n",
    "\tlayers.Conv2D(64, (3, 3), activation='relu'),\n",
    "\tlayers.MaxPooling2D(2, 2),\n",
    "\tlayers.Flatten(),\n",
    "\tlayers.Dense(512, activation='relu'),\n",
    "\tlayers.Dense(1, activation='sigmoid')\n",
    "])"
   ]
  },
  {
   "cell_type": "code",
   "execution_count": 5,
   "metadata": {},
   "outputs": [
    {
     "name": "stdout",
     "output_type": "stream",
     "text": [
      "Model: \"sequential\"\n",
      "_________________________________________________________________\n",
      " Layer (type)                Output Shape              Param #   \n",
      "=================================================================\n",
      " conv2d (Conv2D)             (None, 98, 98, 16)        448       \n",
      "                                                                 \n",
      " max_pooling2d (MaxPooling2D  (None, 49, 49, 16)       0         \n",
      " )                                                               \n",
      "                                                                 \n",
      " conv2d_1 (Conv2D)           (None, 47, 47, 32)        4640      \n",
      "                                                                 \n",
      " max_pooling2d_1 (MaxPooling  (None, 23, 23, 32)       0         \n",
      " 2D)                                                             \n",
      "                                                                 \n",
      " conv2d_2 (Conv2D)           (None, 21, 21, 64)        18496     \n",
      "                                                                 \n",
      " max_pooling2d_2 (MaxPooling  (None, 10, 10, 64)       0         \n",
      " 2D)                                                             \n",
      "                                                                 \n",
      " flatten (Flatten)           (None, 6400)              0         \n",
      "                                                                 \n",
      " dense (Dense)               (None, 512)               3277312   \n",
      "                                                                 \n",
      " dense_1 (Dense)             (None, 1)                 513       \n",
      "                                                                 \n",
      "=================================================================\n",
      "Total params: 3,301,409\n",
      "Trainable params: 3,301,409\n",
      "Non-trainable params: 0\n",
      "_________________________________________________________________\n"
     ]
    }
   ],
   "source": [
    "model.summary()"
   ]
  },
  {
   "cell_type": "code",
   "execution_count": 6,
   "metadata": {},
   "outputs": [
    {
     "name": "stderr",
     "output_type": "stream",
     "text": [
      "c:\\Users\\th070\\AppData\\Local\\Programs\\Python\\Python310\\lib\\site-packages\\keras\\optimizers\\optimizer_v2\\rmsprop.py:140: UserWarning: The `lr` argument is deprecated, use `learning_rate` instead.\n",
      "  super().__init__(name, **kwargs)\n"
     ]
    }
   ],
   "source": [
    "from tensorflow.keras.optimizers import RMSprop\n",
    "\n",
    "model.compile(\n",
    "\toptimizer = RMSprop(lr = 0.01),\n",
    "\tloss = 'binary_crossentropy',\n",
    "\tmetrics = ['accuracy']\n",
    ")"
   ]
  },
  {
   "cell_type": "code",
   "execution_count": 7,
   "metadata": {},
   "outputs": [
    {
     "name": "stdout",
     "output_type": "stream",
     "text": [
      "Found 975 images belonging to 2 classes.\n",
      "Found 337 images belonging to 2 classes.\n"
     ]
    }
   ],
   "source": [
    "from tensorflow.keras.preprocessing.image import ImageDataGenerator\n",
    "\n",
    "TrainDataGenerator = ImageDataGenerator( rescale = 1.0/255. )\n",
    "TestDataGenerate  = ImageDataGenerator( rescale = 1.0/255. )\n",
    "\n",
    "TrainData = TrainDataGenerator.flow_from_directory(TrainDir,\n",
    "\t\t\t\t\t\t\t\t\t\t\t\t\tbatch_size=20,\n",
    "\t\t\t\t\t\t\t\t\t\t\t\t\tclass_mode='binary',\n",
    "\t\t\t\t\t\t\t\t\t\t\t\t\ttarget_size=(Height, Width))\n",
    "ValidationData =  TestDataGenerate.flow_from_directory(ValDir,\n",
    "\t\t\t\t\t\t\t\t\t\t\t\t\t\tbatch_size=20,\n",
    "\t\t\t\t\t\t\t\t\t\t\t\t\t\tclass_mode  = 'binary',\n",
    "\t\t\t\t\t\t\t\t\t\t\t\t\t\ttarget_size = (Height, Width))"
   ]
  },
  {
   "cell_type": "code",
   "execution_count": 10,
   "metadata": {},
   "outputs": [
    {
     "name": "stdout",
     "output_type": "stream",
     "text": [
      "Epoch 1/5\n",
      "49/49 [==============================] - 7s 152ms/step - loss: 2.4299 - accuracy: 0.9385 - val_loss: 0.1450 - val_accuracy: 0.9763\n",
      "Epoch 2/5\n",
      "49/49 [==============================] - 7s 150ms/step - loss: 0.1206 - accuracy: 0.9754 - val_loss: 0.0161 - val_accuracy: 0.9970\n",
      "Epoch 3/5\n",
      "49/49 [==============================] - 7s 144ms/step - loss: 0.1518 - accuracy: 0.9754 - val_loss: 0.0382 - val_accuracy: 0.9881\n",
      "Epoch 4/5\n",
      "49/49 [==============================] - 7s 141ms/step - loss: 0.0667 - accuracy: 0.9887 - val_loss: 0.0806 - val_accuracy: 0.9911\n",
      "Epoch 5/5\n",
      "49/49 [==============================] - 7s 141ms/step - loss: 0.0963 - accuracy: 0.9826 - val_loss: 0.0024 - val_accuracy: 1.0000\n"
     ]
    },
    {
     "data": {
      "text/plain": [
       "<keras.callbacks.History at 0x1cdaf22de10>"
      ]
     },
     "execution_count": 10,
     "metadata": {},
     "output_type": "execute_result"
    }
   ],
   "source": [
    "model.fit(TrainData,\n",
    "\t\tvalidation_data = ValidationData,\n",
    "\t\tepochs = 5)"
   ]
  },
  {
   "cell_type": "code",
   "execution_count": 11,
   "metadata": {},
   "outputs": [],
   "source": [
    "model.save(r'E:\\GithubProjects\\KagglePractice\\HelmetDetection\\models\\HelmetDetectionModel.h5')"
   ]
  }
 ],
 "metadata": {
  "kernelspec": {
   "display_name": "Python 3",
   "language": "python",
   "name": "python3"
  },
  "language_info": {
   "codemirror_mode": {
    "name": "ipython",
    "version": 3
   },
   "file_extension": ".py",
   "mimetype": "text/x-python",
   "name": "python",
   "nbconvert_exporter": "python",
   "pygments_lexer": "ipython3",
   "version": "3.10.5"
  },
  "orig_nbformat": 4,
  "vscode": {
   "interpreter": {
    "hash": "cde9198c2e8e91a0b91670eed1e26ed14d52c99f31af54ead9171463984fcc7e"
   }
  }
 },
 "nbformat": 4,
 "nbformat_minor": 2
}
