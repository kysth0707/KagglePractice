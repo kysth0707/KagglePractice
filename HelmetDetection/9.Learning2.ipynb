{
 "cells": [
  {
   "attachments": {},
   "cell_type": "markdown",
   "metadata": {},
   "source": [
    "https://codetorial.net/tensorflow/classifying_the_cats_and_dogs.html"
   ]
  },
  {
   "cell_type": "code",
   "execution_count": 1,
   "metadata": {},
   "outputs": [],
   "source": [
    "import tensorflow as tf\n",
    "from tensorflow.keras import layers\n",
    "from tensorflow.keras.models import Sequential\n",
    "import os"
   ]
  },
  {
   "cell_type": "code",
   "execution_count": 2,
   "metadata": {},
   "outputs": [],
   "source": [
    "TrainDir = r'E:\\GithubProjects\\KagglePractice\\HelmetDetection\\Datasets\\train'\n",
    "ValDir = r'E:\\GithubProjects\\KagglePractice\\HelmetDetection\\Datasets\\val'"
   ]
  },
  {
   "cell_type": "code",
   "execution_count": 3,
   "metadata": {},
   "outputs": [],
   "source": [
    "Width, Height = (100, 100)"
   ]
  },
  {
   "cell_type": "code",
   "execution_count": 4,
   "metadata": {},
   "outputs": [],
   "source": [
    "model = Sequential([\n",
    "\tlayers.Conv2D(16, (3, 3), activation='relu', input_shape = (Height, Width, 3)),\n",
    "\tlayers.MaxPooling2D(2, 2),\n",
    "\tlayers.Conv2D(32, (3, 3), activation='relu'),\n",
    "\tlayers.MaxPooling2D(2, 2),\n",
    "\tlayers.Conv2D(64, (3, 3), activation='relu'),\n",
    "\tlayers.MaxPooling2D(2, 2),\n",
    "\tlayers.Flatten(),\n",
    "\tlayers.Dense(512, activation='relu'),\n",
    "\tlayers.Dense(1, activation='sigmoid')\n",
    "])"
   ]
  },
  {
   "cell_type": "code",
   "execution_count": 5,
   "metadata": {},
   "outputs": [
    {
     "name": "stdout",
     "output_type": "stream",
     "text": [
      "Model: \"sequential\"\n",
      "_________________________________________________________________\n",
      " Layer (type)                Output Shape              Param #   \n",
      "=================================================================\n",
      " conv2d (Conv2D)             (None, 98, 98, 16)        448       \n",
      "                                                                 \n",
      " max_pooling2d (MaxPooling2D  (None, 49, 49, 16)       0         \n",
      " )                                                               \n",
      "                                                                 \n",
      " conv2d_1 (Conv2D)           (None, 47, 47, 32)        4640      \n",
      "                                                                 \n",
      " max_pooling2d_1 (MaxPooling  (None, 23, 23, 32)       0         \n",
      " 2D)                                                             \n",
      "                                                                 \n",
      " conv2d_2 (Conv2D)           (None, 21, 21, 64)        18496     \n",
      "                                                                 \n",
      " max_pooling2d_2 (MaxPooling  (None, 10, 10, 64)       0         \n",
      " 2D)                                                             \n",
      "                                                                 \n",
      " flatten (Flatten)           (None, 6400)              0         \n",
      "                                                                 \n",
      " dense (Dense)               (None, 512)               3277312   \n",
      "                                                                 \n",
      " dense_1 (Dense)             (None, 1)                 513       \n",
      "                                                                 \n",
      "=================================================================\n",
      "Total params: 3,301,409\n",
      "Trainable params: 3,301,409\n",
      "Non-trainable params: 0\n",
      "_________________________________________________________________\n"
     ]
    }
   ],
   "source": [
    "model.summary()"
   ]
  },
  {
   "cell_type": "code",
   "execution_count": 6,
   "metadata": {},
   "outputs": [
    {
     "name": "stderr",
     "output_type": "stream",
     "text": [
      "c:\\Users\\th070\\AppData\\Local\\Programs\\Python\\Python310\\lib\\site-packages\\keras\\optimizers\\optimizer_v2\\rmsprop.py:140: UserWarning: The `lr` argument is deprecated, use `learning_rate` instead.\n",
      "  super().__init__(name, **kwargs)\n"
     ]
    }
   ],
   "source": [
    "from tensorflow.keras.optimizers import RMSprop\n",
    "\n",
    "model.compile(\n",
    "\toptimizer = RMSprop(lr = 0.01),\n",
    "\tloss = 'binary_crossentropy',\n",
    "\tmetrics = ['accuracy']\n",
    ")"
   ]
  },
  {
   "attachments": {},
   "cell_type": "markdown",
   "metadata": {},
   "source": [
    "실수로 Train 과 Validation 폴더를 바꿔버렸으니 아래처럼 바꿔서 지정"
   ]
  },
  {
   "cell_type": "code",
   "execution_count": 9,
   "metadata": {},
   "outputs": [
    {
     "name": "stdout",
     "output_type": "stream",
     "text": [
      "Found 200 images belonging to 2 classes.\n",
      "Found 753 images belonging to 2 classes.\n"
     ]
    }
   ],
   "source": [
    "from tensorflow.keras.preprocessing.image import ImageDataGenerator\n",
    "\n",
    "TrainDataGenerator = ImageDataGenerator( rescale = 1.0/255. )\n",
    "TestDataGenerate  = ImageDataGenerator( rescale = 1.0/255. )\n",
    "\n",
    "ValidationData = TrainDataGenerator.flow_from_directory(TrainDir,\n",
    "\t\t\t\t\t\t\t\t\t\t\t\t\tbatch_size=20,\n",
    "\t\t\t\t\t\t\t\t\t\t\t\t\tclass_mode='binary',\n",
    "\t\t\t\t\t\t\t\t\t\t\t\t\ttarget_size=(Height, Width))\n",
    "TrainData =  TestDataGenerate.flow_from_directory(ValDir,\n",
    "\t\t\t\t\t\t\t\t\t\t\t\t\t\tbatch_size=20,\n",
    "\t\t\t\t\t\t\t\t\t\t\t\t\t\tclass_mode  = 'binary',\n",
    "\t\t\t\t\t\t\t\t\t\t\t\t\t\ttarget_size = (Height, Width))"
   ]
  },
  {
   "cell_type": "code",
   "execution_count": 11,
   "metadata": {},
   "outputs": [
    {
     "name": "stdout",
     "output_type": "stream",
     "text": [
      "Epoch 1/100\n",
      "38/38 [==============================] - 4s 117ms/step - loss: 1.2980 - accuracy: 0.9548 - val_loss: 0.4270 - val_accuracy: 0.9350\n",
      "Epoch 2/100\n",
      "38/38 [==============================] - 4s 114ms/step - loss: 0.0585 - accuracy: 0.9920 - val_loss: 5.2627 - val_accuracy: 0.6800\n",
      "Epoch 3/100\n",
      "38/38 [==============================] - 4s 116ms/step - loss: 0.2754 - accuracy: 0.9588 - val_loss: 0.2515 - val_accuracy: 0.9550\n",
      "Epoch 4/100\n",
      "38/38 [==============================] - 4s 115ms/step - loss: 0.2730 - accuracy: 0.9748 - val_loss: 0.2755 - val_accuracy: 0.9350\n",
      "Epoch 5/100\n",
      "38/38 [==============================] - 4s 115ms/step - loss: 0.1673 - accuracy: 0.9708 - val_loss: 0.2948 - val_accuracy: 0.9200\n",
      "Epoch 6/100\n",
      "38/38 [==============================] - 5s 118ms/step - loss: 0.2075 - accuracy: 0.9774 - val_loss: 0.2534 - val_accuracy: 0.9250\n",
      "Epoch 7/100\n",
      "38/38 [==============================] - 4s 117ms/step - loss: 0.6103 - accuracy: 0.9562 - val_loss: 1.1098 - val_accuracy: 0.9550\n",
      "Epoch 8/100\n",
      "38/38 [==============================] - 5s 120ms/step - loss: 0.6651 - accuracy: 0.9668 - val_loss: 0.2661 - val_accuracy: 0.9450\n",
      "Epoch 9/100\n",
      "38/38 [==============================] - 4s 117ms/step - loss: 0.0738 - accuracy: 0.9880 - val_loss: 67.9604 - val_accuracy: 0.5000\n",
      "Epoch 10/100\n",
      "38/38 [==============================] - 5s 119ms/step - loss: 1.8901 - accuracy: 0.9628 - val_loss: 2.3227 - val_accuracy: 0.9300\n",
      "Epoch 11/100\n",
      "38/38 [==============================] - 4s 118ms/step - loss: 0.1206 - accuracy: 0.9867 - val_loss: 0.3206 - val_accuracy: 0.9800\n",
      "Epoch 12/100\n",
      "38/38 [==============================] - 5s 119ms/step - loss: 0.2029 - accuracy: 0.9827 - val_loss: 1.0098 - val_accuracy: 0.9350\n",
      "Epoch 13/100\n",
      "38/38 [==============================] - 5s 126ms/step - loss: 0.1060 - accuracy: 0.9827 - val_loss: 0.3432 - val_accuracy: 0.9350\n",
      "Epoch 14/100\n",
      "38/38 [==============================] - 5s 128ms/step - loss: 0.2866 - accuracy: 0.9721 - val_loss: 0.4430 - val_accuracy: 0.9550\n",
      "Epoch 15/100\n",
      "38/38 [==============================] - 5s 120ms/step - loss: 3.4240 - accuracy: 0.9668 - val_loss: 0.5352 - val_accuracy: 0.9700\n",
      "Epoch 16/100\n",
      "38/38 [==============================] - 5s 122ms/step - loss: 0.0329 - accuracy: 0.9960 - val_loss: 11.4741 - val_accuracy: 0.8700\n",
      "Epoch 17/100\n",
      "38/38 [==============================] - 5s 121ms/step - loss: 1.1616 - accuracy: 0.9602 - val_loss: 1.2621 - val_accuracy: 0.9500\n",
      "Epoch 18/100\n",
      "38/38 [==============================] - 5s 121ms/step - loss: 0.1904 - accuracy: 0.9721 - val_loss: 1.3843 - val_accuracy: 0.9550\n",
      "Epoch 19/100\n",
      "38/38 [==============================] - 5s 122ms/step - loss: 0.2507 - accuracy: 0.9894 - val_loss: 0.2625 - val_accuracy: 0.9750\n",
      "Epoch 20/100\n",
      "38/38 [==============================] - 5s 124ms/step - loss: 0.5030 - accuracy: 0.9681 - val_loss: 2.7251 - val_accuracy: 0.9600\n",
      "Epoch 21/100\n",
      "38/38 [==============================] - 5s 122ms/step - loss: 0.1040 - accuracy: 0.9894 - val_loss: 1.2145 - val_accuracy: 0.9700\n",
      "Epoch 22/100\n",
      "38/38 [==============================] - 5s 120ms/step - loss: 0.0596 - accuracy: 0.9947 - val_loss: 1.0316 - val_accuracy: 0.9750\n",
      "Epoch 23/100\n",
      "38/38 [==============================] - 5s 121ms/step - loss: 0.1273 - accuracy: 0.9841 - val_loss: 1.0229 - val_accuracy: 0.9600\n",
      "Epoch 24/100\n",
      "38/38 [==============================] - 5s 119ms/step - loss: 0.2332 - accuracy: 0.9867 - val_loss: 1.4706 - val_accuracy: 0.9650\n",
      "Epoch 25/100\n",
      "38/38 [==============================] - 5s 123ms/step - loss: 0.0411 - accuracy: 0.9947 - val_loss: 0.4006 - val_accuracy: 0.9600\n",
      "Epoch 26/100\n",
      "38/38 [==============================] - 5s 122ms/step - loss: 0.0012 - accuracy: 1.0000 - val_loss: 0.4825 - val_accuracy: 0.9700\n",
      "Epoch 27/100\n",
      "38/38 [==============================] - 5s 120ms/step - loss: 7.5402e-05 - accuracy: 1.0000 - val_loss: 0.5648 - val_accuracy: 0.9650\n",
      "Epoch 28/100\n",
      "38/38 [==============================] - 5s 123ms/step - loss: 5.3486 - accuracy: 0.9788 - val_loss: 1.4777 - val_accuracy: 0.9600\n",
      "Epoch 29/100\n",
      "38/38 [==============================] - 5s 122ms/step - loss: 3.9851e-05 - accuracy: 1.0000 - val_loss: 1.8078 - val_accuracy: 0.9600\n",
      "Epoch 30/100\n",
      "38/38 [==============================] - 5s 121ms/step - loss: 1.3174e-10 - accuracy: 1.0000 - val_loss: 1.8080 - val_accuracy: 0.9600\n",
      "Epoch 31/100\n",
      "38/38 [==============================] - 5s 123ms/step - loss: 1.1956e-10 - accuracy: 1.0000 - val_loss: 1.8085 - val_accuracy: 0.9600\n",
      "Epoch 32/100\n",
      "38/38 [==============================] - 5s 120ms/step - loss: 1.0098e-10 - accuracy: 1.0000 - val_loss: 1.8101 - val_accuracy: 0.9600\n",
      "Epoch 33/100\n",
      "38/38 [==============================] - 5s 120ms/step - loss: 7.9490e-11 - accuracy: 1.0000 - val_loss: 1.8101 - val_accuracy: 0.9600\n",
      "Epoch 34/100\n",
      "38/38 [==============================] - 5s 121ms/step - loss: 7.9491e-11 - accuracy: 1.0000 - val_loss: 1.8101 - val_accuracy: 0.9600\n",
      "Epoch 35/100\n",
      "38/38 [==============================] - 5s 121ms/step - loss: 7.9494e-11 - accuracy: 1.0000 - val_loss: 1.8101 - val_accuracy: 0.9600\n",
      "Epoch 36/100\n",
      "38/38 [==============================] - 5s 121ms/step - loss: 7.9501e-11 - accuracy: 1.0000 - val_loss: 1.8101 - val_accuracy: 0.9600\n",
      "Epoch 37/100\n",
      "38/38 [==============================] - 5s 120ms/step - loss: 7.9509e-11 - accuracy: 1.0000 - val_loss: 1.8101 - val_accuracy: 0.9600\n",
      "Epoch 38/100\n",
      "38/38 [==============================] - 5s 123ms/step - loss: 7.9550e-11 - accuracy: 1.0000 - val_loss: 1.8100 - val_accuracy: 0.9600\n",
      "Epoch 39/100\n",
      "38/38 [==============================] - 5s 121ms/step - loss: 7.9620e-11 - accuracy: 1.0000 - val_loss: 1.8100 - val_accuracy: 0.9600\n",
      "Epoch 40/100\n",
      "38/38 [==============================] - 5s 125ms/step - loss: 7.9633e-11 - accuracy: 1.0000 - val_loss: 1.8100 - val_accuracy: 0.9600\n",
      "Epoch 41/100\n",
      "38/38 [==============================] - 5s 123ms/step - loss: 7.9741e-11 - accuracy: 1.0000 - val_loss: 1.8099 - val_accuracy: 0.9600\n",
      "Epoch 42/100\n",
      "38/38 [==============================] - 5s 122ms/step - loss: 7.9745e-11 - accuracy: 1.0000 - val_loss: 1.8099 - val_accuracy: 0.9600\n",
      "Epoch 43/100\n",
      "38/38 [==============================] - 5s 122ms/step - loss: 7.9843e-11 - accuracy: 1.0000 - val_loss: 1.8099 - val_accuracy: 0.9600\n",
      "Epoch 44/100\n",
      "38/38 [==============================] - 5s 120ms/step - loss: 7.9880e-11 - accuracy: 1.0000 - val_loss: 1.8099 - val_accuracy: 0.9600\n",
      "Epoch 45/100\n",
      "38/38 [==============================] - 5s 119ms/step - loss: 7.9952e-11 - accuracy: 1.0000 - val_loss: 1.8098 - val_accuracy: 0.9600\n",
      "Epoch 46/100\n",
      "38/38 [==============================] - 5s 121ms/step - loss: 8.0024e-11 - accuracy: 1.0000 - val_loss: 1.8098 - val_accuracy: 0.9600\n",
      "Epoch 47/100\n",
      "38/38 [==============================] - 5s 118ms/step - loss: 8.0024e-11 - accuracy: 1.0000 - val_loss: 1.8098 - val_accuracy: 0.9600\n",
      "Epoch 48/100\n",
      "38/38 [==============================] - 5s 121ms/step - loss: 8.0080e-11 - accuracy: 1.0000 - val_loss: 1.8097 - val_accuracy: 0.9600\n",
      "Epoch 49/100\n",
      "38/38 [==============================] - 5s 122ms/step - loss: 8.0188e-11 - accuracy: 1.0000 - val_loss: 1.8097 - val_accuracy: 0.9600\n",
      "Epoch 50/100\n",
      "38/38 [==============================] - 5s 119ms/step - loss: 8.0237e-11 - accuracy: 1.0000 - val_loss: 1.8097 - val_accuracy: 0.9600\n",
      "Epoch 51/100\n",
      "38/38 [==============================] - 5s 121ms/step - loss: 8.0260e-11 - accuracy: 1.0000 - val_loss: 1.8096 - val_accuracy: 0.9600\n",
      "Epoch 52/100\n",
      "38/38 [==============================] - 5s 120ms/step - loss: 8.0312e-11 - accuracy: 1.0000 - val_loss: 1.8096 - val_accuracy: 0.9600\n",
      "Epoch 53/100\n",
      "38/38 [==============================] - 5s 128ms/step - loss: 8.0356e-11 - accuracy: 1.0000 - val_loss: 1.8096 - val_accuracy: 0.9600\n",
      "Epoch 54/100\n",
      "38/38 [==============================] - 5s 125ms/step - loss: 8.0422e-11 - accuracy: 1.0000 - val_loss: 1.8096 - val_accuracy: 0.9600\n",
      "Epoch 55/100\n",
      "38/38 [==============================] - 5s 124ms/step - loss: 8.0498e-11 - accuracy: 1.0000 - val_loss: 1.8095 - val_accuracy: 0.9600\n",
      "Epoch 56/100\n",
      "38/38 [==============================] - 5s 119ms/step - loss: 8.0551e-11 - accuracy: 1.0000 - val_loss: 1.8095 - val_accuracy: 0.9600\n",
      "Epoch 57/100\n",
      "38/38 [==============================] - 5s 122ms/step - loss: 8.0598e-11 - accuracy: 1.0000 - val_loss: 1.8095 - val_accuracy: 0.9600\n",
      "Epoch 58/100\n",
      "38/38 [==============================] - 5s 121ms/step - loss: 8.0630e-11 - accuracy: 1.0000 - val_loss: 1.8094 - val_accuracy: 0.9600\n",
      "Epoch 59/100\n",
      "38/38 [==============================] - 5s 121ms/step - loss: 8.0685e-11 - accuracy: 1.0000 - val_loss: 1.8094 - val_accuracy: 0.9600\n",
      "Epoch 60/100\n",
      "38/38 [==============================] - 5s 122ms/step - loss: 8.0741e-11 - accuracy: 1.0000 - val_loss: 1.8094 - val_accuracy: 0.9600\n",
      "Epoch 61/100\n",
      "38/38 [==============================] - 5s 119ms/step - loss: 8.0797e-11 - accuracy: 1.0000 - val_loss: 1.8094 - val_accuracy: 0.9600\n",
      "Epoch 62/100\n",
      "38/38 [==============================] - 5s 119ms/step - loss: 8.0879e-11 - accuracy: 1.0000 - val_loss: 1.8093 - val_accuracy: 0.9600\n",
      "Epoch 63/100\n",
      "38/38 [==============================] - 5s 122ms/step - loss: 8.0945e-11 - accuracy: 1.0000 - val_loss: 1.8093 - val_accuracy: 0.9600\n",
      "Epoch 64/100\n",
      "38/38 [==============================] - 5s 120ms/step - loss: 8.0966e-11 - accuracy: 1.0000 - val_loss: 1.8093 - val_accuracy: 0.9600\n",
      "Epoch 65/100\n",
      "38/38 [==============================] - 4s 113ms/step - loss: 8.1012e-11 - accuracy: 1.0000 - val_loss: 1.8092 - val_accuracy: 0.9600\n",
      "Epoch 66/100\n",
      "38/38 [==============================] - 4s 112ms/step - loss: 8.1074e-11 - accuracy: 1.0000 - val_loss: 1.8092 - val_accuracy: 0.9600\n",
      "Epoch 67/100\n",
      "38/38 [==============================] - 4s 116ms/step - loss: 8.1118e-11 - accuracy: 1.0000 - val_loss: 1.8092 - val_accuracy: 0.9600\n",
      "Epoch 68/100\n",
      "38/38 [==============================] - 4s 111ms/step - loss: 8.1181e-11 - accuracy: 1.0000 - val_loss: 1.8092 - val_accuracy: 0.9600\n",
      "Epoch 69/100\n",
      "38/38 [==============================] - 4s 110ms/step - loss: 8.1237e-11 - accuracy: 1.0000 - val_loss: 1.8091 - val_accuracy: 0.9600\n",
      "Epoch 70/100\n",
      "38/38 [==============================] - 4s 111ms/step - loss: 8.1280e-11 - accuracy: 1.0000 - val_loss: 1.8091 - val_accuracy: 0.9600\n",
      "Epoch 71/100\n",
      "38/38 [==============================] - 4s 112ms/step - loss: 8.1384e-11 - accuracy: 1.0000 - val_loss: 1.8091 - val_accuracy: 0.9600\n",
      "Epoch 72/100\n",
      "38/38 [==============================] - 4s 110ms/step - loss: 8.1438e-11 - accuracy: 1.0000 - val_loss: 1.8090 - val_accuracy: 0.9600\n",
      "Epoch 73/100\n",
      "38/38 [==============================] - 4s 109ms/step - loss: 8.1480e-11 - accuracy: 1.0000 - val_loss: 1.8090 - val_accuracy: 0.9600\n",
      "Epoch 74/100\n",
      "38/38 [==============================] - 4s 110ms/step - loss: 8.1535e-11 - accuracy: 1.0000 - val_loss: 1.8090 - val_accuracy: 0.9600\n",
      "Epoch 75/100\n",
      "38/38 [==============================] - 4s 111ms/step - loss: 8.1543e-11 - accuracy: 1.0000 - val_loss: 1.8090 - val_accuracy: 0.9600\n",
      "Epoch 76/100\n",
      "38/38 [==============================] - 4s 112ms/step - loss: 8.1629e-11 - accuracy: 1.0000 - val_loss: 1.8089 - val_accuracy: 0.9600\n",
      "Epoch 77/100\n",
      "38/38 [==============================] - 4s 110ms/step - loss: 8.1702e-11 - accuracy: 1.0000 - val_loss: 1.8089 - val_accuracy: 0.9600\n",
      "Epoch 78/100\n",
      "38/38 [==============================] - 4s 110ms/step - loss: 8.1745e-11 - accuracy: 1.0000 - val_loss: 1.8089 - val_accuracy: 0.9600\n",
      "Epoch 79/100\n",
      "38/38 [==============================] - 4s 112ms/step - loss: 8.1769e-11 - accuracy: 1.0000 - val_loss: 1.8088 - val_accuracy: 0.9600\n",
      "Epoch 80/100\n",
      "38/38 [==============================] - 4s 111ms/step - loss: 8.1857e-11 - accuracy: 1.0000 - val_loss: 1.8088 - val_accuracy: 0.9600\n",
      "Epoch 81/100\n",
      "38/38 [==============================] - 4s 110ms/step - loss: 8.1911e-11 - accuracy: 1.0000 - val_loss: 1.8088 - val_accuracy: 0.9600\n",
      "Epoch 82/100\n",
      "38/38 [==============================] - 4s 112ms/step - loss: 8.1911e-11 - accuracy: 1.0000 - val_loss: 1.8088 - val_accuracy: 0.9600\n",
      "Epoch 83/100\n",
      "38/38 [==============================] - 4s 112ms/step - loss: 8.2007e-11 - accuracy: 1.0000 - val_loss: 1.8087 - val_accuracy: 0.9600\n",
      "Epoch 84/100\n",
      "38/38 [==============================] - 4s 112ms/step - loss: 8.2068e-11 - accuracy: 1.0000 - val_loss: 1.8087 - val_accuracy: 0.9600\n",
      "Epoch 85/100\n",
      "38/38 [==============================] - 4s 112ms/step - loss: 8.2120e-11 - accuracy: 1.0000 - val_loss: 1.8087 - val_accuracy: 0.9600\n",
      "Epoch 86/100\n",
      "38/38 [==============================] - 4s 110ms/step - loss: 8.2164e-11 - accuracy: 1.0000 - val_loss: 1.8087 - val_accuracy: 0.9600\n",
      "Epoch 87/100\n",
      "38/38 [==============================] - 4s 111ms/step - loss: 8.2172e-11 - accuracy: 1.0000 - val_loss: 1.8086 - val_accuracy: 0.9600\n",
      "Epoch 88/100\n",
      "38/38 [==============================] - 4s 110ms/step - loss: 8.2266e-11 - accuracy: 1.0000 - val_loss: 1.8086 - val_accuracy: 0.9600\n",
      "Epoch 89/100\n",
      "38/38 [==============================] - 4s 114ms/step - loss: 8.2286e-11 - accuracy: 1.0000 - val_loss: 1.8086 - val_accuracy: 0.9600\n",
      "Epoch 90/100\n",
      "38/38 [==============================] - 4s 110ms/step - loss: 8.2357e-11 - accuracy: 1.0000 - val_loss: 1.8085 - val_accuracy: 0.9600\n",
      "Epoch 91/100\n",
      "38/38 [==============================] - 4s 112ms/step - loss: 8.2415e-11 - accuracy: 1.0000 - val_loss: 1.8085 - val_accuracy: 0.9600\n",
      "Epoch 92/100\n",
      "38/38 [==============================] - 4s 112ms/step - loss: 8.2441e-11 - accuracy: 1.0000 - val_loss: 1.8085 - val_accuracy: 0.9600\n",
      "Epoch 93/100\n",
      "38/38 [==============================] - 4s 112ms/step - loss: 8.2482e-11 - accuracy: 1.0000 - val_loss: 1.8085 - val_accuracy: 0.9600\n",
      "Epoch 94/100\n",
      "38/38 [==============================] - 4s 111ms/step - loss: 8.2582e-11 - accuracy: 1.0000 - val_loss: 1.8084 - val_accuracy: 0.9600\n",
      "Epoch 95/100\n",
      "38/38 [==============================] - 4s 111ms/step - loss: 8.2614e-11 - accuracy: 1.0000 - val_loss: 1.8084 - val_accuracy: 0.9600\n",
      "Epoch 96/100\n",
      "38/38 [==============================] - 4s 110ms/step - loss: 8.2685e-11 - accuracy: 1.0000 - val_loss: 1.8084 - val_accuracy: 0.9600\n",
      "Epoch 97/100\n",
      "38/38 [==============================] - 4s 112ms/step - loss: 8.2690e-11 - accuracy: 1.0000 - val_loss: 1.8084 - val_accuracy: 0.9600\n",
      "Epoch 98/100\n",
      "38/38 [==============================] - 4s 111ms/step - loss: 8.2748e-11 - accuracy: 1.0000 - val_loss: 1.8083 - val_accuracy: 0.9600\n",
      "Epoch 99/100\n",
      "38/38 [==============================] - 4s 113ms/step - loss: 8.2833e-11 - accuracy: 1.0000 - val_loss: 1.8083 - val_accuracy: 0.9600\n",
      "Epoch 100/100\n",
      "38/38 [==============================] - 4s 110ms/step - loss: 8.2852e-11 - accuracy: 1.0000 - val_loss: 1.8083 - val_accuracy: 0.9600\n"
     ]
    },
    {
     "data": {
      "text/plain": [
       "<keras.callbacks.History at 0x1a643662a70>"
      ]
     },
     "execution_count": 11,
     "metadata": {},
     "output_type": "execute_result"
    }
   ],
   "source": [
    "model.fit(TrainData,\n",
    "\t\tvalidation_data = ValidationData,\n",
    "\t\tepochs = 100)"
   ]
  },
  {
   "cell_type": "code",
   "execution_count": 12,
   "metadata": {},
   "outputs": [],
   "source": [
    "model.save(r'E:\\GithubProjects\\KagglePractice\\HelmetDetection\\models\\HelmetDetectionModel2.h5')"
   ]
  }
 ],
 "metadata": {
  "kernelspec": {
   "display_name": "Python 3",
   "language": "python",
   "name": "python3"
  },
  "language_info": {
   "codemirror_mode": {
    "name": "ipython",
    "version": 3
   },
   "file_extension": ".py",
   "mimetype": "text/x-python",
   "name": "python",
   "nbconvert_exporter": "python",
   "pygments_lexer": "ipython3",
   "version": "3.10.5"
  },
  "orig_nbformat": 4,
  "vscode": {
   "interpreter": {
    "hash": "cde9198c2e8e91a0b91670eed1e26ed14d52c99f31af54ead9171463984fcc7e"
   }
  }
 },
 "nbformat": 4,
 "nbformat_minor": 2
}
