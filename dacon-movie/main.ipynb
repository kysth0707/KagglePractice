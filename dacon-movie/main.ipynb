{
 "cells": [
  {
   "cell_type": "code",
   "execution_count": 1,
   "metadata": {},
   "outputs": [],
   "source": [
    "import numpy as np\n",
    "import pandas as pd\n",
    "import matplotlib.pyplot as plt\n",
    "import seaborn as sns\n",
    "\n",
    "plt.rc('font', family='Malgun Gothic')"
   ]
  },
  {
   "cell_type": "code",
   "execution_count": 2,
   "metadata": {},
   "outputs": [],
   "source": [
    "df_train = pd.read_csv('./movies_train.csv')\n",
    "df_test = pd.read_csv('./movies_test.csv')"
   ]
  },
  {
   "cell_type": "code",
   "execution_count": 3,
   "metadata": {},
   "outputs": [
    {
     "data": {
      "text/html": [
       "<div>\n",
       "<style scoped>\n",
       "    .dataframe tbody tr th:only-of-type {\n",
       "        vertical-align: middle;\n",
       "    }\n",
       "\n",
       "    .dataframe tbody tr th {\n",
       "        vertical-align: top;\n",
       "    }\n",
       "\n",
       "    .dataframe thead th {\n",
       "        text-align: right;\n",
       "    }\n",
       "</style>\n",
       "<table border=\"1\" class=\"dataframe\">\n",
       "  <thead>\n",
       "    <tr style=\"text-align: right;\">\n",
       "      <th></th>\n",
       "      <th>title</th>\n",
       "      <th>distributor</th>\n",
       "      <th>genre</th>\n",
       "      <th>release_time</th>\n",
       "      <th>time</th>\n",
       "      <th>screening_rat</th>\n",
       "      <th>director</th>\n",
       "      <th>dir_prev_bfnum</th>\n",
       "      <th>dir_prev_num</th>\n",
       "      <th>num_staff</th>\n",
       "      <th>num_actor</th>\n",
       "      <th>box_off_num</th>\n",
       "    </tr>\n",
       "  </thead>\n",
       "  <tbody>\n",
       "    <tr>\n",
       "      <th>0</th>\n",
       "      <td>개들의 전쟁</td>\n",
       "      <td>롯데엔터테인먼트</td>\n",
       "      <td>액션</td>\n",
       "      <td>2012-11-22</td>\n",
       "      <td>96</td>\n",
       "      <td>청소년 관람불가</td>\n",
       "      <td>조병옥</td>\n",
       "      <td>NaN</td>\n",
       "      <td>0</td>\n",
       "      <td>91</td>\n",
       "      <td>2</td>\n",
       "      <td>23398</td>\n",
       "    </tr>\n",
       "    <tr>\n",
       "      <th>1</th>\n",
       "      <td>내부자들</td>\n",
       "      <td>(주)쇼박스</td>\n",
       "      <td>느와르</td>\n",
       "      <td>2015-11-19</td>\n",
       "      <td>130</td>\n",
       "      <td>청소년 관람불가</td>\n",
       "      <td>우민호</td>\n",
       "      <td>1161602.50</td>\n",
       "      <td>2</td>\n",
       "      <td>387</td>\n",
       "      <td>3</td>\n",
       "      <td>7072501</td>\n",
       "    </tr>\n",
       "    <tr>\n",
       "      <th>2</th>\n",
       "      <td>은밀하게 위대하게</td>\n",
       "      <td>(주)쇼박스</td>\n",
       "      <td>액션</td>\n",
       "      <td>2013-06-05</td>\n",
       "      <td>123</td>\n",
       "      <td>15세 관람가</td>\n",
       "      <td>장철수</td>\n",
       "      <td>220775.25</td>\n",
       "      <td>4</td>\n",
       "      <td>343</td>\n",
       "      <td>4</td>\n",
       "      <td>6959083</td>\n",
       "    </tr>\n",
       "    <tr>\n",
       "      <th>3</th>\n",
       "      <td>나는 공무원이다</td>\n",
       "      <td>(주)NEW</td>\n",
       "      <td>코미디</td>\n",
       "      <td>2012-07-12</td>\n",
       "      <td>101</td>\n",
       "      <td>전체 관람가</td>\n",
       "      <td>구자홍</td>\n",
       "      <td>23894.00</td>\n",
       "      <td>2</td>\n",
       "      <td>20</td>\n",
       "      <td>6</td>\n",
       "      <td>217866</td>\n",
       "    </tr>\n",
       "    <tr>\n",
       "      <th>4</th>\n",
       "      <td>불량남녀</td>\n",
       "      <td>쇼박스(주)미디어플렉스</td>\n",
       "      <td>코미디</td>\n",
       "      <td>2010-11-04</td>\n",
       "      <td>108</td>\n",
       "      <td>15세 관람가</td>\n",
       "      <td>신근호</td>\n",
       "      <td>1.00</td>\n",
       "      <td>1</td>\n",
       "      <td>251</td>\n",
       "      <td>2</td>\n",
       "      <td>483387</td>\n",
       "    </tr>\n",
       "  </tbody>\n",
       "</table>\n",
       "</div>"
      ],
      "text/plain": [
       "       title   distributor genre release_time  time screening_rat director  \\\n",
       "0     개들의 전쟁      롯데엔터테인먼트    액션   2012-11-22    96      청소년 관람불가      조병옥   \n",
       "1       내부자들        (주)쇼박스   느와르   2015-11-19   130      청소년 관람불가      우민호   \n",
       "2  은밀하게 위대하게        (주)쇼박스    액션   2013-06-05   123       15세 관람가      장철수   \n",
       "3   나는 공무원이다        (주)NEW   코미디   2012-07-12   101        전체 관람가      구자홍   \n",
       "4       불량남녀  쇼박스(주)미디어플렉스   코미디   2010-11-04   108       15세 관람가      신근호   \n",
       "\n",
       "   dir_prev_bfnum  dir_prev_num  num_staff  num_actor  box_off_num  \n",
       "0             NaN             0         91          2        23398  \n",
       "1      1161602.50             2        387          3      7072501  \n",
       "2       220775.25             4        343          4      6959083  \n",
       "3        23894.00             2         20          6       217866  \n",
       "4            1.00             1        251          2       483387  "
      ]
     },
     "execution_count": 3,
     "metadata": {},
     "output_type": "execute_result"
    }
   ],
   "source": [
    "df_train.head()"
   ]
  },
  {
   "cell_type": "code",
   "execution_count": 4,
   "metadata": {},
   "outputs": [
    {
     "data": {
      "text/plain": [
       "title               0\n",
       "distributor         0\n",
       "genre               0\n",
       "release_time        0\n",
       "time                0\n",
       "screening_rat       0\n",
       "director            0\n",
       "dir_prev_bfnum    330\n",
       "dir_prev_num        0\n",
       "num_staff           0\n",
       "num_actor           0\n",
       "box_off_num         0\n",
       "dtype: int64"
      ]
     },
     "execution_count": 4,
     "metadata": {},
     "output_type": "execute_result"
    }
   ],
   "source": [
    "df_train.isnull().sum()"
   ]
  },
  {
   "attachments": {},
   "cell_type": "markdown",
   "metadata": {},
   "source": [
    "title 제목  \n",
    "distributor 배급사  \n",
    "genre 장르  \n",
    "release_time 개봉일  \n",
    "time 상영시간 ( 분 )  \n",
    "screening_rat 상영등급  \n",
    "director 감독명  \n",
    "dir_prev_bfnum 해당 감독이 이 영화를 만들기 전 제작에 참여한 영화에서의 평균 관객수(단 관객수가 알려지지 않은 영화 제외)  \n",
    "dir_prev_num 해당 감독이 이 영화를 만들기 전 제작에 참여한 영화의 개수(단 관객수가 알려지지 않은 영화 제외)  \n",
    "num_staff 스텝 수  \n",
    "num_actor 주연배우 수  \n",
    "box_off_num 관객수  "
   ]
  },
  {
   "cell_type": "code",
   "execution_count": 5,
   "metadata": {},
   "outputs": [
    {
     "data": {
      "text/plain": [
       "홍상수           7\n",
       "장률            4\n",
       "신재호           4\n",
       "우민호           4\n",
       "노진수           4\n",
       "             ..\n",
       "권오광           1\n",
       "한윤선           1\n",
       "박찬경           1\n",
       "New Pistol    1\n",
       "백운학           1\n",
       "Name: director, Length: 472, dtype: int64"
      ]
     },
     "execution_count": 5,
     "metadata": {},
     "output_type": "execute_result"
    }
   ],
   "source": [
    "df_train['director'].value_counts()"
   ]
  },
  {
   "cell_type": "code",
   "execution_count": 6,
   "metadata": {},
   "outputs": [
    {
     "data": {
      "text/html": [
       "<div>\n",
       "<style scoped>\n",
       "    .dataframe tbody tr th:only-of-type {\n",
       "        vertical-align: middle;\n",
       "    }\n",
       "\n",
       "    .dataframe tbody tr th {\n",
       "        vertical-align: top;\n",
       "    }\n",
       "\n",
       "    .dataframe thead th {\n",
       "        text-align: right;\n",
       "    }\n",
       "</style>\n",
       "<table border=\"1\" class=\"dataframe\">\n",
       "  <thead>\n",
       "    <tr style=\"text-align: right;\">\n",
       "      <th></th>\n",
       "      <th>name</th>\n",
       "    </tr>\n",
       "  </thead>\n",
       "  <tbody>\n",
       "    <tr>\n",
       "      <th>0</th>\n",
       "      <td>홍상수</td>\n",
       "    </tr>\n",
       "    <tr>\n",
       "      <th>1</th>\n",
       "      <td>장률</td>\n",
       "    </tr>\n",
       "    <tr>\n",
       "      <th>2</th>\n",
       "      <td>신재호</td>\n",
       "    </tr>\n",
       "    <tr>\n",
       "      <th>3</th>\n",
       "      <td>우민호</td>\n",
       "    </tr>\n",
       "    <tr>\n",
       "      <th>4</th>\n",
       "      <td>노진수</td>\n",
       "    </tr>\n",
       "    <tr>\n",
       "      <th>...</th>\n",
       "      <td>...</td>\n",
       "    </tr>\n",
       "    <tr>\n",
       "      <th>467</th>\n",
       "      <td>권오광</td>\n",
       "    </tr>\n",
       "    <tr>\n",
       "      <th>468</th>\n",
       "      <td>한윤선</td>\n",
       "    </tr>\n",
       "    <tr>\n",
       "      <th>469</th>\n",
       "      <td>박찬경</td>\n",
       "    </tr>\n",
       "    <tr>\n",
       "      <th>470</th>\n",
       "      <td>New Pistol</td>\n",
       "    </tr>\n",
       "    <tr>\n",
       "      <th>471</th>\n",
       "      <td>백운학</td>\n",
       "    </tr>\n",
       "  </tbody>\n",
       "</table>\n",
       "<p>472 rows × 1 columns</p>\n",
       "</div>"
      ],
      "text/plain": [
       "           name\n",
       "0           홍상수\n",
       "1            장률\n",
       "2           신재호\n",
       "3           우민호\n",
       "4           노진수\n",
       "..          ...\n",
       "467         권오광\n",
       "468         한윤선\n",
       "469         박찬경\n",
       "470  New Pistol\n",
       "471         백운학\n",
       "\n",
       "[472 rows x 1 columns]"
      ]
     },
     "execution_count": 6,
     "metadata": {},
     "output_type": "execute_result"
    }
   ],
   "source": [
    "DirectorRating = pd.DataFrame(df_train['director'].value_counts().keys(),columns=['name'])\n",
    "DirectorRating"
   ]
  },
  {
   "cell_type": "code",
   "execution_count": 7,
   "metadata": {},
   "outputs": [
    {
     "data": {
      "text/html": [
       "<div>\n",
       "<style scoped>\n",
       "    .dataframe tbody tr th:only-of-type {\n",
       "        vertical-align: middle;\n",
       "    }\n",
       "\n",
       "    .dataframe tbody tr th {\n",
       "        vertical-align: top;\n",
       "    }\n",
       "\n",
       "    .dataframe thead th {\n",
       "        text-align: right;\n",
       "    }\n",
       "</style>\n",
       "<table border=\"1\" class=\"dataframe\">\n",
       "  <thead>\n",
       "    <tr style=\"text-align: right;\">\n",
       "      <th></th>\n",
       "      <th>name</th>\n",
       "      <th>Watcher_mean</th>\n",
       "      <th>Time_mean</th>\n",
       "      <th>Staff_mean</th>\n",
       "      <th>Actor_mean</th>\n",
       "    </tr>\n",
       "  </thead>\n",
       "  <tbody>\n",
       "    <tr>\n",
       "      <th>0</th>\n",
       "      <td>홍상수</td>\n",
       "      <td>23398.0</td>\n",
       "      <td>96.0</td>\n",
       "      <td>91.0</td>\n",
       "      <td>2.0</td>\n",
       "    </tr>\n",
       "    <tr>\n",
       "      <th>1</th>\n",
       "      <td>장률</td>\n",
       "      <td>1697869.5</td>\n",
       "      <td>134.0</td>\n",
       "      <td>357.0</td>\n",
       "      <td>4.0</td>\n",
       "    </tr>\n",
       "    <tr>\n",
       "      <th>2</th>\n",
       "      <td>신재호</td>\n",
       "      <td>6959083.0</td>\n",
       "      <td>123.0</td>\n",
       "      <td>343.0</td>\n",
       "      <td>4.0</td>\n",
       "    </tr>\n",
       "    <tr>\n",
       "      <th>3</th>\n",
       "      <td>우민호</td>\n",
       "      <td>217866.0</td>\n",
       "      <td>101.0</td>\n",
       "      <td>20.0</td>\n",
       "      <td>6.0</td>\n",
       "    </tr>\n",
       "    <tr>\n",
       "      <th>4</th>\n",
       "      <td>노진수</td>\n",
       "      <td>483387.0</td>\n",
       "      <td>108.0</td>\n",
       "      <td>251.0</td>\n",
       "      <td>2.0</td>\n",
       "    </tr>\n",
       "  </tbody>\n",
       "</table>\n",
       "</div>"
      ],
      "text/plain": [
       "  name  Watcher_mean  Time_mean  Staff_mean  Actor_mean\n",
       "0  홍상수       23398.0       96.0        91.0         2.0\n",
       "1   장률     1697869.5      134.0       357.0         4.0\n",
       "2  신재호     6959083.0      123.0       343.0         4.0\n",
       "3  우민호      217866.0      101.0        20.0         6.0\n",
       "4  노진수      483387.0      108.0       251.0         2.0"
      ]
     },
     "execution_count": 7,
     "metadata": {},
     "output_type": "execute_result"
    }
   ],
   "source": [
    "Directors = df_train['director'].value_counts().keys()\n",
    "for Director in Directors:\n",
    "\tDirectorRating.loc[ df_train['director'] == Director , 'Watcher_mean'] = np.median(df_train[ df_train['director'] == Director ]['box_off_num'])\n",
    "\tDirectorRating.loc[ df_train['director'] == Director , 'Time_mean'] = int(df_train[ df_train['director'] == Director ]['time'].mean())\n",
    "\tDirectorRating.loc[ df_train['director'] == Director , 'Staff_mean'] = int(df_train[ df_train['director'] == Director ]['num_staff'].mean())\n",
    "\tDirectorRating.loc[ df_train['director'] == Director , 'Actor_mean'] = int(df_train[ df_train['director'] == Director ]['num_actor'].mean())\n",
    "DirectorRating.head()\n"
   ]
  },
  {
   "cell_type": "code",
   "execution_count": 8,
   "metadata": {},
   "outputs": [
    {
     "data": {
      "image/png": "[encoded data removed]",
      "text/plain": [
       "<Figure size 640x480 with 1 Axes>"
      ]
     },
     "metadata": {},
     "output_type": "display_data"
    }
   ],
   "source": [
    "plt.scatter(df_train['num_staff'], df_train['box_off_num'])\n",
    "plt.show()"
   ]
  },
  {
   "cell_type": "code",
   "execution_count": 9,
   "metadata": {},
   "outputs": [
    {
     "data": {
      "image/png": "[encoded data removed]",
      "text/plain": [
       "<Figure size 640x480 with 1 Axes>"
      ]
     },
     "metadata": {},
     "output_type": "display_data"
    }
   ],
   "source": [
    "plt.scatter(df_train['release_time'], df_train['box_off_num'])\n",
    "plt.show()"
   ]
  },
  {
   "cell_type": "code",
   "execution_count": 10,
   "metadata": {},
   "outputs": [
    {
     "data": {
      "text/html": [
       "<div>\n",
       "<style scoped>\n",
       "    .dataframe tbody tr th:only-of-type {\n",
       "        vertical-align: middle;\n",
       "    }\n",
       "\n",
       "    .dataframe tbody tr th {\n",
       "        vertical-align: top;\n",
       "    }\n",
       "\n",
       "    .dataframe thead th {\n",
       "        text-align: right;\n",
       "    }\n",
       "</style>\n",
       "<table border=\"1\" class=\"dataframe\">\n",
       "  <thead>\n",
       "    <tr style=\"text-align: right;\">\n",
       "      <th></th>\n",
       "      <th>name</th>\n",
       "      <th>Watcher_mean</th>\n",
       "      <th>Time_mean</th>\n",
       "      <th>Staff_mean</th>\n",
       "      <th>Actor_mean</th>\n",
       "    </tr>\n",
       "  </thead>\n",
       "  <tbody>\n",
       "    <tr>\n",
       "      <th>372</th>\n",
       "      <td>신춘수</td>\n",
       "      <td>14262766.0</td>\n",
       "      <td>126.0</td>\n",
       "      <td>869.0</td>\n",
       "      <td>4.0</td>\n",
       "    </tr>\n",
       "    <tr>\n",
       "      <th>362</th>\n",
       "      <td>정범식</td>\n",
       "      <td>12845252.0</td>\n",
       "      <td>137.0</td>\n",
       "      <td>545.0</td>\n",
       "      <td>6.0</td>\n",
       "    </tr>\n",
       "    <tr>\n",
       "      <th>122</th>\n",
       "      <td>김선아</td>\n",
       "      <td>11374879.0</td>\n",
       "      <td>127.0</td>\n",
       "      <td>311.0</td>\n",
       "      <td>5.0</td>\n",
       "    </tr>\n",
       "    <tr>\n",
       "      <th>101</th>\n",
       "      <td>박은형</td>\n",
       "      <td>9135806.0</td>\n",
       "      <td>139.0</td>\n",
       "      <td>298.0</td>\n",
       "      <td>6.0</td>\n",
       "    </tr>\n",
       "    <tr>\n",
       "      <th>322</th>\n",
       "      <td>고석진</td>\n",
       "      <td>8212959.5</td>\n",
       "      <td>127.0</td>\n",
       "      <td>694.0</td>\n",
       "      <td>2.0</td>\n",
       "    </tr>\n",
       "    <tr>\n",
       "      <th>...</th>\n",
       "      <td>...</td>\n",
       "      <td>...</td>\n",
       "      <td>...</td>\n",
       "      <td>...</td>\n",
       "      <td>...</td>\n",
       "    </tr>\n",
       "    <tr>\n",
       "      <th>177</th>\n",
       "      <td>윤준형</td>\n",
       "      <td>42.0</td>\n",
       "      <td>94.0</td>\n",
       "      <td>55.0</td>\n",
       "      <td>2.0</td>\n",
       "    </tr>\n",
       "    <tr>\n",
       "      <th>410</th>\n",
       "      <td>민두식</td>\n",
       "      <td>10.0</td>\n",
       "      <td>71.0</td>\n",
       "      <td>0.0</td>\n",
       "      <td>3.0</td>\n",
       "    </tr>\n",
       "    <tr>\n",
       "      <th>338</th>\n",
       "      <td>린슈유</td>\n",
       "      <td>8.0</td>\n",
       "      <td>78.0</td>\n",
       "      <td>27.0</td>\n",
       "      <td>3.0</td>\n",
       "    </tr>\n",
       "    <tr>\n",
       "      <th>324</th>\n",
       "      <td>김동명</td>\n",
       "      <td>2.0</td>\n",
       "      <td>92.0</td>\n",
       "      <td>3.0</td>\n",
       "      <td>4.0</td>\n",
       "    </tr>\n",
       "    <tr>\n",
       "      <th>432</th>\n",
       "      <td>유선동</td>\n",
       "      <td>1.0</td>\n",
       "      <td>89.0</td>\n",
       "      <td>0.0</td>\n",
       "      <td>1.0</td>\n",
       "    </tr>\n",
       "  </tbody>\n",
       "</table>\n",
       "<p>472 rows × 5 columns</p>\n",
       "</div>"
      ],
      "text/plain": [
       "    name  Watcher_mean  Time_mean  Staff_mean  Actor_mean\n",
       "372  신춘수    14262766.0      126.0       869.0         4.0\n",
       "362  정범식    12845252.0      137.0       545.0         6.0\n",
       "122  김선아    11374879.0      127.0       311.0         5.0\n",
       "101  박은형     9135806.0      139.0       298.0         6.0\n",
       "322  고석진     8212959.5      127.0       694.0         2.0\n",
       "..   ...           ...        ...         ...         ...\n",
       "177  윤준형          42.0       94.0        55.0         2.0\n",
       "410  민두식          10.0       71.0         0.0         3.0\n",
       "338  린슈유           8.0       78.0        27.0         3.0\n",
       "324  김동명           2.0       92.0         3.0         4.0\n",
       "432  유선동           1.0       89.0         0.0         1.0\n",
       "\n",
       "[472 rows x 5 columns]"
      ]
     },
     "execution_count": 10,
     "metadata": {},
     "output_type": "execute_result"
    }
   ],
   "source": [
    "DirectorRating.sort_values(by='Watcher_mean', ascending=False)"
   ]
  },
  {
   "cell_type": "code",
   "execution_count": 11,
   "metadata": {},
   "outputs": [
    {
     "data": {
      "text/html": [
       "<div>\n",
       "<style scoped>\n",
       "    .dataframe tbody tr th:only-of-type {\n",
       "        vertical-align: middle;\n",
       "    }\n",
       "\n",
       "    .dataframe tbody tr th {\n",
       "        vertical-align: top;\n",
       "    }\n",
       "\n",
       "    .dataframe thead th {\n",
       "        text-align: right;\n",
       "    }\n",
       "</style>\n",
       "<table border=\"1\" class=\"dataframe\">\n",
       "  <thead>\n",
       "    <tr style=\"text-align: right;\">\n",
       "      <th></th>\n",
       "      <th>title</th>\n",
       "      <th>distributor</th>\n",
       "      <th>genre</th>\n",
       "      <th>release_time</th>\n",
       "      <th>time</th>\n",
       "      <th>screening_rat</th>\n",
       "      <th>director</th>\n",
       "      <th>dir_prev_bfnum</th>\n",
       "      <th>dir_prev_num</th>\n",
       "      <th>num_staff</th>\n",
       "      <th>num_actor</th>\n",
       "      <th>box_off_num</th>\n",
       "    </tr>\n",
       "  </thead>\n",
       "  <tbody>\n",
       "    <tr>\n",
       "      <th>372</th>\n",
       "      <td>국제시장</td>\n",
       "      <td>CJ 엔터테인먼트</td>\n",
       "      <td>드라마</td>\n",
       "      <td>2014-12-17</td>\n",
       "      <td>126</td>\n",
       "      <td>12세 관람가</td>\n",
       "      <td>윤제균</td>\n",
       "      <td>NaN</td>\n",
       "      <td>0</td>\n",
       "      <td>869</td>\n",
       "      <td>4</td>\n",
       "      <td>14262766</td>\n",
       "    </tr>\n",
       "    <tr>\n",
       "      <th>362</th>\n",
       "      <td>도둑들</td>\n",
       "      <td>(주)쇼박스</td>\n",
       "      <td>느와르</td>\n",
       "      <td>2012-07-25</td>\n",
       "      <td>135</td>\n",
       "      <td>15세 관람가</td>\n",
       "      <td>최동훈</td>\n",
       "      <td>2.564692e+06</td>\n",
       "      <td>3</td>\n",
       "      <td>462</td>\n",
       "      <td>10</td>\n",
       "      <td>12983841</td>\n",
       "    </tr>\n",
       "    <tr>\n",
       "      <th>530</th>\n",
       "      <td>7번방의 선물</td>\n",
       "      <td>(주)NEW</td>\n",
       "      <td>코미디</td>\n",
       "      <td>2013-01-23</td>\n",
       "      <td>127</td>\n",
       "      <td>15세 관람가</td>\n",
       "      <td>이환경</td>\n",
       "      <td>8.190495e+05</td>\n",
       "      <td>2</td>\n",
       "      <td>300</td>\n",
       "      <td>8</td>\n",
       "      <td>12811435</td>\n",
       "    </tr>\n",
       "    <tr>\n",
       "      <th>498</th>\n",
       "      <td>암살</td>\n",
       "      <td>(주)쇼박스</td>\n",
       "      <td>액션</td>\n",
       "      <td>2015-07-22</td>\n",
       "      <td>139</td>\n",
       "      <td>15세 관람가</td>\n",
       "      <td>최동훈</td>\n",
       "      <td>5.169479e+06</td>\n",
       "      <td>4</td>\n",
       "      <td>628</td>\n",
       "      <td>3</td>\n",
       "      <td>12706663</td>\n",
       "    </tr>\n",
       "    <tr>\n",
       "      <th>460</th>\n",
       "      <td>광해, 왕이 된 남자</td>\n",
       "      <td>CJ 엔터테인먼트</td>\n",
       "      <td>드라마</td>\n",
       "      <td>2012-09-13</td>\n",
       "      <td>131</td>\n",
       "      <td>15세 관람가</td>\n",
       "      <td>추창민</td>\n",
       "      <td>1.552541e+06</td>\n",
       "      <td>2</td>\n",
       "      <td>402</td>\n",
       "      <td>3</td>\n",
       "      <td>12323595</td>\n",
       "    </tr>\n",
       "    <tr>\n",
       "      <th>...</th>\n",
       "      <td>...</td>\n",
       "      <td>...</td>\n",
       "      <td>...</td>\n",
       "      <td>...</td>\n",
       "      <td>...</td>\n",
       "      <td>...</td>\n",
       "      <td>...</td>\n",
       "      <td>...</td>\n",
       "      <td>...</td>\n",
       "      <td>...</td>\n",
       "      <td>...</td>\n",
       "      <td>...</td>\n",
       "    </tr>\n",
       "    <tr>\n",
       "      <th>481</th>\n",
       "      <td>려수</td>\n",
       "      <td>(주) 영화사조제</td>\n",
       "      <td>드라마</td>\n",
       "      <td>2011-11-10</td>\n",
       "      <td>98</td>\n",
       "      <td>15세 관람가</td>\n",
       "      <td>진광교</td>\n",
       "      <td>NaN</td>\n",
       "      <td>0</td>\n",
       "      <td>1</td>\n",
       "      <td>2</td>\n",
       "      <td>36</td>\n",
       "    </tr>\n",
       "    <tr>\n",
       "      <th>410</th>\n",
       "      <td>전망 좋은 방-밀애</td>\n",
       "      <td>(주) 케이알씨지</td>\n",
       "      <td>멜로/로맨스</td>\n",
       "      <td>2012-11-08</td>\n",
       "      <td>71</td>\n",
       "      <td>청소년 관람불가</td>\n",
       "      <td>이세일</td>\n",
       "      <td>NaN</td>\n",
       "      <td>0</td>\n",
       "      <td>0</td>\n",
       "      <td>3</td>\n",
       "      <td>10</td>\n",
       "    </tr>\n",
       "    <tr>\n",
       "      <th>338</th>\n",
       "      <td>타부 : 금지된 사랑</td>\n",
       "      <td>고구마공작소</td>\n",
       "      <td>멜로/로맨스</td>\n",
       "      <td>2015-09-03</td>\n",
       "      <td>78</td>\n",
       "      <td>청소년 관람불가</td>\n",
       "      <td>고구마</td>\n",
       "      <td>1.761531e+07</td>\n",
       "      <td>1</td>\n",
       "      <td>27</td>\n",
       "      <td>3</td>\n",
       "      <td>8</td>\n",
       "    </tr>\n",
       "    <tr>\n",
       "      <th>324</th>\n",
       "      <td>청아</td>\n",
       "      <td>인피니티엔터테인먼트</td>\n",
       "      <td>드라마</td>\n",
       "      <td>2014-09-25</td>\n",
       "      <td>92</td>\n",
       "      <td>청소년 관람불가</td>\n",
       "      <td>김정호</td>\n",
       "      <td>NaN</td>\n",
       "      <td>0</td>\n",
       "      <td>3</td>\n",
       "      <td>4</td>\n",
       "      <td>2</td>\n",
       "    </tr>\n",
       "    <tr>\n",
       "      <th>432</th>\n",
       "      <td>젊은 엄마 2</td>\n",
       "      <td>골든타이드픽처스</td>\n",
       "      <td>멜로/로맨스</td>\n",
       "      <td>2014-05-29</td>\n",
       "      <td>89</td>\n",
       "      <td>청소년 관람불가</td>\n",
       "      <td>노성수</td>\n",
       "      <td>NaN</td>\n",
       "      <td>0</td>\n",
       "      <td>0</td>\n",
       "      <td>1</td>\n",
       "      <td>1</td>\n",
       "    </tr>\n",
       "  </tbody>\n",
       "</table>\n",
       "<p>600 rows × 12 columns</p>\n",
       "</div>"
      ],
      "text/plain": [
       "           title distributor   genre release_time  time screening_rat  \\\n",
       "372         국제시장   CJ 엔터테인먼트     드라마   2014-12-17   126       12세 관람가   \n",
       "362          도둑들      (주)쇼박스     느와르   2012-07-25   135       15세 관람가   \n",
       "530      7번방의 선물      (주)NEW     코미디   2013-01-23   127       15세 관람가   \n",
       "498           암살      (주)쇼박스      액션   2015-07-22   139       15세 관람가   \n",
       "460  광해, 왕이 된 남자   CJ 엔터테인먼트     드라마   2012-09-13   131       15세 관람가   \n",
       "..           ...         ...     ...          ...   ...           ...   \n",
       "481           려수   (주) 영화사조제     드라마   2011-11-10    98       15세 관람가   \n",
       "410   전망 좋은 방-밀애   (주) 케이알씨지  멜로/로맨스   2012-11-08    71      청소년 관람불가   \n",
       "338  타부 : 금지된 사랑      고구마공작소  멜로/로맨스   2015-09-03    78      청소년 관람불가   \n",
       "324           청아  인피니티엔터테인먼트     드라마   2014-09-25    92      청소년 관람불가   \n",
       "432      젊은 엄마 2    골든타이드픽처스  멜로/로맨스   2014-05-29    89      청소년 관람불가   \n",
       "\n",
       "    director  dir_prev_bfnum  dir_prev_num  num_staff  num_actor  box_off_num  \n",
       "372      윤제균             NaN             0        869          4     14262766  \n",
       "362      최동훈    2.564692e+06             3        462         10     12983841  \n",
       "530      이환경    8.190495e+05             2        300          8     12811435  \n",
       "498      최동훈    5.169479e+06             4        628          3     12706663  \n",
       "460      추창민    1.552541e+06             2        402          3     12323595  \n",
       "..       ...             ...           ...        ...        ...          ...  \n",
       "481      진광교             NaN             0          1          2           36  \n",
       "410      이세일             NaN             0          0          3           10  \n",
       "338      고구마    1.761531e+07             1         27          3            8  \n",
       "324      김정호             NaN             0          3          4            2  \n",
       "432      노성수             NaN             0          0          1            1  \n",
       "\n",
       "[600 rows x 12 columns]"
      ]
     },
     "execution_count": 11,
     "metadata": {},
     "output_type": "execute_result"
    }
   ],
   "source": [
    "df_train.sort_values(by='box_off_num', ascending=False)"
   ]
  },
  {
   "cell_type": "code",
   "execution_count": 12,
   "metadata": {},
   "outputs": [
    {
     "data": {
      "text/plain": [
       "청소년 관람불가    204\n",
       "15세 관람가     202\n",
       "12세 관람가     102\n",
       "전체 관람가       92\n",
       "Name: screening_rat, dtype: int64"
      ]
     },
     "execution_count": 12,
     "metadata": {},
     "output_type": "execute_result"
    }
   ],
   "source": [
    "df_train['screening_rat'].value_counts()"
   ]
  },
  {
   "cell_type": "code",
   "execution_count": 13,
   "metadata": {},
   "outputs": [
    {
     "data": {
      "image/png": "[encoded data removed]",
      "text/plain": [
       "<Figure size 640x480 with 1 Axes>"
      ]
     },
     "metadata": {},
     "output_type": "display_data"
    }
   ],
   "source": [
    "plt.scatter(np.arange(600), df_train.sort_values(by='box_off_num', ascending=False)['screening_rat'])\n",
    "plt.show()"
   ]
  },
  {
   "cell_type": "code",
   "execution_count": 14,
   "metadata": {},
   "outputs": [
    {
     "data": {
      "image/png": "[encoded data removed]",
      "text/plain": [
       "<Figure size 640x480 with 1 Axes>"
      ]
     },
     "metadata": {},
     "output_type": "display_data"
    }
   ],
   "source": [
    "plt.scatter(np.arange(600), df_train.sort_values(by='box_off_num', ascending=False)['time'])\n",
    "plt.show()"
   ]
  },
  {
   "attachments": {},
   "cell_type": "markdown",
   "metadata": {},
   "source": [
    "와 드디어 상관관계를 찾았다.  \n",
    "시청자가 적어지면 상영시간도 적다.  \n",
    "  \n",
    "즉, 시청자와 상영시간의 관계는 음의 상관관계다.  "
   ]
  },
  {
   "cell_type": "code",
   "execution_count": 15,
   "metadata": {},
   "outputs": [
    {
     "data": {
      "image/png": "[encoded data removed]",
      "text/plain": [
       "<Figure size 640x480 with 1 Axes>"
      ]
     },
     "metadata": {},
     "output_type": "display_data"
    }
   ],
   "source": [
    "plt.scatter(np.arange(600), df_train.sort_values(by='box_off_num', ascending=False)['num_staff'])\n",
    "plt.show()"
   ]
  },
  {
   "attachments": {},
   "cell_type": "markdown",
   "metadata": {},
   "source": [
    "시청자와 스태프 수는 음의 상관관계다"
   ]
  },
  {
   "cell_type": "code",
   "execution_count": 16,
   "metadata": {},
   "outputs": [
    {
     "data": {
      "image/png": "[encoded data removed]",
      "text/plain": [
       "<Figure size 640x480 with 1 Axes>"
      ]
     },
     "metadata": {},
     "output_type": "display_data"
    }
   ],
   "source": [
    "plt.scatter(np.arange(600), df_train.sort_values(by='box_off_num', ascending=False)['num_actor'])\n",
    "plt.show()"
   ]
  },
  {
   "cell_type": "code",
   "execution_count": 17,
   "metadata": {},
   "outputs": [
    {
     "data": {
      "image/png": "[encoded data removed]",
      "text/plain": [
       "<Figure size 640x480 with 1 Axes>"
      ]
     },
     "metadata": {},
     "output_type": "display_data"
    }
   ],
   "source": [
    "plt.scatter(np.arange(600), df_train.sort_values(by='box_off_num', ascending=False)['dir_prev_bfnum'])\n",
    "plt.show()"
   ]
  },
  {
   "cell_type": "code",
   "execution_count": 18,
   "metadata": {},
   "outputs": [
    {
     "data": {
      "image/png": "[encoded data removed]",
      "text/plain": [
       "<Figure size 640x480 with 1 Axes>"
      ]
     },
     "metadata": {},
     "output_type": "display_data"
    }
   ],
   "source": [
    "plt.scatter(np.arange(600), df_train.sort_values(by='box_off_num', ascending=False)['dir_prev_num'])\n",
    "plt.show()"
   ]
  },
  {
   "cell_type": "code",
   "execution_count": 19,
   "metadata": {},
   "outputs": [
    {
     "data": {
      "text/plain": [
       "CJ 엔터테인먼트        54\n",
       "롯데엔터테인먼트         52\n",
       "(주)NEW           30\n",
       "(주)마운틴픽쳐스        29\n",
       "(주)쇼박스           26\n",
       "                 ..\n",
       "OAL(올)            1\n",
       "(주)에이원 엔터테인먼트     1\n",
       "(주)콘텐츠 윙          1\n",
       "위더스필름             1\n",
       "퍼스트런              1\n",
       "Name: distributor, Length: 169, dtype: int64"
      ]
     },
     "execution_count": 19,
     "metadata": {},
     "output_type": "execute_result"
    }
   ],
   "source": [
    "df_train.distributor.value_counts()"
   ]
  },
  {
   "cell_type": "code",
   "execution_count": 20,
   "metadata": {},
   "outputs": [],
   "source": [
    "def ShowGraph(Feature : str, From : int, To : int):\n",
    "\tDict={}\n",
    "\tfor i, x in enumerate(df_train.sort_values(by='box_off_num', ascending=False)[Feature]):\n",
    "\t\tif From-1 <= i and i < To:\n",
    "\t\t\tif Dict.get(x) == None:\n",
    "\t\t\t\tDict[x]=1\n",
    "\t\t\telse:\n",
    "\t\t\t\tDict[x]+=1\n",
    "\tpd.DataFrame({Feature : Dict.keys(), 'val' : Dict.values()}).plot.bar(x=Feature, y='val', rot=0, title=f'{From}~{To}위 까지')\n",
    "\treturn Dict"
   ]
  },
  {
   "cell_type": "code",
   "execution_count": 21,
   "metadata": {},
   "outputs": [
    {
     "data": {
      "text/plain": [
       "{'CJ 엔터테인먼트': 8, '(주)쇼박스': 5, '(주)NEW': 4, '롯데엔터테인먼트': 2, 'CJ E&M Pictures': 1}"
      ]
     },
     "execution_count": 21,
     "metadata": {},
     "output_type": "execute_result"
    },
    {
     "data": {
      "image/png": "[encoded data removed]",
      "text/plain": [
       "<Figure size 640x480 with 1 Axes>"
      ]
     },
     "metadata": {},
     "output_type": "display_data"
    }
   ],
   "source": [
    "ShowGraph('distributor',1, 20)"
   ]
  },
  {
   "cell_type": "code",
   "execution_count": 22,
   "metadata": {},
   "outputs": [
    {
     "data": {
      "text/plain": [
       "{'CJ 엔터테인먼트': 2,\n",
       " 'CJ E&M 영화부문': 1,\n",
       " 'CGV아트하우스': 1,\n",
       " '쇼박스(주)미디어플렉스': 1,\n",
       " '(주)쇼박스': 2,\n",
       " '(주)NEW': 1,\n",
       " '롯데엔터테인먼트': 3}"
      ]
     },
     "execution_count": 22,
     "metadata": {},
     "output_type": "execute_result"
    },
    {
     "data": {
      "image/png": "[encoded data removed]",
      "text/plain": [
       "<Figure size 640x480 with 1 Axes>"
      ]
     },
     "metadata": {},
     "output_type": "display_data"
    }
   ],
   "source": [
    "ShowGraph('distributor',20, 30)"
   ]
  },
  {
   "cell_type": "code",
   "execution_count": 23,
   "metadata": {},
   "outputs": [
    {
     "data": {
      "text/plain": [
       "{'CJ 엔터테인먼트': 13,\n",
       " '(주)쇼박스': 11,\n",
       " '(주)NEW': 7,\n",
       " '롯데엔터테인먼트': 8,\n",
       " 'CJ E&M Pictures': 1,\n",
       " 'CJ E&M 영화부문': 1,\n",
       " 'CGV아트하우스': 1,\n",
       " '쇼박스(주)미디어플렉스': 1,\n",
       " '시네마서비스': 1,\n",
       " '(주)아이필름코퍼레이션': 1,\n",
       " 'NEW': 1,\n",
       " '인벤트 디': 1,\n",
       " '영구아트무비': 1,\n",
       " '필라멘트 픽쳐스': 1,\n",
       " '이십세기폭스코리아(주)': 1}"
      ]
     },
     "execution_count": 23,
     "metadata": {},
     "output_type": "execute_result"
    },
    {
     "data": {
      "image/png": "[encoded data removed]",
      "text/plain": [
       "<Figure size 640x480 with 1 Axes>"
      ]
     },
     "metadata": {},
     "output_type": "display_data"
    }
   ],
   "source": [
    "ShowGraph('distributor',1, 50)"
   ]
  },
  {
   "cell_type": "code",
   "execution_count": 24,
   "metadata": {},
   "outputs": [
    {
     "data": {
      "image/png": "[encoded data removed]",
      "text/plain": [
       "<Figure size 640x480 with 1 Axes>"
      ]
     },
     "metadata": {},
     "output_type": "display_data"
    }
   ],
   "source": [
    "DistributorList = ShowGraph('distributor',1, 600)"
   ]
  },
  {
   "cell_type": "code",
   "execution_count": 25,
   "metadata": {},
   "outputs": [
    {
     "data": {
      "text/plain": [
       "[('CJ 엔터테인먼트', 54),\n",
       " ('롯데엔터테인먼트', 52),\n",
       " ('(주)NEW', 30),\n",
       " ('(주)마운틴픽쳐스', 29),\n",
       " ('(주)쇼박스', 26),\n",
       " ('인디스토리', 26),\n",
       " ('골든타이드픽처스', 15),\n",
       " ('(주) 케이알씨지', 14),\n",
       " ('시너지', 10),\n",
       " ('영화사 진진', 10),\n",
       " ('시네마달', 10),\n",
       " ('(주) 영화사조제', 10),\n",
       " ('어뮤즈', 10),\n",
       " ('(주)키노아이', 10),\n",
       " ('인디플러그', 9),\n",
       " ('NEW', 8),\n",
       " ('인벤트 디', 8),\n",
       " ('KT&G 상상마당', 8),\n",
       " ('스폰지', 7),\n",
       " ('시네마서비스', 6),\n",
       " ('필라멘트 픽쳐스', 6),\n",
       " ('무비꼴라쥬', 6),\n",
       " ('BoXoo 엔터테인먼트', 6),\n",
       " ('시네마 달', 6),\n",
       " ('(주)팝엔터테인먼트', 6),\n",
       " ('CGV아트하우스', 5),\n",
       " ('리틀빅픽처스', 5),\n",
       " ('메가박스(주)플러스엠', 4),\n",
       " ('씨너스엔터테인먼트(주)', 4),\n",
       " ('나이너스엔터테인먼트(주)', 4),\n",
       " ('(주)엣나인필름', 4),\n",
       " ('마노엔터테인먼트', 4),\n",
       " ('홀리가든', 4),\n",
       " ('CJ E&M 영화부문', 3),\n",
       " ('이십세기폭스코리아(주)', 3),\n",
       " ('싸이더스', 3),\n",
       " ('씨네그루(주)키다리이엔티', 3),\n",
       " ('KT', 3),\n",
       " ('(주)마인스 엔터테인먼트', 3),\n",
       " ('타임스토리그룹', 3),\n",
       " ('(주) 영화제작전원사', 3),\n",
       " ('김기덕 필름', 3),\n",
       " ('(주) 브릿지웍스', 3),\n",
       " ('트리필름', 3),\n",
       " ('드림팩트 엔터테인먼트', 3),\n",
       " ('마운틴 픽처스', 3),\n",
       " ('이모션 픽처스', 3),\n",
       " ('CJ E&M Pictures', 2),\n",
       " ('쇼박스(주)미디어플렉스', 2),\n",
       " ('CGV 아트하우스', 2),\n",
       " ('리틀빅픽쳐스', 2),\n",
       " ('(주)리틀빅픽처스', 2),\n",
       " ('(주)프레인글로벌', 2),\n",
       " ('화앤담이엔티', 2),\n",
       " ('SBS콘텐츠허브', 2),\n",
       " ('백두대간', 2),\n",
       " ('에스피엠', 2),\n",
       " ('(주)시네마달', 2),\n",
       " ('(주)마인스엔터테인먼트', 2),\n",
       " ('조이앤시네마', 2),\n",
       " ('파이오니아21', 2),\n",
       " ('(주)스톰픽쳐스코리아', 2),\n",
       " ('노바엔터테인먼트', 2),\n",
       " ('서울독립영화제', 2),\n",
       " ('드림로드', 2),\n",
       " ('(주) 액티버스엔터테인먼트', 2),\n",
       " ('웃기씨네', 2),\n",
       " ('(주)아이필름코퍼레이션', 1),\n",
       " ('영구아트무비', 1),\n",
       " ('SK텔레콤(주)', 1),\n",
       " ('전망좋은영화사', 1),\n",
       " ('주머니필름', 1),\n",
       " ('보람엔터테인먼트', 1),\n",
       " ('스튜디오 블루', 1),\n",
       " ('(주)JK필름', 1),\n",
       " ('OAL(올)', 1),\n",
       " ('싸이더스 FNH', 1),\n",
       " ('판씨네마(주)', 1),\n",
       " ('스토리셋', 1),\n",
       " ('(주)이스트스카이필름', 1),\n",
       " ('전주국제영화제', 1),\n",
       " ('(주)에이원 엔터테인먼트', 1),\n",
       " ('오퍼스픽쳐스', 1),\n",
       " ('THE 픽쳐스', 1),\n",
       " ('디 씨드', 1),\n",
       " ('이달투', 1),\n",
       " ('에이원 엔터테인먼트', 1),\n",
       " ('(주)팝 파트너스', 1),\n",
       " ('(주)아우라픽처스', 1),\n",
       " ('영화사 조아', 1),\n",
       " ('싸이더스FNH', 1),\n",
       " ('SK플래닛', 1),\n",
       " ('스튜디오후크', 1),\n",
       " ('조이앤컨텐츠그룹', 1),\n",
       " ('와이드 릴리즈(주)', 1),\n",
       " ('더 피플', 1),\n",
       " ('새인컴퍼니', 1),\n",
       " ('더픽쳐스/(주)마운틴픽쳐스', 1),\n",
       " ('(주)유비콘텐츠', 1),\n",
       " ('CJ CGV', 1),\n",
       " ('(주)예지림 엔터테인먼트', 1),\n",
       " ('스튜디오 느림보', 1),\n",
       " ('KBS미디어(주)', 1),\n",
       " ('스크린조이', 1),\n",
       " ('영화사 廊', 1),\n",
       " ('(주)로드하우스', 1),\n",
       " ('CGV 무비꼴라쥬', 1),\n",
       " ('(주)대명문화공장', 1),\n",
       " ('필름라인', 1),\n",
       " ('유니버설픽쳐스인터내셔널코리아', 1),\n",
       " ('(주)패스파인더씨앤씨', 1),\n",
       " ('상구네 필름', 1),\n",
       " ('에이블엔터테인먼트', 1),\n",
       " ('프리비젼 엔터테인먼트', 1),\n",
       " ('미라클 필름', 1),\n",
       " ('케이엠스타', 1),\n",
       " ('콘텐츠판다', 1),\n",
       " ('(주)레인보우 팩토리', 1),\n",
       " ('(주)미디어데이', 1),\n",
       " ('머스트 씨 무비', 1),\n",
       " ('롤러코스터 프로덕션', 1),\n",
       " ('와이드릴리즈(주)', 1),\n",
       " ('영희야놀자', 1),\n",
       " ('(주)스마일이엔티', 1),\n",
       " ('tvN', 1),\n",
       " ('찬란', 1),\n",
       " ('어썸 피플', 1),\n",
       " ('씨네굿필름', 1),\n",
       " ('키노엔터테인먼트', 1),\n",
       " ('(주)노버스엔터테인먼트', 1),\n",
       " ('퍼스트런', 1),\n",
       " ('(주)콘텐츠 윙', 1),\n",
       " ('M2픽처스', 1),\n",
       " ('(주)드림팩트엔터테인먼트', 1),\n",
       " ('(주)피터팬픽쳐스', 1),\n",
       " ('(주)고앤고 필름', 1),\n",
       " ('(주)두타연', 1),\n",
       " ('(주)패뷸러스', 1),\n",
       " ('아방가르드 필름', 1),\n",
       " ('(주)랠리버튼', 1),\n",
       " ('동국대학교 충무로영상제작센터', 1),\n",
       " ('팜코리아미디어', 1),\n",
       " ('제나두 엔터테인먼트', 1),\n",
       " ('두 엔터테인먼트', 1),\n",
       " ('스폰지이엔티', 1),\n",
       " ('하준사', 1),\n",
       " ('쟈비스미디어', 1),\n",
       " ('마법사필름', 1),\n",
       " ('디마엔터테인먼트', 1),\n",
       " ('프로젝트 엠피', 1),\n",
       " ('판다미디어', 1),\n",
       " ('(주)더픽쳐스', 1),\n",
       " ('이상우필름', 1),\n",
       " ('(주)온비즈넷', 1),\n",
       " ('(주)유비네트워크', 1),\n",
       " ('(주)휘엔터테인먼트', 1),\n",
       " ('크리에이티브컴즈(주)', 1),\n",
       " ('ysfilm', 1),\n",
       " ('에스와이코마드', 1),\n",
       " ('건시네마', 1),\n",
       " ('(주)씨엠닉스', 1),\n",
       " ('위더스필름', 1),\n",
       " ('인터콘미디어', 1),\n",
       " ('한국YWCA연합회', 1),\n",
       " ('나우콘텐츠', 1),\n",
       " ('위드시네마', 1),\n",
       " ('사람과 사람들', 1),\n",
       " ('고구마공작소', 1),\n",
       " ('인피니티엔터테인먼트', 1)]"
      ]
     },
     "execution_count": 25,
     "metadata": {},
     "output_type": "execute_result"
    }
   ],
   "source": [
    "sorted(DistributorList.items(), key=lambda x : x[1], reverse=True)"
   ]
  },
  {
   "attachments": {},
   "cell_type": "markdown",
   "metadata": {},
   "source": [
    "아하  \n",
    "'CJ 엔터테인먼트', '(주)쇼박스', '(주)NEW', '롯데엔터테인먼트'  \n",
    "\"그저 명작 그 자체\" 구나!  \n",
    "  \n",
    "[('CJ 엔터테인먼트', 54),  \n",
    " ('롯데엔터테인먼트', 52),  \n",
    " ('(주)NEW', 30),  \n",
    " ('(주)마운틴픽쳐스', 29),  \n",
    " ('(주)쇼박스', 26),  \n",
    " ('인디스토리', 26),  \n",
    "아 이 곳들이 많이 만드는구나   "
   ]
  },
  {
   "cell_type": "code",
   "execution_count": 26,
   "metadata": {},
   "outputs": [
    {
     "data": {
      "text/plain": [
       "{'드라마': 2, '느와르': 1, '코미디': 1, '액션': 1}"
      ]
     },
     "execution_count": 26,
     "metadata": {},
     "output_type": "execute_result"
    },
    {
     "data": {
      "image/png": "[encoded data removed]",
      "text/plain": [
       "<Figure size 640x480 with 1 Axes>"
      ]
     },
     "metadata": {},
     "output_type": "display_data"
    }
   ],
   "source": [
    "ShowGraph('genre',1, 5)"
   ]
  },
  {
   "cell_type": "code",
   "execution_count": 27,
   "metadata": {},
   "outputs": [
    {
     "data": {
      "text/plain": [
       "{'드라마': 5, '느와르': 3, '코미디': 3, '액션': 5, 'SF': 2, '공포': 1, '미스터리': 1}"
      ]
     },
     "execution_count": 27,
     "metadata": {},
     "output_type": "execute_result"
    },
    {
     "data": {
      "image/png": "[encoded data removed]",
      "text/plain": [
       "<Figure size 640x480 with 1 Axes>"
      ]
     },
     "metadata": {},
     "output_type": "display_data"
    }
   ],
   "source": [
    "ShowGraph('genre',1, 20)"
   ]
  },
  {
   "cell_type": "code",
   "execution_count": 28,
   "metadata": {},
   "outputs": [
    {
     "data": {
      "text/plain": [
       "{'드라마': 15,\n",
       " '느와르': 8,\n",
       " '코미디': 9,\n",
       " '액션': 7,\n",
       " 'SF': 2,\n",
       " '공포': 2,\n",
       " '미스터리': 2,\n",
       " '다큐멘터리': 1,\n",
       " '멜로/로맨스': 4}"
      ]
     },
     "execution_count": 28,
     "metadata": {},
     "output_type": "execute_result"
    },
    {
     "data": {
      "image/png": "[encoded data removed]",
      "text/plain": [
       "<Figure size 640x480 with 1 Axes>"
      ]
     },
     "metadata": {},
     "output_type": "display_data"
    }
   ],
   "source": [
    "ShowGraph('genre',1, 50)"
   ]
  },
  {
   "cell_type": "code",
   "execution_count": 29,
   "metadata": {},
   "outputs": [
    {
     "data": {
      "text/plain": [
       "{'드라마': 32,\n",
       " '느와르': 17,\n",
       " '코미디': 12,\n",
       " '액션': 14,\n",
       " 'SF': 4,\n",
       " '공포': 6,\n",
       " '미스터리': 2,\n",
       " '다큐멘터리': 1,\n",
       " '멜로/로맨스': 11,\n",
       " '애니메이션': 1}"
      ]
     },
     "execution_count": 29,
     "metadata": {},
     "output_type": "execute_result"
    },
    {
     "data": {
      "image/png": "[encoded data removed]",
      "text/plain": [
       "<Figure size 640x480 with 1 Axes>"
      ]
     },
     "metadata": {},
     "output_type": "display_data"
    }
   ],
   "source": [
    "ShowGraph('genre',1, 100)"
   ]
  },
  {
   "attachments": {},
   "cell_type": "markdown",
   "metadata": {},
   "source": [
    "아하 드라마 > 느와르 > 액션 > 코미디 순이구나  \n",
    "  \n",
    "하지만 드라마 : 1등인 점은 확실하나, 2~4등은 애매  \n",
    "느와르 == 코미디 == 액션 비슷비슷  "
   ]
  },
  {
   "cell_type": "code",
   "execution_count": 30,
   "metadata": {},
   "outputs": [
    {
     "data": {
      "text/plain": [
       "{'12세 관람가': 3, '15세 관람가': 15, '청소년 관람불가': 2}"
      ]
     },
     "execution_count": 30,
     "metadata": {},
     "output_type": "execute_result"
    },
    {
     "data": {
      "image/png": "[encoded data removed]",
      "text/plain": [
       "<Figure size 640x480 with 1 Axes>"
      ]
     },
     "metadata": {},
     "output_type": "display_data"
    }
   ],
   "source": [
    "ShowGraph('screening_rat',1, 20)"
   ]
  },
  {
   "cell_type": "code",
   "execution_count": 31,
   "metadata": {},
   "outputs": [
    {
     "data": {
      "text/plain": [
       "{'12세 관람가': 11, '15세 관람가': 28, '청소년 관람불가': 10, '전체 관람가': 1}"
      ]
     },
     "execution_count": 31,
     "metadata": {},
     "output_type": "execute_result"
    },
    {
     "data": {
      "image/png": "[encoded data removed]",
      "text/plain": [
       "<Figure size 640x480 with 1 Axes>"
      ]
     },
     "metadata": {},
     "output_type": "display_data"
    }
   ],
   "source": [
    "ShowGraph('screening_rat',1, 50)"
   ]
  },
  {
   "cell_type": "code",
   "execution_count": 32,
   "metadata": {},
   "outputs": [
    {
     "data": {
      "text/plain": [
       "{'12세 관람가': 20, '15세 관람가': 55, '청소년 관람불가': 23, '전체 관람가': 2}"
      ]
     },
     "execution_count": 32,
     "metadata": {},
     "output_type": "execute_result"
    },
    {
     "data": {
      "image/png": "[encoded data removed]",
      "text/plain": [
       "<Figure size 640x480 with 1 Axes>"
      ]
     },
     "metadata": {},
     "output_type": "display_data"
    }
   ],
   "source": [
    "ShowGraph('screening_rat',1, 100)"
   ]
  },
  {
   "attachments": {},
   "cell_type": "markdown",
   "metadata": {},
   "source": [
    "15세 관람가 > 12세 관람가 == 청소년 관람불가 > 전체 관람가  \n",
    "아하 15세 관람가가 명작이구나  \n",
    "전체 관람가는 적구나  "
   ]
  },
  {
   "cell_type": "code",
   "execution_count": 33,
   "metadata": {},
   "outputs": [],
   "source": [
    "# df_train.loc[ df_train['screening_rat'] == '전체 관람가' , 'screening_rat'] = 0\n",
    "# df_train.loc[ df_train['screening_rat'] == '12세 관람가' , 'screening_rat'] = 1\n",
    "# df_train.loc[ df_train['screening_rat'] == '15세 관람가' , 'screening_rat'] = 2\n",
    "# df_train.loc[ df_train['screening_rat'] == '청소년 관람불가' , 'screening_rat'] = 3"
   ]
  },
  {
   "cell_type": "code",
   "execution_count": 34,
   "metadata": {},
   "outputs": [
    {
     "data": {
      "text/plain": [
       "{'윤제균': 1,\n",
       " '최동훈': 2,\n",
       " '이환경': 1,\n",
       " '추창민': 1,\n",
       " '양우석': 1,\n",
       " '봉준호': 1,\n",
       " '한재림': 1,\n",
       " '이석훈': 2,\n",
       " '황동혁': 1,\n",
       " '김한민': 1,\n",
       " '강형철': 1,\n",
       " '류승완': 1,\n",
       " '우민호': 1,\n",
       " '장철수': 1,\n",
       " '이정범': 1,\n",
       " '허정': 1,\n",
       " '조의석': 1,\n",
       " '장재현': 1}"
      ]
     },
     "execution_count": 34,
     "metadata": {},
     "output_type": "execute_result"
    },
    {
     "data": {
      "image/png": "[encoded data removed]",
      "text/plain": [
       "<Figure size 640x480 with 1 Axes>"
      ]
     },
     "metadata": {},
     "output_type": "display_data"
    }
   ],
   "source": [
    "ShowGraph('director',1, 20)"
   ]
  },
  {
   "attachments": {},
   "cell_type": "markdown",
   "metadata": {},
   "source": [
    "명작은 그냥 골고루 만드는구나"
   ]
  },
  {
   "attachments": {},
   "cell_type": "markdown",
   "metadata": {},
   "source": [
    "근데 설마 제목의 길이도 영향을 끼칠까?"
   ]
  },
  {
   "cell_type": "code",
   "execution_count": 35,
   "metadata": {},
   "outputs": [],
   "source": [
    "def ShowLen(From : int, To : int):\n",
    "\tDict={}\n",
    "\tfor i, x in enumerate(df_train.sort_values(by='box_off_num', ascending=False)['title']):\n",
    "\t\tx = len(x.replace(' ',''))\n",
    "\t\tif From-1 <= i and i < To:\n",
    "\t\t\tif Dict.get(x) == None:\n",
    "\t\t\t\tDict[x]=1\n",
    "\t\t\telse:\n",
    "\t\t\t\tDict[x]+=1\n",
    "\tprint(Dict)\n",
    "\tpd.DataFrame({'title' : Dict.keys(), 'val' : Dict.values()}).plot.bar(x='title', y='val', rot=0, title=f'{From}~{To}위 까지')"
   ]
  },
  {
   "cell_type": "code",
   "execution_count": 36,
   "metadata": {},
   "outputs": [
    {
     "name": "stdout",
     "output_type": "stream",
     "text": [
      "{4: 6, 3: 4, 6: 1, 2: 3, 8: 2, 9: 1, 5: 3}\n"
     ]
    },
    {
     "data": {
      "image/png": "[encoded data removed]",
      "text/plain": [
       "<Figure size 640x480 with 1 Axes>"
      ]
     },
     "metadata": {},
     "output_type": "display_data"
    }
   ],
   "source": [
    "ShowLen(1, 20)"
   ]
  },
  {
   "cell_type": "code",
   "execution_count": 37,
   "metadata": {},
   "outputs": [
    {
     "name": "stdout",
     "output_type": "stream",
     "text": [
      "{4: 16, 3: 24, 6: 11, 2: 15, 8: 5, 9: 3, 5: 15, 11: 1, 14: 1, 15: 1, 7: 5, 12: 1, 10: 2}\n"
     ]
    },
    {
     "data": {
      "image/png": "[encoded data removed]",
      "text/plain": [
       "<Figure size 640x480 with 1 Axes>"
      ]
     },
     "metadata": {},
     "output_type": "display_data"
    }
   ],
   "source": [
    "ShowLen(1, 100)"
   ]
  },
  {
   "attachments": {},
   "cell_type": "markdown",
   "metadata": {},
   "source": [
    "음..ㅋㅋ 스페이스 바 제외 3글자가 많구나  \n",
    "4, 2, 5 는 거기서 거기  \n",
    "이게 관련이 있을 줄 몰랐네  "
   ]
  },
  {
   "attachments": {},
   "cell_type": "markdown",
   "metadata": {},
   "source": [
    "혹시 명작 대량생산 년도가 있을까?"
   ]
  },
  {
   "cell_type": "code",
   "execution_count": 38,
   "metadata": {},
   "outputs": [],
   "source": [
    "def ShowYear(From : int, To : int):\n",
    "\tDict={}\n",
    "\tfor i, x in enumerate(df_train.sort_values(by='box_off_num', ascending=False)['release_time']):\n",
    "\t\tx = x.split('-')[0]\n",
    "\t\tif From-1 <= i and i < To:\n",
    "\t\t\tif Dict.get(x) == None:\n",
    "\t\t\t\tDict[x]=1\n",
    "\t\t\telse:\n",
    "\t\t\t\tDict[x]+=1\n",
    "\tprint(Dict)\n",
    "\tpd.DataFrame({'release_time' : Dict.keys(), 'val' : Dict.values()}).plot.bar(x='release_time', y='val', rot=0, title=f'{From}~{To}위 까지')"
   ]
  },
  {
   "cell_type": "code",
   "execution_count": 39,
   "metadata": {},
   "outputs": [
    {
     "name": "stdout",
     "output_type": "stream",
     "text": [
      "{'2014': 3, '2012': 2, '2013': 8, '2015': 4, '2011': 2, '2010': 1}\n"
     ]
    },
    {
     "data": {
      "image/png": "[encoded data removed]",
      "text/plain": [
       "<Figure size 640x480 with 1 Axes>"
      ]
     },
     "metadata": {},
     "output_type": "display_data"
    }
   ],
   "source": [
    "ShowYear(1, 20)"
   ]
  },
  {
   "cell_type": "code",
   "execution_count": 40,
   "metadata": {},
   "outputs": [
    {
     "name": "stdout",
     "output_type": "stream",
     "text": [
      "{'2014': 8, '2012': 12, '2013': 10, '2015': 7, '2011': 6, '2010': 7}\n"
     ]
    },
    {
     "data": {
      "image/png": "[encoded data removed]",
      "text/plain": [
       "<Figure size 640x480 with 1 Axes>"
      ]
     },
     "metadata": {},
     "output_type": "display_data"
    }
   ],
   "source": [
    "ShowYear(1, 50)"
   ]
  },
  {
   "cell_type": "code",
   "execution_count": 41,
   "metadata": {},
   "outputs": [
    {
     "name": "stdout",
     "output_type": "stream",
     "text": [
      "{'2014': 127, '2012': 88, '2013': 95, '2015': 120, '2011': 80, '2010': 90}\n"
     ]
    },
    {
     "data": {
      "image/png": "[encoded data removed]",
      "text/plain": [
       "<Figure size 640x480 with 1 Axes>"
      ]
     },
     "metadata": {},
     "output_type": "display_data"
    }
   ],
   "source": [
    "ShowYear(1, 600)"
   ]
  },
  {
   "attachments": {},
   "cell_type": "markdown",
   "metadata": {},
   "source": [
    "년도는 크게? 상관 없는 듯"
   ]
  },
  {
   "cell_type": "code",
   "execution_count": 42,
   "metadata": {},
   "outputs": [
    {
     "data": {
      "text/plain": [
       "{4: 19, 10: 2, 8: 5, 3: 25, 5: 13, 6: 5, 2: 24, 11: 2, 22: 1, 1: 1, 7: 2, 9: 1}"
      ]
     },
     "execution_count": 42,
     "metadata": {},
     "output_type": "execute_result"
    },
    {
     "data": {
      "image/png": "[encoded data removed]",
      "text/plain": [
       "<Figure size 640x480 with 1 Axes>"
      ]
     },
     "metadata": {},
     "output_type": "display_data"
    }
   ],
   "source": [
    "ShowGraph('num_actor',1, 100)"
   ]
  },
  {
   "attachments": {},
   "cell_type": "markdown",
   "metadata": {},
   "source": [
    "주연이 몇 명인지도 좀 중요하구나"
   ]
  },
  {
   "cell_type": "code",
   "execution_count": 43,
   "metadata": {},
   "outputs": [
    {
     "data": {
      "text/plain": [
       "{869: 1,\n",
       " 462: 1,\n",
       " 300: 1,\n",
       " 628: 1,\n",
       " 402: 1,\n",
       " 311: 1,\n",
       " 67: 1,\n",
       " 298: 2,\n",
       " 868: 1,\n",
       " 437: 2,\n",
       " 520: 1,\n",
       " 687: 1,\n",
       " 572: 2,\n",
       " 363: 1,\n",
       " 387: 1,\n",
       " 343: 3,\n",
       " 509: 1,\n",
       " 249: 1,\n",
       " 331: 1,\n",
       " 369: 2,\n",
       " 126: 1,\n",
       " 3: 1,\n",
       " 335: 2,\n",
       " 308: 2,\n",
       " 340: 1,\n",
       " 128: 1,\n",
       " 288: 2,\n",
       " 583: 1,\n",
       " 456: 1,\n",
       " 650: 1,\n",
       " 418: 1,\n",
       " 207: 1,\n",
       " 353: 1,\n",
       " 458: 1,\n",
       " 324: 2,\n",
       " 481: 1,\n",
       " 319: 1,\n",
       " 365: 1,\n",
       " 238: 1,\n",
       " 471: 1,\n",
       " 342: 1,\n",
       " 438: 1,\n",
       " 31: 1,\n",
       " 264: 1,\n",
       " 257: 1,\n",
       " 68: 1,\n",
       " 14: 1,\n",
       " 302: 1,\n",
       " 683: 1,\n",
       " 59: 1,\n",
       " 36: 1,\n",
       " 431: 1,\n",
       " 719: 1,\n",
       " 287: 1,\n",
       " 500: 1,\n",
       " 382: 1,\n",
       " 433: 1,\n",
       " 397: 1,\n",
       " 419: 1,\n",
       " 423: 1,\n",
       " 252: 1,\n",
       " 582: 1,\n",
       " 281: 1,\n",
       " 612: 1,\n",
       " 277: 1,\n",
       " 315: 1,\n",
       " 499: 1,\n",
       " 286: 1,\n",
       " 566: 1,\n",
       " 304: 1,\n",
       " 284: 1,\n",
       " 466: 1,\n",
       " 546: 1,\n",
       " 134: 1,\n",
       " 510: 1,\n",
       " 420: 1,\n",
       " 379: 1,\n",
       " 307: 1,\n",
       " 410: 1,\n",
       " 391: 1,\n",
       " 422: 1,\n",
       " 372: 1,\n",
       " 224: 1,\n",
       " 318: 1,\n",
       " 143: 1,\n",
       " 344: 1,\n",
       " 477: 1,\n",
       " 243: 1,\n",
       " 600: 1,\n",
       " 261: 1}"
      ]
     },
     "execution_count": 43,
     "metadata": {},
     "output_type": "execute_result"
    },
    {
     "data": {
      "image/png": "[encoded data removed]",
      "text/plain": [
       "<Figure size 640x480 with 1 Axes>"
      ]
     },
     "metadata": {},
     "output_type": "display_data"
    }
   ],
   "source": [
    "ShowGraph('num_staff', 1, 100)"
   ]
  },
  {
   "attachments": {},
   "cell_type": "markdown",
   "metadata": {},
   "source": [
    "스태프는 잘 모르겠소 범위로 알아보자"
   ]
  },
  {
   "cell_type": "code",
   "execution_count": 44,
   "metadata": {},
   "outputs": [],
   "source": [
    "for i in range(0, df_train['num_staff'].max()+100, 100):\n",
    "\tdf_train.loc[ (df_train['num_staff'] >= i) & (df_train['num_staff'] < i+100) , 'num_staff'] = i"
   ]
  },
  {
   "cell_type": "code",
   "execution_count": 45,
   "metadata": {},
   "outputs": [
    {
     "data": {
      "text/plain": [
       "0      324\n",
       "100     83\n",
       "300     68\n",
       "200     68\n",
       "400     34\n",
       "500     13\n",
       "600      7\n",
       "800      2\n",
       "700      1\n",
       "Name: num_staff, dtype: int64"
      ]
     },
     "execution_count": 45,
     "metadata": {},
     "output_type": "execute_result"
    }
   ],
   "source": [
    "df_train.num_staff.value_counts()"
   ]
  },
  {
   "cell_type": "code",
   "execution_count": 46,
   "metadata": {},
   "outputs": [
    {
     "data": {
      "text/plain": [
       "{800: 2, 400: 20, 300: 32, 600: 6, 0: 7, 200: 18, 500: 10, 100: 4, 700: 1}"
      ]
     },
     "execution_count": 46,
     "metadata": {},
     "output_type": "execute_result"
    },
    {
     "data": {
      "image/png": "[encoded data removed]",
      "text/plain": [
       "<Figure size 640x480 with 1 Axes>"
      ]
     },
     "metadata": {},
     "output_type": "display_data"
    }
   ],
   "source": [
    "ShowGraph('num_staff', 1, 100)"
   ]
  },
  {
   "attachments": {},
   "cell_type": "markdown",
   "metadata": {},
   "source": [
    "300명대가 되게 많구나!"
   ]
  },
  {
   "cell_type": "code",
   "execution_count": 47,
   "metadata": {},
   "outputs": [
    {
     "data": {
      "text/plain": [
       "{0: 6, 3: 2, 2: 7, 4: 3, 1: 2}"
      ]
     },
     "execution_count": 47,
     "metadata": {},
     "output_type": "execute_result"
    },
    {
     "data": {
      "image/png": "[encoded data removed]",
      "text/plain": [
       "<Figure size 640x480 with 1 Axes>"
      ]
     },
     "metadata": {},
     "output_type": "display_data"
    }
   ],
   "source": [
    "ShowGraph('dir_prev_num', 1, 20)"
   ]
  },
  {
   "cell_type": "code",
   "execution_count": 48,
   "metadata": {},
   "outputs": [
    {
     "data": {
      "text/plain": [
       "{0: 54, 3: 34, 2: 44, 4: 18, 1: 47, 5: 3}"
      ]
     },
     "execution_count": 48,
     "metadata": {},
     "output_type": "execute_result"
    },
    {
     "data": {
      "image/png": "[encoded data removed]",
      "text/plain": [
       "<Figure size 640x480 with 1 Axes>"
      ]
     },
     "metadata": {},
     "output_type": "display_data"
    }
   ],
   "source": [
    "ShowGraph('dir_prev_num', 1, 200)"
   ]
  },
  {
   "attachments": {},
   "cell_type": "markdown",
   "metadata": {},
   "source": [
    "dir_prev_num 중요하당"
   ]
  },
  {
   "cell_type": "code",
   "execution_count": 49,
   "metadata": {},
   "outputs": [
    {
     "data": {
      "text/html": [
       "<div>\n",
       "<style scoped>\n",
       "    .dataframe tbody tr th:only-of-type {\n",
       "        vertical-align: middle;\n",
       "    }\n",
       "\n",
       "    .dataframe tbody tr th {\n",
       "        vertical-align: top;\n",
       "    }\n",
       "\n",
       "    .dataframe thead th {\n",
       "        text-align: right;\n",
       "    }\n",
       "</style>\n",
       "<table border=\"1\" class=\"dataframe\">\n",
       "  <thead>\n",
       "    <tr style=\"text-align: right;\">\n",
       "      <th></th>\n",
       "      <th>title</th>\n",
       "      <th>distributor</th>\n",
       "      <th>genre</th>\n",
       "      <th>release_time</th>\n",
       "      <th>time</th>\n",
       "      <th>screening_rat</th>\n",
       "      <th>director</th>\n",
       "      <th>dir_prev_bfnum</th>\n",
       "      <th>dir_prev_num</th>\n",
       "      <th>num_staff</th>\n",
       "      <th>num_actor</th>\n",
       "    </tr>\n",
       "  </thead>\n",
       "  <tbody>\n",
       "    <tr>\n",
       "      <th>0</th>\n",
       "      <td>용서는 없다</td>\n",
       "      <td>시네마서비스</td>\n",
       "      <td>느와르</td>\n",
       "      <td>2010-01-07</td>\n",
       "      <td>125</td>\n",
       "      <td>청소년 관람불가</td>\n",
       "      <td>김형준</td>\n",
       "      <td>3.005290e+05</td>\n",
       "      <td>2</td>\n",
       "      <td>304</td>\n",
       "      <td>3</td>\n",
       "    </tr>\n",
       "    <tr>\n",
       "      <th>1</th>\n",
       "      <td>아빠가 여자를 좋아해</td>\n",
       "      <td>(주)쇼박스</td>\n",
       "      <td>멜로/로맨스</td>\n",
       "      <td>2010-01-14</td>\n",
       "      <td>113</td>\n",
       "      <td>12세 관람가</td>\n",
       "      <td>이광재</td>\n",
       "      <td>3.427002e+05</td>\n",
       "      <td>4</td>\n",
       "      <td>275</td>\n",
       "      <td>3</td>\n",
       "    </tr>\n",
       "    <tr>\n",
       "      <th>2</th>\n",
       "      <td>하모니</td>\n",
       "      <td>CJ 엔터테인먼트</td>\n",
       "      <td>드라마</td>\n",
       "      <td>2010-01-28</td>\n",
       "      <td>115</td>\n",
       "      <td>12세 관람가</td>\n",
       "      <td>강대규</td>\n",
       "      <td>4.206611e+06</td>\n",
       "      <td>3</td>\n",
       "      <td>419</td>\n",
       "      <td>7</td>\n",
       "    </tr>\n",
       "    <tr>\n",
       "      <th>3</th>\n",
       "      <td>의형제</td>\n",
       "      <td>(주)쇼박스</td>\n",
       "      <td>액션</td>\n",
       "      <td>2010-02-04</td>\n",
       "      <td>116</td>\n",
       "      <td>15세 관람가</td>\n",
       "      <td>장훈</td>\n",
       "      <td>6.913420e+05</td>\n",
       "      <td>2</td>\n",
       "      <td>408</td>\n",
       "      <td>2</td>\n",
       "    </tr>\n",
       "    <tr>\n",
       "      <th>4</th>\n",
       "      <td>평행 이론</td>\n",
       "      <td>CJ 엔터테인먼트</td>\n",
       "      <td>공포</td>\n",
       "      <td>2010-02-18</td>\n",
       "      <td>110</td>\n",
       "      <td>15세 관람가</td>\n",
       "      <td>권호영</td>\n",
       "      <td>3.173800e+04</td>\n",
       "      <td>1</td>\n",
       "      <td>380</td>\n",
       "      <td>1</td>\n",
       "    </tr>\n",
       "  </tbody>\n",
       "</table>\n",
       "</div>"
      ],
      "text/plain": [
       "         title distributor   genre release_time  time screening_rat director  \\\n",
       "0       용서는 없다      시네마서비스     느와르   2010-01-07   125      청소년 관람불가      김형준   \n",
       "1  아빠가 여자를 좋아해      (주)쇼박스  멜로/로맨스   2010-01-14   113       12세 관람가      이광재   \n",
       "2          하모니   CJ 엔터테인먼트     드라마   2010-01-28   115       12세 관람가      강대규   \n",
       "3          의형제      (주)쇼박스      액션   2010-02-04   116       15세 관람가       장훈   \n",
       "4        평행 이론   CJ 엔터테인먼트      공포   2010-02-18   110       15세 관람가      권호영   \n",
       "\n",
       "   dir_prev_bfnum  dir_prev_num  num_staff  num_actor  \n",
       "0    3.005290e+05             2        304          3  \n",
       "1    3.427002e+05             4        275          3  \n",
       "2    4.206611e+06             3        419          7  \n",
       "3    6.913420e+05             2        408          2  \n",
       "4    3.173800e+04             1        380          1  "
      ]
     },
     "execution_count": 49,
     "metadata": {},
     "output_type": "execute_result"
    }
   ],
   "source": [
    "df_test.head()"
   ]
  },
  {
   "cell_type": "code",
   "execution_count": 50,
   "metadata": {},
   "outputs": [
    {
     "data": {
      "text/html": [
       "<div>\n",
       "<style scoped>\n",
       "    .dataframe tbody tr th:only-of-type {\n",
       "        vertical-align: middle;\n",
       "    }\n",
       "\n",
       "    .dataframe tbody tr th {\n",
       "        vertical-align: top;\n",
       "    }\n",
       "\n",
       "    .dataframe thead th {\n",
       "        text-align: right;\n",
       "    }\n",
       "</style>\n",
       "<table border=\"1\" class=\"dataframe\">\n",
       "  <thead>\n",
       "    <tr style=\"text-align: right;\">\n",
       "      <th></th>\n",
       "      <th>title</th>\n",
       "      <th>distributor</th>\n",
       "      <th>genre</th>\n",
       "      <th>release_time</th>\n",
       "      <th>time</th>\n",
       "      <th>screening_rat</th>\n",
       "      <th>director</th>\n",
       "      <th>dir_prev_bfnum</th>\n",
       "      <th>dir_prev_num</th>\n",
       "      <th>num_staff</th>\n",
       "      <th>num_actor</th>\n",
       "      <th>box_off_num</th>\n",
       "    </tr>\n",
       "  </thead>\n",
       "  <tbody>\n",
       "    <tr>\n",
       "      <th>0</th>\n",
       "      <td>개들의 전쟁</td>\n",
       "      <td>롯데엔터테인먼트</td>\n",
       "      <td>액션</td>\n",
       "      <td>2012-11-22</td>\n",
       "      <td>96</td>\n",
       "      <td>청소년 관람불가</td>\n",
       "      <td>조병옥</td>\n",
       "      <td>NaN</td>\n",
       "      <td>0</td>\n",
       "      <td>0</td>\n",
       "      <td>2</td>\n",
       "      <td>23398</td>\n",
       "    </tr>\n",
       "    <tr>\n",
       "      <th>1</th>\n",
       "      <td>내부자들</td>\n",
       "      <td>(주)쇼박스</td>\n",
       "      <td>느와르</td>\n",
       "      <td>2015-11-19</td>\n",
       "      <td>130</td>\n",
       "      <td>청소년 관람불가</td>\n",
       "      <td>우민호</td>\n",
       "      <td>1161602.50</td>\n",
       "      <td>2</td>\n",
       "      <td>300</td>\n",
       "      <td>3</td>\n",
       "      <td>7072501</td>\n",
       "    </tr>\n",
       "    <tr>\n",
       "      <th>2</th>\n",
       "      <td>은밀하게 위대하게</td>\n",
       "      <td>(주)쇼박스</td>\n",
       "      <td>액션</td>\n",
       "      <td>2013-06-05</td>\n",
       "      <td>123</td>\n",
       "      <td>15세 관람가</td>\n",
       "      <td>장철수</td>\n",
       "      <td>220775.25</td>\n",
       "      <td>4</td>\n",
       "      <td>300</td>\n",
       "      <td>4</td>\n",
       "      <td>6959083</td>\n",
       "    </tr>\n",
       "    <tr>\n",
       "      <th>3</th>\n",
       "      <td>나는 공무원이다</td>\n",
       "      <td>(주)NEW</td>\n",
       "      <td>코미디</td>\n",
       "      <td>2012-07-12</td>\n",
       "      <td>101</td>\n",
       "      <td>전체 관람가</td>\n",
       "      <td>구자홍</td>\n",
       "      <td>23894.00</td>\n",
       "      <td>2</td>\n",
       "      <td>0</td>\n",
       "      <td>6</td>\n",
       "      <td>217866</td>\n",
       "    </tr>\n",
       "    <tr>\n",
       "      <th>4</th>\n",
       "      <td>불량남녀</td>\n",
       "      <td>쇼박스(주)미디어플렉스</td>\n",
       "      <td>코미디</td>\n",
       "      <td>2010-11-04</td>\n",
       "      <td>108</td>\n",
       "      <td>15세 관람가</td>\n",
       "      <td>신근호</td>\n",
       "      <td>1.00</td>\n",
       "      <td>1</td>\n",
       "      <td>200</td>\n",
       "      <td>2</td>\n",
       "      <td>483387</td>\n",
       "    </tr>\n",
       "  </tbody>\n",
       "</table>\n",
       "</div>"
      ],
      "text/plain": [
       "       title   distributor genre release_time  time screening_rat director  \\\n",
       "0     개들의 전쟁      롯데엔터테인먼트    액션   2012-11-22    96      청소년 관람불가      조병옥   \n",
       "1       내부자들        (주)쇼박스   느와르   2015-11-19   130      청소년 관람불가      우민호   \n",
       "2  은밀하게 위대하게        (주)쇼박스    액션   2013-06-05   123       15세 관람가      장철수   \n",
       "3   나는 공무원이다        (주)NEW   코미디   2012-07-12   101        전체 관람가      구자홍   \n",
       "4       불량남녀  쇼박스(주)미디어플렉스   코미디   2010-11-04   108       15세 관람가      신근호   \n",
       "\n",
       "   dir_prev_bfnum  dir_prev_num  num_staff  num_actor  box_off_num  \n",
       "0             NaN             0          0          2        23398  \n",
       "1      1161602.50             2        300          3      7072501  \n",
       "2       220775.25             4        300          4      6959083  \n",
       "3        23894.00             2          0          6       217866  \n",
       "4            1.00             1        200          2       483387  "
      ]
     },
     "execution_count": 50,
     "metadata": {},
     "output_type": "execute_result"
    }
   ],
   "source": [
    "df_train.head()"
   ]
  },
  {
   "attachments": {},
   "cell_type": "markdown",
   "metadata": {},
   "source": [
    "명작 중요도  \n",
    "screening_rat, genre, distributor, num_staff, time, len(title), release_time(year)  "
   ]
  },
  {
   "attachments": {},
   "cell_type": "markdown",
   "metadata": {},
   "source": [
    "Feature Engineering 의 Binning  \n",
    "Feature scaling 써야겠다  "
   ]
  },
  {
   "cell_type": "code",
   "execution_count": 51,
   "metadata": {},
   "outputs": [],
   "source": [
    "MaxValue = df_train['num_staff'].max() if df_train['num_staff'].max() > df_test['num_staff'].max() else df_test['num_staff'].max()\n",
    "for i in range(0, MaxValue.max()+100, 100):\n",
    "\tdf_train.loc[ (df_train['num_staff'] >= i) & (df_train['num_staff'] < i+100) , 'num_staff'] = 0 if i == 0 else int(i/100)\n",
    "\tdf_test.loc[ (df_test['num_staff'] >= i) & (df_test['num_staff'] < i+100) , 'num_staff'] = 0 if i == 0 else int(i/100)"
   ]
  },
  {
   "cell_type": "code",
   "execution_count": 52,
   "metadata": {},
   "outputs": [
    {
     "data": {
      "text/plain": [
       "0    324\n",
       "1     83\n",
       "3     68\n",
       "2     68\n",
       "4     34\n",
       "5     13\n",
       "6      7\n",
       "8      2\n",
       "7      1\n",
       "Name: num_staff, dtype: int64"
      ]
     },
     "execution_count": 52,
     "metadata": {},
     "output_type": "execute_result"
    }
   ],
   "source": [
    "df_train.num_staff.value_counts()"
   ]
  },
  {
   "attachments": {},
   "cell_type": "markdown",
   "metadata": {},
   "source": [
    "num_staff 끝"
   ]
  },
  {
   "cell_type": "code",
   "execution_count": 53,
   "metadata": {},
   "outputs": [
    {
     "data": {
      "text/plain": [
       "청소년 관람불가    204\n",
       "15세 관람가     202\n",
       "12세 관람가     102\n",
       "전체 관람가       92\n",
       "Name: screening_rat, dtype: int64"
      ]
     },
     "execution_count": 53,
     "metadata": {},
     "output_type": "execute_result"
    }
   ],
   "source": [
    "df_train.screening_rat.value_counts()"
   ]
  },
  {
   "cell_type": "code",
   "execution_count": 54,
   "metadata": {},
   "outputs": [],
   "source": [
    "df_train.screening_rat = df_train.screening_rat.map({'청소년 관람불가' : 0, '15세 관람가' : 1, '12세 관람가' : 2, '전체 관람가' : 3})\n",
    "df_test.screening_rat = df_test.screening_rat.map({'청소년 관람불가' : 0, '15세 관람가' : 1, '12세 관람가' : 2, '전체 관람가' : 3})"
   ]
  },
  {
   "cell_type": "code",
   "execution_count": 55,
   "metadata": {},
   "outputs": [
    {
     "data": {
      "text/plain": [
       "0    204\n",
       "1    202\n",
       "2    102\n",
       "3     92\n",
       "Name: screening_rat, dtype: int64"
      ]
     },
     "execution_count": 55,
     "metadata": {},
     "output_type": "execute_result"
    }
   ],
   "source": [
    "df_train.screening_rat.value_counts()"
   ]
  },
  {
   "attachments": {},
   "cell_type": "markdown",
   "metadata": {},
   "source": [
    "screening_rat 끝"
   ]
  },
  {
   "cell_type": "code",
   "execution_count": 56,
   "metadata": {},
   "outputs": [
    {
     "data": {
      "text/plain": [
       "{'드라마': 0.0,\n",
       " '다큐멘터리': 0.4,\n",
       " '멜로/로맨스': 0.8,\n",
       " '코미디': 1.2,\n",
       " '공포': 1.6,\n",
       " '액션': 2.0,\n",
       " '느와르': 2.4,\n",
       " '애니메이션': 2.8,\n",
       " '미스터리': 3.2,\n",
       " 'SF': 3.6,\n",
       " '뮤지컬': 4.0,\n",
       " '서스펜스': 4.4}"
      ]
     },
     "execution_count": 56,
     "metadata": {},
     "output_type": "execute_result"
    }
   ],
   "source": [
    "MyDict = dict(df_train.genre.value_counts())\n",
    "for i,kv in enumerate(MyDict.items()):\n",
    "\tMyDict[kv[0]] = round(i * 0.4, 2)\n",
    "MyDict"
   ]
  },
  {
   "cell_type": "code",
   "execution_count": 57,
   "metadata": {},
   "outputs": [],
   "source": [
    "df_train.genre = df_train.genre.map(MyDict)\n",
    "df_test.genre = df_test.genre.map(MyDict)"
   ]
  },
  {
   "cell_type": "code",
   "execution_count": 58,
   "metadata": {},
   "outputs": [
    {
     "data": {
      "text/plain": [
       "0.0    221\n",
       "0.4     93\n",
       "0.8     78\n",
       "1.2     53\n",
       "1.6     42\n",
       "2.0     28\n",
       "2.4     27\n",
       "2.8     21\n",
       "3.2     17\n",
       "3.6     13\n",
       "4.0      5\n",
       "4.4      2\n",
       "Name: genre, dtype: int64"
      ]
     },
     "execution_count": 58,
     "metadata": {},
     "output_type": "execute_result"
    }
   ],
   "source": [
    "df_train.genre.value_counts()"
   ]
  },
  {
   "attachments": {},
   "cell_type": "markdown",
   "metadata": {},
   "source": [
    "genre 끝"
   ]
  },
  {
   "cell_type": "code",
   "execution_count": 59,
   "metadata": {},
   "outputs": [],
   "source": [
    "MyDict = {'CJ 엔터테인먼트': 0,  \n",
    "\t'롯데엔터테인먼트': 1,  \n",
    "\t'(주)NEW': 2,  \n",
    "\t'(주)마운틴픽쳐스': 3,  \n",
    "\t'(주)쇼박스': 4,\n",
    "\t'인디스토리' : 5}\n",
    "df_train.distributor = df_train.distributor.map(lambda x : 6 if MyDict.get(x) == None else MyDict[x])\n",
    "df_test.distributor = df_test.distributor.map(lambda x : 6 if MyDict.get(x) == None else MyDict[x])"
   ]
  },
  {
   "cell_type": "code",
   "execution_count": 60,
   "metadata": {},
   "outputs": [
    {
     "data": {
      "text/plain": [
       "6    383\n",
       "0     54\n",
       "1     52\n",
       "2     30\n",
       "3     29\n",
       "4     26\n",
       "5     26\n",
       "Name: distributor, dtype: int64"
      ]
     },
     "execution_count": 60,
     "metadata": {},
     "output_type": "execute_result"
    }
   ],
   "source": [
    "df_train.distributor.value_counts()"
   ]
  },
  {
   "attachments": {},
   "cell_type": "markdown",
   "metadata": {},
   "source": [
    "distributor 끝  \n",
    "num_staff, time, len(title), release_time(year) 남음"
   ]
  },
  {
   "cell_type": "code",
   "execution_count": 61,
   "metadata": {},
   "outputs": [
    {
     "data": {
      "text/plain": [
       "7"
      ]
     },
     "execution_count": 61,
     "metadata": {},
     "output_type": "execute_result"
    }
   ],
   "source": [
    "df_test.num_staff.max()"
   ]
  },
  {
   "cell_type": "code",
   "execution_count": 62,
   "metadata": {},
   "outputs": [
    {
     "data": {
      "text/plain": [
       "8"
      ]
     },
     "execution_count": 62,
     "metadata": {},
     "output_type": "execute_result"
    }
   ],
   "source": [
    "df_train.num_staff.max()"
   ]
  },
  {
   "cell_type": "code",
   "execution_count": 63,
   "metadata": {},
   "outputs": [],
   "source": [
    "df_train.num_staff = df_train.num_staff.map(lambda x : round(x*0.3, 2))\n",
    "df_test.num_staff = df_test.num_staff.map(lambda x : round(x*0.3, 2))"
   ]
  },
  {
   "cell_type": "code",
   "execution_count": 64,
   "metadata": {},
   "outputs": [
    {
     "data": {
      "text/plain": [
       "0.0    324\n",
       "0.3     83\n",
       "0.9     68\n",
       "0.6     68\n",
       "1.2     34\n",
       "1.5     13\n",
       "1.8      7\n",
       "2.4      2\n",
       "2.1      1\n",
       "Name: num_staff, dtype: int64"
      ]
     },
     "execution_count": 64,
     "metadata": {},
     "output_type": "execute_result"
    }
   ],
   "source": [
    "df_train.num_staff.value_counts()"
   ]
  },
  {
   "attachments": {},
   "cell_type": "markdown",
   "metadata": {},
   "source": [
    "num_staff 끝  \n",
    "time, len(title), release_time(year)"
   ]
  },
  {
   "cell_type": "code",
   "execution_count": 65,
   "metadata": {},
   "outputs": [],
   "source": [
    "MaxValue = df_train['time'].max() if df_train['time'].max() > df_test['time'].max() else df_test['time'].max()\n",
    "for i in range(0, MaxValue.max()+20, 20):\n",
    "\tdf_train.loc[ (df_train['time'] >= i) & (df_train['time'] < i+20) , 'time'] = 0 if i == 0 else round(int(i/20) * 0.4, 2)\n",
    "\tdf_test.loc[ (df_test['time'] >= i) & (df_test['time'] < i+20) , 'time'] = 0 if i == 0 else round(int(i/20) * 0.4, 2)"
   ]
  },
  {
   "cell_type": "code",
   "execution_count": 66,
   "metadata": {},
   "outputs": [
    {
     "data": {
      "text/plain": [
       "1.6    232\n",
       "2.0    209\n",
       "2.4     83\n",
       "1.2     65\n",
       "2.8      7\n",
       "3.2      2\n",
       "3.6      1\n",
       "0.8      1\n",
       "Name: time, dtype: int64"
      ]
     },
     "execution_count": 66,
     "metadata": {},
     "output_type": "execute_result"
    }
   ],
   "source": [
    "df_train.time.value_counts()"
   ]
  },
  {
   "attachments": {},
   "cell_type": "markdown",
   "metadata": {},
   "source": [
    "time 끝  \n",
    "len(title), release_time(year)"
   ]
  },
  {
   "cell_type": "code",
   "execution_count": 67,
   "metadata": {},
   "outputs": [],
   "source": [
    "df_train.title = df_train.title.map(lambda x : 0.2 * len(x.replace(' ','')))\n",
    "df_test.title = df_test.title.map(lambda x : 0.2 * len(x.replace(' ','')))"
   ]
  },
  {
   "cell_type": "code",
   "execution_count": 68,
   "metadata": {},
   "outputs": [
    {
     "data": {
      "text/plain": [
       "0.8    107\n",
       "1.0     84\n",
       "0.4     75\n",
       "0.6     75\n",
       "1.2     75\n",
       "1.4     59\n",
       "1.6     31\n",
       "1.8     21\n",
       "2.0     14\n",
       "2.2     13\n",
       "2.6     12\n",
       "2.4      9\n",
       "0.2      6\n",
       "2.8      6\n",
       "3.2      4\n",
       "3.0      3\n",
       "3.4      3\n",
       "4.2      1\n",
       "3.6      1\n",
       "4.6      1\n",
       "Name: title, dtype: int64"
      ]
     },
     "execution_count": 68,
     "metadata": {},
     "output_type": "execute_result"
    }
   ],
   "source": [
    "df_train.title.value_counts()"
   ]
  },
  {
   "attachments": {},
   "cell_type": "markdown",
   "metadata": {},
   "source": [
    "len(title) 끝  \n",
    "release_time(year)"
   ]
  },
  {
   "cell_type": "code",
   "execution_count": 69,
   "metadata": {},
   "outputs": [],
   "source": [
    "df_train.release_time = df_train.release_time.map(lambda x : int(x.split('-')[0]))\n",
    "df_test.release_time = df_test.release_time.map(lambda x : int(x.split('-')[0]))"
   ]
  },
  {
   "cell_type": "code",
   "execution_count": 70,
   "metadata": {},
   "outputs": [
    {
     "data": {
      "text/plain": [
       "2014    127\n",
       "2015    120\n",
       "2013     95\n",
       "2010     90\n",
       "2012     88\n",
       "2011     80\n",
       "Name: release_time, dtype: int64"
      ]
     },
     "execution_count": 70,
     "metadata": {},
     "output_type": "execute_result"
    }
   ],
   "source": [
    "df_train.release_time.value_counts()"
   ]
  },
  {
   "cell_type": "code",
   "execution_count": 71,
   "metadata": {},
   "outputs": [
    {
     "data": {
      "text/plain": [
       "(2010, 2015)"
      ]
     },
     "execution_count": 71,
     "metadata": {},
     "output_type": "execute_result"
    }
   ],
   "source": [
    "MinValue = df_test.release_time.min() if df_test.release_time.min() < df_train.release_time.min() else df_train.release_time.min()\n",
    "MaxValue = df_test.release_time.max() if df_test.release_time.max() > df_train.release_time.max() else df_train.release_time.max()\n",
    "MinValue, MaxValue"
   ]
  },
  {
   "cell_type": "code",
   "execution_count": 72,
   "metadata": {},
   "outputs": [
    {
     "data": {
      "text/plain": [
       "{2010: 0.0, 2011: 0.3, 2012: 0.6, 2013: 0.9, 2014: 1.2, 2015: 1.5}"
      ]
     },
     "execution_count": 72,
     "metadata": {},
     "output_type": "execute_result"
    }
   ],
   "source": [
    "MyDict = {}\n",
    "for Year in range(MinValue , MaxValue + 1):\n",
    "\tMyDict[Year] = round((Year - MinValue) * 0.3, 2)\n",
    "MyDict"
   ]
  },
  {
   "cell_type": "code",
   "execution_count": 73,
   "metadata": {},
   "outputs": [],
   "source": [
    "df_test.release_time = df_test.release_time.map(MyDict)\n",
    "df_train.release_time = df_train.release_time.map(MyDict)"
   ]
  },
  {
   "cell_type": "code",
   "execution_count": 74,
   "metadata": {},
   "outputs": [
    {
     "data": {
      "text/plain": [
       "1.2    127\n",
       "1.5    120\n",
       "0.9     95\n",
       "0.0     90\n",
       "0.6     88\n",
       "0.3     80\n",
       "Name: release_time, dtype: int64"
      ]
     },
     "execution_count": 74,
     "metadata": {},
     "output_type": "execute_result"
    }
   ],
   "source": [
    "df_train.release_time.value_counts()"
   ]
  },
  {
   "attachments": {},
   "cell_type": "markdown",
   "metadata": {},
   "source": [
    "release_time(year) 끝"
   ]
  },
  {
   "attachments": {},
   "cell_type": "markdown",
   "metadata": {},
   "source": [
    "box_off_num scaling 필요"
   ]
  },
  {
   "cell_type": "code",
   "execution_count": 75,
   "metadata": {},
   "outputs": [],
   "source": [
    "df_train.box_off_num = df_train.box_off_num.map(lambda x : int(x / 10_0000))"
   ]
  },
  {
   "cell_type": "code",
   "execution_count": 76,
   "metadata": {},
   "outputs": [
    {
     "data": {
      "text/html": [
       "<div>\n",
       "<style scoped>\n",
       "    .dataframe tbody tr th:only-of-type {\n",
       "        vertical-align: middle;\n",
       "    }\n",
       "\n",
       "    .dataframe tbody tr th {\n",
       "        vertical-align: top;\n",
       "    }\n",
       "\n",
       "    .dataframe thead th {\n",
       "        text-align: right;\n",
       "    }\n",
       "</style>\n",
       "<table border=\"1\" class=\"dataframe\">\n",
       "  <thead>\n",
       "    <tr style=\"text-align: right;\">\n",
       "      <th></th>\n",
       "      <th>title</th>\n",
       "      <th>distributor</th>\n",
       "      <th>genre</th>\n",
       "      <th>release_time</th>\n",
       "      <th>time</th>\n",
       "      <th>screening_rat</th>\n",
       "      <th>director</th>\n",
       "      <th>dir_prev_bfnum</th>\n",
       "      <th>dir_prev_num</th>\n",
       "      <th>num_staff</th>\n",
       "      <th>num_actor</th>\n",
       "      <th>box_off_num</th>\n",
       "    </tr>\n",
       "  </thead>\n",
       "  <tbody>\n",
       "    <tr>\n",
       "      <th>0</th>\n",
       "      <td>1.0</td>\n",
       "      <td>1</td>\n",
       "      <td>2.0</td>\n",
       "      <td>0.6</td>\n",
       "      <td>1.6</td>\n",
       "      <td>0</td>\n",
       "      <td>조병옥</td>\n",
       "      <td>NaN</td>\n",
       "      <td>0</td>\n",
       "      <td>0.0</td>\n",
       "      <td>2</td>\n",
       "      <td>0</td>\n",
       "    </tr>\n",
       "    <tr>\n",
       "      <th>1</th>\n",
       "      <td>0.8</td>\n",
       "      <td>4</td>\n",
       "      <td>2.4</td>\n",
       "      <td>1.5</td>\n",
       "      <td>2.4</td>\n",
       "      <td>0</td>\n",
       "      <td>우민호</td>\n",
       "      <td>1161602.50</td>\n",
       "      <td>2</td>\n",
       "      <td>0.9</td>\n",
       "      <td>3</td>\n",
       "      <td>70</td>\n",
       "    </tr>\n",
       "    <tr>\n",
       "      <th>2</th>\n",
       "      <td>1.6</td>\n",
       "      <td>4</td>\n",
       "      <td>2.0</td>\n",
       "      <td>0.9</td>\n",
       "      <td>2.4</td>\n",
       "      <td>1</td>\n",
       "      <td>장철수</td>\n",
       "      <td>220775.25</td>\n",
       "      <td>4</td>\n",
       "      <td>0.9</td>\n",
       "      <td>4</td>\n",
       "      <td>69</td>\n",
       "    </tr>\n",
       "    <tr>\n",
       "      <th>3</th>\n",
       "      <td>1.4</td>\n",
       "      <td>2</td>\n",
       "      <td>1.2</td>\n",
       "      <td>0.6</td>\n",
       "      <td>2.0</td>\n",
       "      <td>3</td>\n",
       "      <td>구자홍</td>\n",
       "      <td>23894.00</td>\n",
       "      <td>2</td>\n",
       "      <td>0.0</td>\n",
       "      <td>6</td>\n",
       "      <td>2</td>\n",
       "    </tr>\n",
       "    <tr>\n",
       "      <th>4</th>\n",
       "      <td>0.8</td>\n",
       "      <td>6</td>\n",
       "      <td>1.2</td>\n",
       "      <td>0.0</td>\n",
       "      <td>2.0</td>\n",
       "      <td>1</td>\n",
       "      <td>신근호</td>\n",
       "      <td>1.00</td>\n",
       "      <td>1</td>\n",
       "      <td>0.6</td>\n",
       "      <td>2</td>\n",
       "      <td>4</td>\n",
       "    </tr>\n",
       "  </tbody>\n",
       "</table>\n",
       "</div>"
      ],
      "text/plain": [
       "   title  distributor  genre  release_time  time  screening_rat director  \\\n",
       "0    1.0            1    2.0           0.6   1.6              0      조병옥   \n",
       "1    0.8            4    2.4           1.5   2.4              0      우민호   \n",
       "2    1.6            4    2.0           0.9   2.4              1      장철수   \n",
       "3    1.4            2    1.2           0.6   2.0              3      구자홍   \n",
       "4    0.8            6    1.2           0.0   2.0              1      신근호   \n",
       "\n",
       "   dir_prev_bfnum  dir_prev_num  num_staff  num_actor  box_off_num  \n",
       "0             NaN             0        0.0          2            0  \n",
       "1      1161602.50             2        0.9          3           70  \n",
       "2       220775.25             4        0.9          4           69  \n",
       "3        23894.00             2        0.0          6            2  \n",
       "4            1.00             1        0.6          2            4  "
      ]
     },
     "execution_count": 76,
     "metadata": {},
     "output_type": "execute_result"
    }
   ],
   "source": [
    "df_train.head()"
   ]
  },
  {
   "cell_type": "code",
   "execution_count": 77,
   "metadata": {},
   "outputs": [],
   "source": [
    "df_train.drop('director', axis=1, inplace=True)\n",
    "df_test.drop('director', axis=1, inplace=True)"
   ]
  },
  {
   "cell_type": "code",
   "execution_count": 78,
   "metadata": {},
   "outputs": [
    {
     "data": {
      "text/html": [
       "<div>\n",
       "<style scoped>\n",
       "    .dataframe tbody tr th:only-of-type {\n",
       "        vertical-align: middle;\n",
       "    }\n",
       "\n",
       "    .dataframe tbody tr th {\n",
       "        vertical-align: top;\n",
       "    }\n",
       "\n",
       "    .dataframe thead th {\n",
       "        text-align: right;\n",
       "    }\n",
       "</style>\n",
       "<table border=\"1\" class=\"dataframe\">\n",
       "  <thead>\n",
       "    <tr style=\"text-align: right;\">\n",
       "      <th></th>\n",
       "      <th>title</th>\n",
       "      <th>distributor</th>\n",
       "      <th>genre</th>\n",
       "      <th>release_time</th>\n",
       "      <th>time</th>\n",
       "      <th>screening_rat</th>\n",
       "      <th>dir_prev_bfnum</th>\n",
       "      <th>dir_prev_num</th>\n",
       "      <th>num_staff</th>\n",
       "      <th>num_actor</th>\n",
       "      <th>box_off_num</th>\n",
       "    </tr>\n",
       "  </thead>\n",
       "  <tbody>\n",
       "    <tr>\n",
       "      <th>0</th>\n",
       "      <td>1.0</td>\n",
       "      <td>1</td>\n",
       "      <td>2.0</td>\n",
       "      <td>0.6</td>\n",
       "      <td>1.6</td>\n",
       "      <td>0</td>\n",
       "      <td>NaN</td>\n",
       "      <td>0</td>\n",
       "      <td>0.0</td>\n",
       "      <td>2</td>\n",
       "      <td>0</td>\n",
       "    </tr>\n",
       "    <tr>\n",
       "      <th>1</th>\n",
       "      <td>0.8</td>\n",
       "      <td>4</td>\n",
       "      <td>2.4</td>\n",
       "      <td>1.5</td>\n",
       "      <td>2.4</td>\n",
       "      <td>0</td>\n",
       "      <td>1161602.50</td>\n",
       "      <td>2</td>\n",
       "      <td>0.9</td>\n",
       "      <td>3</td>\n",
       "      <td>70</td>\n",
       "    </tr>\n",
       "    <tr>\n",
       "      <th>2</th>\n",
       "      <td>1.6</td>\n",
       "      <td>4</td>\n",
       "      <td>2.0</td>\n",
       "      <td>0.9</td>\n",
       "      <td>2.4</td>\n",
       "      <td>1</td>\n",
       "      <td>220775.25</td>\n",
       "      <td>4</td>\n",
       "      <td>0.9</td>\n",
       "      <td>4</td>\n",
       "      <td>69</td>\n",
       "    </tr>\n",
       "    <tr>\n",
       "      <th>3</th>\n",
       "      <td>1.4</td>\n",
       "      <td>2</td>\n",
       "      <td>1.2</td>\n",
       "      <td>0.6</td>\n",
       "      <td>2.0</td>\n",
       "      <td>3</td>\n",
       "      <td>23894.00</td>\n",
       "      <td>2</td>\n",
       "      <td>0.0</td>\n",
       "      <td>6</td>\n",
       "      <td>2</td>\n",
       "    </tr>\n",
       "    <tr>\n",
       "      <th>4</th>\n",
       "      <td>0.8</td>\n",
       "      <td>6</td>\n",
       "      <td>1.2</td>\n",
       "      <td>0.0</td>\n",
       "      <td>2.0</td>\n",
       "      <td>1</td>\n",
       "      <td>1.00</td>\n",
       "      <td>1</td>\n",
       "      <td>0.6</td>\n",
       "      <td>2</td>\n",
       "      <td>4</td>\n",
       "    </tr>\n",
       "  </tbody>\n",
       "</table>\n",
       "</div>"
      ],
      "text/plain": [
       "   title  distributor  genre  release_time  time  screening_rat  \\\n",
       "0    1.0            1    2.0           0.6   1.6              0   \n",
       "1    0.8            4    2.4           1.5   2.4              0   \n",
       "2    1.6            4    2.0           0.9   2.4              1   \n",
       "3    1.4            2    1.2           0.6   2.0              3   \n",
       "4    0.8            6    1.2           0.0   2.0              1   \n",
       "\n",
       "   dir_prev_bfnum  dir_prev_num  num_staff  num_actor  box_off_num  \n",
       "0             NaN             0        0.0          2            0  \n",
       "1      1161602.50             2        0.9          3           70  \n",
       "2       220775.25             4        0.9          4           69  \n",
       "3        23894.00             2        0.0          6            2  \n",
       "4            1.00             1        0.6          2            4  "
      ]
     },
     "execution_count": 78,
     "metadata": {},
     "output_type": "execute_result"
    }
   ],
   "source": [
    "df_train.head()"
   ]
  },
  {
   "cell_type": "code",
   "execution_count": 79,
   "metadata": {},
   "outputs": [],
   "source": [
    "df_train.drop('dir_prev_bfnum', axis=1, inplace=True)\n",
    "df_test.drop('dir_prev_bfnum', axis=1, inplace=True)"
   ]
  },
  {
   "cell_type": "code",
   "execution_count": 80,
   "metadata": {},
   "outputs": [
    {
     "data": {
      "text/html": [
       "<div>\n",
       "<style scoped>\n",
       "    .dataframe tbody tr th:only-of-type {\n",
       "        vertical-align: middle;\n",
       "    }\n",
       "\n",
       "    .dataframe tbody tr th {\n",
       "        vertical-align: top;\n",
       "    }\n",
       "\n",
       "    .dataframe thead th {\n",
       "        text-align: right;\n",
       "    }\n",
       "</style>\n",
       "<table border=\"1\" class=\"dataframe\">\n",
       "  <thead>\n",
       "    <tr style=\"text-align: right;\">\n",
       "      <th></th>\n",
       "      <th>title</th>\n",
       "      <th>distributor</th>\n",
       "      <th>genre</th>\n",
       "      <th>release_time</th>\n",
       "      <th>time</th>\n",
       "      <th>screening_rat</th>\n",
       "      <th>dir_prev_num</th>\n",
       "      <th>num_staff</th>\n",
       "      <th>num_actor</th>\n",
       "      <th>box_off_num</th>\n",
       "    </tr>\n",
       "  </thead>\n",
       "  <tbody>\n",
       "    <tr>\n",
       "      <th>0</th>\n",
       "      <td>1.0</td>\n",
       "      <td>1</td>\n",
       "      <td>2.0</td>\n",
       "      <td>0.6</td>\n",
       "      <td>1.6</td>\n",
       "      <td>0</td>\n",
       "      <td>0</td>\n",
       "      <td>0.0</td>\n",
       "      <td>2</td>\n",
       "      <td>0</td>\n",
       "    </tr>\n",
       "    <tr>\n",
       "      <th>1</th>\n",
       "      <td>0.8</td>\n",
       "      <td>4</td>\n",
       "      <td>2.4</td>\n",
       "      <td>1.5</td>\n",
       "      <td>2.4</td>\n",
       "      <td>0</td>\n",
       "      <td>2</td>\n",
       "      <td>0.9</td>\n",
       "      <td>3</td>\n",
       "      <td>70</td>\n",
       "    </tr>\n",
       "    <tr>\n",
       "      <th>2</th>\n",
       "      <td>1.6</td>\n",
       "      <td>4</td>\n",
       "      <td>2.0</td>\n",
       "      <td>0.9</td>\n",
       "      <td>2.4</td>\n",
       "      <td>1</td>\n",
       "      <td>4</td>\n",
       "      <td>0.9</td>\n",
       "      <td>4</td>\n",
       "      <td>69</td>\n",
       "    </tr>\n",
       "    <tr>\n",
       "      <th>3</th>\n",
       "      <td>1.4</td>\n",
       "      <td>2</td>\n",
       "      <td>1.2</td>\n",
       "      <td>0.6</td>\n",
       "      <td>2.0</td>\n",
       "      <td>3</td>\n",
       "      <td>2</td>\n",
       "      <td>0.0</td>\n",
       "      <td>6</td>\n",
       "      <td>2</td>\n",
       "    </tr>\n",
       "    <tr>\n",
       "      <th>4</th>\n",
       "      <td>0.8</td>\n",
       "      <td>6</td>\n",
       "      <td>1.2</td>\n",
       "      <td>0.0</td>\n",
       "      <td>2.0</td>\n",
       "      <td>1</td>\n",
       "      <td>1</td>\n",
       "      <td>0.6</td>\n",
       "      <td>2</td>\n",
       "      <td>4</td>\n",
       "    </tr>\n",
       "  </tbody>\n",
       "</table>\n",
       "</div>"
      ],
      "text/plain": [
       "   title  distributor  genre  release_time  time  screening_rat  dir_prev_num  \\\n",
       "0    1.0            1    2.0           0.6   1.6              0             0   \n",
       "1    0.8            4    2.4           1.5   2.4              0             2   \n",
       "2    1.6            4    2.0           0.9   2.4              1             4   \n",
       "3    1.4            2    1.2           0.6   2.0              3             2   \n",
       "4    0.8            6    1.2           0.0   2.0              1             1   \n",
       "\n",
       "   num_staff  num_actor  box_off_num  \n",
       "0        0.0          2            0  \n",
       "1        0.9          3           70  \n",
       "2        0.9          4           69  \n",
       "3        0.0          6            2  \n",
       "4        0.6          2            4  "
      ]
     },
     "execution_count": 80,
     "metadata": {},
     "output_type": "execute_result"
    }
   ],
   "source": [
    "df_train.head()"
   ]
  },
  {
   "attachments": {},
   "cell_type": "markdown",
   "metadata": {},
   "source": [
    "이제 학습할 시간입니다!"
   ]
  },
  {
   "cell_type": "code",
   "execution_count": 81,
   "metadata": {},
   "outputs": [],
   "source": [
    "DataX = df_train.drop('box_off_num', axis=1)\n",
    "DataY = df_train['box_off_num']"
   ]
  },
  {
   "cell_type": "code",
   "execution_count": 82,
   "metadata": {},
   "outputs": [
    {
     "data": {
      "text/plain": [
       "0      389\n",
       "4       20\n",
       "1       20\n",
       "2       14\n",
       "3       11\n",
       "6       10\n",
       "7        9\n",
       "17       8\n",
       "11       8\n",
       "5        6\n",
       "18       6\n",
       "9        6\n",
       "12       6\n",
       "8        6\n",
       "16       5\n",
       "10       4\n",
       "29       4\n",
       "13       4\n",
       "21       4\n",
       "22       4\n",
       "14       4\n",
       "15       3\n",
       "24       3\n",
       "30       2\n",
       "34       2\n",
       "38       2\n",
       "86       2\n",
       "74       2\n",
       "47       2\n",
       "26       2\n",
       "20       2\n",
       "23       2\n",
       "45       2\n",
       "41       1\n",
       "40       1\n",
       "123      1\n",
       "35       1\n",
       "128      1\n",
       "56       1\n",
       "55       1\n",
       "93       1\n",
       "129      1\n",
       "127      1\n",
       "142      1\n",
       "25       1\n",
       "54       1\n",
       "77       1\n",
       "51       1\n",
       "19       1\n",
       "31       1\n",
       "48       1\n",
       "33       1\n",
       "113      1\n",
       "70       1\n",
       "91       1\n",
       "61       1\n",
       "27       1\n",
       "69       1\n",
       "71       1\n",
       "Name: box_off_num, dtype: int64"
      ]
     },
     "execution_count": 82,
     "metadata": {},
     "output_type": "execute_result"
    }
   ],
   "source": [
    "DataY.value_counts()"
   ]
  },
  {
   "cell_type": "code",
   "execution_count": 83,
   "metadata": {},
   "outputs": [
    {
     "data": {
      "text/plain": [
       "((600, 9), (600,))"
      ]
     },
     "execution_count": 83,
     "metadata": {},
     "output_type": "execute_result"
    }
   ],
   "source": [
    "DataX.shape, DataY.shape"
   ]
  },
  {
   "cell_type": "code",
   "execution_count": 84,
   "metadata": {},
   "outputs": [
    {
     "data": {
      "text/html": [
       "<div>\n",
       "<style scoped>\n",
       "    .dataframe tbody tr th:only-of-type {\n",
       "        vertical-align: middle;\n",
       "    }\n",
       "\n",
       "    .dataframe tbody tr th {\n",
       "        vertical-align: top;\n",
       "    }\n",
       "\n",
       "    .dataframe thead th {\n",
       "        text-align: right;\n",
       "    }\n",
       "</style>\n",
       "<table border=\"1\" class=\"dataframe\">\n",
       "  <thead>\n",
       "    <tr style=\"text-align: right;\">\n",
       "      <th></th>\n",
       "      <th>title</th>\n",
       "      <th>distributor</th>\n",
       "      <th>genre</th>\n",
       "      <th>release_time</th>\n",
       "      <th>time</th>\n",
       "      <th>screening_rat</th>\n",
       "      <th>dir_prev_num</th>\n",
       "      <th>num_staff</th>\n",
       "      <th>num_actor</th>\n",
       "    </tr>\n",
       "  </thead>\n",
       "  <tbody>\n",
       "    <tr>\n",
       "      <th>0</th>\n",
       "      <td>1.0</td>\n",
       "      <td>1</td>\n",
       "      <td>2.0</td>\n",
       "      <td>0.6</td>\n",
       "      <td>1.6</td>\n",
       "      <td>0</td>\n",
       "      <td>0</td>\n",
       "      <td>0.0</td>\n",
       "      <td>2</td>\n",
       "    </tr>\n",
       "    <tr>\n",
       "      <th>1</th>\n",
       "      <td>0.8</td>\n",
       "      <td>4</td>\n",
       "      <td>2.4</td>\n",
       "      <td>1.5</td>\n",
       "      <td>2.4</td>\n",
       "      <td>0</td>\n",
       "      <td>2</td>\n",
       "      <td>0.9</td>\n",
       "      <td>3</td>\n",
       "    </tr>\n",
       "    <tr>\n",
       "      <th>2</th>\n",
       "      <td>1.6</td>\n",
       "      <td>4</td>\n",
       "      <td>2.0</td>\n",
       "      <td>0.9</td>\n",
       "      <td>2.4</td>\n",
       "      <td>1</td>\n",
       "      <td>4</td>\n",
       "      <td>0.9</td>\n",
       "      <td>4</td>\n",
       "    </tr>\n",
       "    <tr>\n",
       "      <th>3</th>\n",
       "      <td>1.4</td>\n",
       "      <td>2</td>\n",
       "      <td>1.2</td>\n",
       "      <td>0.6</td>\n",
       "      <td>2.0</td>\n",
       "      <td>3</td>\n",
       "      <td>2</td>\n",
       "      <td>0.0</td>\n",
       "      <td>6</td>\n",
       "    </tr>\n",
       "    <tr>\n",
       "      <th>4</th>\n",
       "      <td>0.8</td>\n",
       "      <td>6</td>\n",
       "      <td>1.2</td>\n",
       "      <td>0.0</td>\n",
       "      <td>2.0</td>\n",
       "      <td>1</td>\n",
       "      <td>1</td>\n",
       "      <td>0.6</td>\n",
       "      <td>2</td>\n",
       "    </tr>\n",
       "    <tr>\n",
       "      <th>...</th>\n",
       "      <td>...</td>\n",
       "      <td>...</td>\n",
       "      <td>...</td>\n",
       "      <td>...</td>\n",
       "      <td>...</td>\n",
       "      <td>...</td>\n",
       "      <td>...</td>\n",
       "      <td>...</td>\n",
       "      <td>...</td>\n",
       "    </tr>\n",
       "    <tr>\n",
       "      <th>595</th>\n",
       "      <td>0.4</td>\n",
       "      <td>2</td>\n",
       "      <td>0.0</td>\n",
       "      <td>1.2</td>\n",
       "      <td>2.0</td>\n",
       "      <td>0</td>\n",
       "      <td>1</td>\n",
       "      <td>1.5</td>\n",
       "      <td>7</td>\n",
       "    </tr>\n",
       "    <tr>\n",
       "      <th>596</th>\n",
       "      <td>0.8</td>\n",
       "      <td>4</td>\n",
       "      <td>0.0</td>\n",
       "      <td>0.9</td>\n",
       "      <td>2.4</td>\n",
       "      <td>1</td>\n",
       "      <td>1</td>\n",
       "      <td>0.6</td>\n",
       "      <td>6</td>\n",
       "    </tr>\n",
       "    <tr>\n",
       "      <th>597</th>\n",
       "      <td>0.8</td>\n",
       "      <td>3</td>\n",
       "      <td>1.6</td>\n",
       "      <td>0.0</td>\n",
       "      <td>1.6</td>\n",
       "      <td>0</td>\n",
       "      <td>0</td>\n",
       "      <td>0.3</td>\n",
       "      <td>4</td>\n",
       "    </tr>\n",
       "    <tr>\n",
       "      <th>598</th>\n",
       "      <td>1.0</td>\n",
       "      <td>0</td>\n",
       "      <td>2.4</td>\n",
       "      <td>1.5</td>\n",
       "      <td>2.0</td>\n",
       "      <td>1</td>\n",
       "      <td>0</td>\n",
       "      <td>1.2</td>\n",
       "      <td>4</td>\n",
       "    </tr>\n",
       "    <tr>\n",
       "      <th>599</th>\n",
       "      <td>0.6</td>\n",
       "      <td>0</td>\n",
       "      <td>2.0</td>\n",
       "      <td>0.9</td>\n",
       "      <td>2.4</td>\n",
       "      <td>1</td>\n",
       "      <td>0</td>\n",
       "      <td>0.9</td>\n",
       "      <td>5</td>\n",
       "    </tr>\n",
       "  </tbody>\n",
       "</table>\n",
       "<p>600 rows × 9 columns</p>\n",
       "</div>"
      ],
      "text/plain": [
       "     title  distributor  genre  release_time  time  screening_rat  \\\n",
       "0      1.0            1    2.0           0.6   1.6              0   \n",
       "1      0.8            4    2.4           1.5   2.4              0   \n",
       "2      1.6            4    2.0           0.9   2.4              1   \n",
       "3      1.4            2    1.2           0.6   2.0              3   \n",
       "4      0.8            6    1.2           0.0   2.0              1   \n",
       "..     ...          ...    ...           ...   ...            ...   \n",
       "595    0.4            2    0.0           1.2   2.0              0   \n",
       "596    0.8            4    0.0           0.9   2.4              1   \n",
       "597    0.8            3    1.6           0.0   1.6              0   \n",
       "598    1.0            0    2.4           1.5   2.0              1   \n",
       "599    0.6            0    2.0           0.9   2.4              1   \n",
       "\n",
       "     dir_prev_num  num_staff  num_actor  \n",
       "0               0        0.0          2  \n",
       "1               2        0.9          3  \n",
       "2               4        0.9          4  \n",
       "3               2        0.0          6  \n",
       "4               1        0.6          2  \n",
       "..            ...        ...        ...  \n",
       "595             1        1.5          7  \n",
       "596             1        0.6          6  \n",
       "597             0        0.3          4  \n",
       "598             0        1.2          4  \n",
       "599             0        0.9          5  \n",
       "\n",
       "[600 rows x 9 columns]"
      ]
     },
     "execution_count": 84,
     "metadata": {},
     "output_type": "execute_result"
    }
   ],
   "source": [
    "DataX"
   ]
  },
  {
   "cell_type": "code",
   "execution_count": 85,
   "metadata": {},
   "outputs": [
    {
     "data": {
      "text/plain": [
       "0       0\n",
       "1      70\n",
       "2      69\n",
       "3       2\n",
       "4       4\n",
       "       ..\n",
       "595    14\n",
       "596    17\n",
       "597     0\n",
       "598    21\n",
       "599    71\n",
       "Name: box_off_num, Length: 600, dtype: int64"
      ]
     },
     "execution_count": 85,
     "metadata": {},
     "output_type": "execute_result"
    }
   ],
   "source": [
    "DataY"
   ]
  },
  {
   "cell_type": "code",
   "execution_count": 86,
   "metadata": {},
   "outputs": [],
   "source": [
    "from sklearn.linear_model import LinearRegression\n",
    "\n",
    "from sklearn.model_selection import KFold\n",
    "from sklearn.model_selection import cross_val_score"
   ]
  },
  {
   "cell_type": "code",
   "execution_count": 120,
   "metadata": {},
   "outputs": [
    {
     "data": {
      "text/html": [
       "<style>#sk-container-id-2 {color: black;background-color: white;}#sk-container-id-2 pre{padding: 0;}#sk-container-id-2 div.sk-toggleable {background-color: white;}#sk-container-id-2 label.sk-toggleable__label {cursor: pointer;display: block;width: 100%;margin-bottom: 0;padding: 0.3em;box-sizing: border-box;text-align: center;}#sk-container-id-2 label.sk-toggleable__label-arrow:before {content: \"▸\";float: left;margin-right: 0.25em;color: #696969;}#sk-container-id-2 label.sk-toggleable__label-arrow:hover:before {color: black;}#sk-container-id-2 div.sk-estimator:hover label.sk-toggleable__label-arrow:before {color: black;}#sk-container-id-2 div.sk-toggleable__content {max-height: 0;max-width: 0;overflow: hidden;text-align: left;background-color: #f0f8ff;}#sk-container-id-2 div.sk-toggleable__content pre {margin: 0.2em;color: black;border-radius: 0.25em;background-color: #f0f8ff;}#sk-container-id-2 input.sk-toggleable__control:checked~div.sk-toggleable__content {max-height: 200px;max-width: 100%;overflow: auto;}#sk-container-id-2 input.sk-toggleable__control:checked~label.sk-toggleable__label-arrow:before {content: \"▾\";}#sk-container-id-2 div.sk-estimator input.sk-toggleable__control:checked~label.sk-toggleable__label {background-color: #d4ebff;}#sk-container-id-2 div.sk-label input.sk-toggleable__control:checked~label.sk-toggleable__label {background-color: #d4ebff;}#sk-container-id-2 input.sk-hidden--visually {border: 0;clip: rect(1px 1px 1px 1px);clip: rect(1px, 1px, 1px, 1px);height: 1px;margin: -1px;overflow: hidden;padding: 0;position: absolute;width: 1px;}#sk-container-id-2 div.sk-estimator {font-family: monospace;background-color: #f0f8ff;border: 1px dotted black;border-radius: 0.25em;box-sizing: border-box;margin-bottom: 0.5em;}#sk-container-id-2 div.sk-estimator:hover {background-color: #d4ebff;}#sk-container-id-2 div.sk-parallel-item::after {content: \"\";width: 100%;border-bottom: 1px solid gray;flex-grow: 1;}#sk-container-id-2 div.sk-label:hover label.sk-toggleable__label {background-color: #d4ebff;}#sk-container-id-2 div.sk-serial::before {content: \"\";position: absolute;border-left: 1px solid gray;box-sizing: border-box;top: 0;bottom: 0;left: 50%;z-index: 0;}#sk-container-id-2 div.sk-serial {display: flex;flex-direction: column;align-items: center;background-color: white;padding-right: 0.2em;padding-left: 0.2em;position: relative;}#sk-container-id-2 div.sk-item {position: relative;z-index: 1;}#sk-container-id-2 div.sk-parallel {display: flex;align-items: stretch;justify-content: center;background-color: white;position: relative;}#sk-container-id-2 div.sk-item::before, #sk-container-id-2 div.sk-parallel-item::before {content: \"\";position: absolute;border-left: 1px solid gray;box-sizing: border-box;top: 0;bottom: 0;left: 50%;z-index: -1;}#sk-container-id-2 div.sk-parallel-item {display: flex;flex-direction: column;z-index: 1;position: relative;background-color: white;}#sk-container-id-2 div.sk-parallel-item:first-child::after {align-self: flex-end;width: 50%;}#sk-container-id-2 div.sk-parallel-item:last-child::after {align-self: flex-start;width: 50%;}#sk-container-id-2 div.sk-parallel-item:only-child::after {width: 0;}#sk-container-id-2 div.sk-dashed-wrapped {border: 1px dashed gray;margin: 0 0.4em 0.5em 0.4em;box-sizing: border-box;padding-bottom: 0.4em;background-color: white;}#sk-container-id-2 div.sk-label label {font-family: monospace;font-weight: bold;display: inline-block;line-height: 1.2em;}#sk-container-id-2 div.sk-label-container {text-align: center;}#sk-container-id-2 div.sk-container {/* jupyter's `normalize.less` sets `[hidden] { display: none; }` but bootstrap.min.css set `[hidden] { display: none !important; }` so we also need the `!important` here to be able to override the default hidden behavior on the sphinx rendered scikit-learn.org. See: https://github.com/scikit-learn/scikit-learn/issues/21755 */display: inline-block !important;position: relative;}#sk-container-id-2 div.sk-text-repr-fallback {display: none;}</style><div id=\"sk-container-id-2\" class=\"sk-top-container\"><div class=\"sk-text-repr-fallback\"><pre>LinearRegression()</pre><b>In a Jupyter environment, please rerun this cell to show the HTML representation or trust the notebook. <br />On GitHub, the HTML representation is unable to render, please try loading this page with nbviewer.org.</b></div><div class=\"sk-container\" hidden><div class=\"sk-item\"><div class=\"sk-estimator sk-toggleable\"><input class=\"sk-toggleable__control sk-hidden--visually\" id=\"sk-estimator-id-2\" type=\"checkbox\" checked><label for=\"sk-estimator-id-2\" class=\"sk-toggleable__label sk-toggleable__label-arrow\">LinearRegression</label><div class=\"sk-toggleable__content\"><pre>LinearRegression()</pre></div></div></div></div></div>"
      ],
      "text/plain": [
       "LinearRegression()"
      ]
     },
     "execution_count": 120,
     "metadata": {},
     "output_type": "execute_result"
    }
   ],
   "source": [
    "LinearFilter = LinearRegression()\n",
    "LinearFilter.fit(DataX, DataY)"
   ]
  },
  {
   "cell_type": "code",
   "execution_count": 121,
   "metadata": {},
   "outputs": [
    {
     "data": {
      "text/plain": [
       "0.3356722427917058"
      ]
     },
     "execution_count": 121,
     "metadata": {},
     "output_type": "execute_result"
    }
   ],
   "source": [
    "LinearFilter.score(DataX, DataY)"
   ]
  },
  {
   "cell_type": "code",
   "execution_count": 130,
   "metadata": {},
   "outputs": [],
   "source": [
    "PredictY = LinearFilter.predict(df_test)"
   ]
  },
  {
   "cell_type": "code",
   "execution_count": 123,
   "metadata": {},
   "outputs": [
    {
     "data": {
      "text/html": [
       "<div>\n",
       "<style scoped>\n",
       "    .dataframe tbody tr th:only-of-type {\n",
       "        vertical-align: middle;\n",
       "    }\n",
       "\n",
       "    .dataframe tbody tr th {\n",
       "        vertical-align: top;\n",
       "    }\n",
       "\n",
       "    .dataframe thead th {\n",
       "        text-align: right;\n",
       "    }\n",
       "</style>\n",
       "<table border=\"1\" class=\"dataframe\">\n",
       "  <thead>\n",
       "    <tr style=\"text-align: right;\">\n",
       "      <th></th>\n",
       "      <th>title</th>\n",
       "      <th>distributor</th>\n",
       "      <th>genre</th>\n",
       "      <th>release_time</th>\n",
       "      <th>time</th>\n",
       "      <th>screening_rat</th>\n",
       "      <th>director</th>\n",
       "      <th>dir_prev_bfnum</th>\n",
       "      <th>dir_prev_num</th>\n",
       "      <th>num_staff</th>\n",
       "      <th>num_actor</th>\n",
       "    </tr>\n",
       "  </thead>\n",
       "  <tbody>\n",
       "    <tr>\n",
       "      <th>0</th>\n",
       "      <td>용서는 없다</td>\n",
       "      <td>시네마서비스</td>\n",
       "      <td>느와르</td>\n",
       "      <td>2010-01-07</td>\n",
       "      <td>125</td>\n",
       "      <td>청소년 관람불가</td>\n",
       "      <td>김형준</td>\n",
       "      <td>3.005290e+05</td>\n",
       "      <td>2</td>\n",
       "      <td>304</td>\n",
       "      <td>3</td>\n",
       "    </tr>\n",
       "    <tr>\n",
       "      <th>1</th>\n",
       "      <td>아빠가 여자를 좋아해</td>\n",
       "      <td>(주)쇼박스</td>\n",
       "      <td>멜로/로맨스</td>\n",
       "      <td>2010-01-14</td>\n",
       "      <td>113</td>\n",
       "      <td>12세 관람가</td>\n",
       "      <td>이광재</td>\n",
       "      <td>3.427002e+05</td>\n",
       "      <td>4</td>\n",
       "      <td>275</td>\n",
       "      <td>3</td>\n",
       "    </tr>\n",
       "    <tr>\n",
       "      <th>2</th>\n",
       "      <td>하모니</td>\n",
       "      <td>CJ 엔터테인먼트</td>\n",
       "      <td>드라마</td>\n",
       "      <td>2010-01-28</td>\n",
       "      <td>115</td>\n",
       "      <td>12세 관람가</td>\n",
       "      <td>강대규</td>\n",
       "      <td>4.206611e+06</td>\n",
       "      <td>3</td>\n",
       "      <td>419</td>\n",
       "      <td>7</td>\n",
       "    </tr>\n",
       "    <tr>\n",
       "      <th>3</th>\n",
       "      <td>의형제</td>\n",
       "      <td>(주)쇼박스</td>\n",
       "      <td>액션</td>\n",
       "      <td>2010-02-04</td>\n",
       "      <td>116</td>\n",
       "      <td>15세 관람가</td>\n",
       "      <td>장훈</td>\n",
       "      <td>6.913420e+05</td>\n",
       "      <td>2</td>\n",
       "      <td>408</td>\n",
       "      <td>2</td>\n",
       "    </tr>\n",
       "    <tr>\n",
       "      <th>4</th>\n",
       "      <td>평행 이론</td>\n",
       "      <td>CJ 엔터테인먼트</td>\n",
       "      <td>공포</td>\n",
       "      <td>2010-02-18</td>\n",
       "      <td>110</td>\n",
       "      <td>15세 관람가</td>\n",
       "      <td>권호영</td>\n",
       "      <td>3.173800e+04</td>\n",
       "      <td>1</td>\n",
       "      <td>380</td>\n",
       "      <td>1</td>\n",
       "    </tr>\n",
       "  </tbody>\n",
       "</table>\n",
       "</div>"
      ],
      "text/plain": [
       "         title distributor   genre release_time  time screening_rat director  \\\n",
       "0       용서는 없다      시네마서비스     느와르   2010-01-07   125      청소년 관람불가      김형준   \n",
       "1  아빠가 여자를 좋아해      (주)쇼박스  멜로/로맨스   2010-01-14   113       12세 관람가      이광재   \n",
       "2          하모니   CJ 엔터테인먼트     드라마   2010-01-28   115       12세 관람가      강대규   \n",
       "3          의형제      (주)쇼박스      액션   2010-02-04   116       15세 관람가       장훈   \n",
       "4        평행 이론   CJ 엔터테인먼트      공포   2010-02-18   110       15세 관람가      권호영   \n",
       "\n",
       "   dir_prev_bfnum  dir_prev_num  num_staff  num_actor  \n",
       "0    3.005290e+05             2        304          3  \n",
       "1    3.427002e+05             4        275          3  \n",
       "2    4.206611e+06             3        419          7  \n",
       "3    6.913420e+05             2        408          2  \n",
       "4    3.173800e+04             1        380          1  "
      ]
     },
     "execution_count": 123,
     "metadata": {},
     "output_type": "execute_result"
    }
   ],
   "source": [
    "OutputTitle = pd.read_csv('./movies_test.csv')\n",
    "OutputTitle.head()"
   ]
  },
  {
   "cell_type": "code",
   "execution_count": 124,
   "metadata": {},
   "outputs": [],
   "source": [
    "OutputTitle.drop(['distributor','genre','release_time','time','screening_rat','director','dir_prev_bfnum','dir_prev_num','num_staff','num_actor'], axis=1, inplace=True)"
   ]
  },
  {
   "cell_type": "code",
   "execution_count": 125,
   "metadata": {},
   "outputs": [
    {
     "data": {
      "text/html": [
       "<div>\n",
       "<style scoped>\n",
       "    .dataframe tbody tr th:only-of-type {\n",
       "        vertical-align: middle;\n",
       "    }\n",
       "\n",
       "    .dataframe tbody tr th {\n",
       "        vertical-align: top;\n",
       "    }\n",
       "\n",
       "    .dataframe thead th {\n",
       "        text-align: right;\n",
       "    }\n",
       "</style>\n",
       "<table border=\"1\" class=\"dataframe\">\n",
       "  <thead>\n",
       "    <tr style=\"text-align: right;\">\n",
       "      <th></th>\n",
       "      <th>title</th>\n",
       "    </tr>\n",
       "  </thead>\n",
       "  <tbody>\n",
       "    <tr>\n",
       "      <th>0</th>\n",
       "      <td>용서는 없다</td>\n",
       "    </tr>\n",
       "    <tr>\n",
       "      <th>1</th>\n",
       "      <td>아빠가 여자를 좋아해</td>\n",
       "    </tr>\n",
       "    <tr>\n",
       "      <th>2</th>\n",
       "      <td>하모니</td>\n",
       "    </tr>\n",
       "    <tr>\n",
       "      <th>3</th>\n",
       "      <td>의형제</td>\n",
       "    </tr>\n",
       "    <tr>\n",
       "      <th>4</th>\n",
       "      <td>평행 이론</td>\n",
       "    </tr>\n",
       "  </tbody>\n",
       "</table>\n",
       "</div>"
      ],
      "text/plain": [
       "         title\n",
       "0       용서는 없다\n",
       "1  아빠가 여자를 좋아해\n",
       "2          하모니\n",
       "3          의형제\n",
       "4        평행 이론"
      ]
     },
     "execution_count": 125,
     "metadata": {},
     "output_type": "execute_result"
    }
   ],
   "source": [
    "OutputTitle.head()"
   ]
  },
  {
   "cell_type": "code",
   "execution_count": 136,
   "metadata": {},
   "outputs": [
    {
     "data": {
      "text/plain": [
       "[18.593776644819027,\n",
       " 12.399370352186402,\n",
       " 25.36297499706013,\n",
       " 21.608873892873522,\n",
       " 19.46699532080812,\n",
       " 0.5404021370026477,\n",
       " -0.3575729488768964,\n",
       " 4.029265208220757,\n",
       " -3.8243457965123078,\n",
       " 10.309890435835648,\n",
       " 10.280670788717401,\n",
       " 16.551984836196887,\n",
       " 15.07485680226372,\n",
       " -2.1653476242857685,\n",
       " 18.45903695927957,\n",
       " 33.74049486116007,\n",
       " 3.550633289797023,\n",
       " 18.01322603775546,\n",
       " 10.414453487257358,\n",
       " 10.000417036177673,\n",
       " -5.222571772978974,\n",
       " 0.43477806469226365,\n",
       " 10.338924477389156,\n",
       " -3.0827478887699566,\n",
       " -1.5065576252682362,\n",
       " 20.362294545790018,\n",
       " -2.0313999411605543,\n",
       " 23.20246101397326,\n",
       " 4.701555066603799,\n",
       " 5.778162753758377,\n",
       " 17.19885391222875,\n",
       " -3.547190782337406,\n",
       " 5.363593534944805,\n",
       " 22.652295353439815,\n",
       " -1.4051316723674603,\n",
       " 1.216994591671824,\n",
       " 0.46123730494087667,\n",
       " -0.25002121633057506,\n",
       " -1.2004891939354074,\n",
       " -6.937511012015935,\n",
       " 5.534760089261958,\n",
       " 0.4519261248054711,\n",
       " 4.7723633482266195,\n",
       " 1.9792131040838843,\n",
       " 8.76718429942779,\n",
       " 23.605482771210465,\n",
       " -1.896767829266027,\n",
       " 6.384518613789378,\n",
       " 6.495933392040861,\n",
       " -1.5078869602754423,\n",
       " 1.1969120311323298,\n",
       " 9.618691073115151,\n",
       " 5.09001778818638,\n",
       " 11.746495276845653,\n",
       " 10.98462131944056,\n",
       " 4.202637888609139,\n",
       " 0.6641167765141471,\n",
       " 19.71267079569915,\n",
       " 18.680933398463228,\n",
       " 22.011023250539356,\n",
       " 21.50790543511771,\n",
       " 22.501706555345894,\n",
       " 4.778728500478902,\n",
       " -1.7864643680814236,\n",
       " 4.631316605671721,\n",
       " -4.741518498278774,\n",
       " 20.413759749587943,\n",
       " 2.5059488902321227,\n",
       " 8.466784351896464,\n",
       " 4.767805744518185,\n",
       " 32.18679818446361,\n",
       " 18.97255366917687,\n",
       " -3.5704868265999146,\n",
       " 18.527309704886225,\n",
       " -6.457344920593331,\n",
       " -4.210461285896297,\n",
       " 17.994861820225715,\n",
       " 4.281857157314807,\n",
       " 8.482919112022682,\n",
       " -1.2576689848147105,\n",
       " 4.1715536961302035,\n",
       " 16.669068693401577,\n",
       " -0.050355830813394675,\n",
       " 22.56538012985548,\n",
       " -3.855115611528806,\n",
       " 22.76632250101331,\n",
       " -2.592519512117274,\n",
       " -0.8519842364022843,\n",
       " 1.2005689101113752,\n",
       " 5.151894374593294,\n",
       " -2.1926682967343005,\n",
       " 1.297929276804604,\n",
       " 13.952770577495833,\n",
       " 16.61900889531353,\n",
       " 2.1554511927138975,\n",
       " 1.3434039220290668,\n",
       " 1.5635920946571993,\n",
       " 2.147404973360235,\n",
       " 9.744747578491332,\n",
       " 11.916406760273954,\n",
       " 13.049618774903205,\n",
       " 21.89754269278065,\n",
       " -0.7929906459186249,\n",
       " 1.6873237112498511,\n",
       " 15.272073328390928,\n",
       " 7.450128811252501,\n",
       " 23.918402929373062,\n",
       " -3.758042388902215,\n",
       " 22.527933019955338,\n",
       " -1.7973729413969934,\n",
       " -2.4872620550039652,\n",
       " 22.175347961193605,\n",
       " 21.285113251122976,\n",
       " 1.692513234868004,\n",
       " 1.2654764577365913,\n",
       " 17.111620987184548,\n",
       " 4.921454824023101,\n",
       " 14.603469787066096,\n",
       " 0.3088840422846424,\n",
       " -1.6033859002180595,\n",
       " 0.13295675448757294,\n",
       " 15.856641253967894,\n",
       " 12.445502502769624,\n",
       " -1.924088501714559,\n",
       " -0.013695777350825722,\n",
       " -4.888160789251282,\n",
       " -3.887806240569013,\n",
       " -1.0518111843023163,\n",
       " 4.812914369697282,\n",
       " 1.934322822279114,\n",
       " -6.915751160795057,\n",
       " 17.634494704545663,\n",
       " -3.3063594528883797,\n",
       " -3.3754426723699105,\n",
       " 23.445296972220024,\n",
       " 22.540378068369666,\n",
       " -2.049098064249323,\n",
       " 15.511433476292424,\n",
       " 6.8647804884084,\n",
       " -4.343882016542141,\n",
       " -6.80917930500044,\n",
       " 25.015995657718438,\n",
       " 20.778965221462858,\n",
       " 6.615278432651383,\n",
       " 1.3951618692306589,\n",
       " 11.019871820118766,\n",
       " -0.8257101813611705,\n",
       " 6.9734991424817885,\n",
       " 27.600839989730193,\n",
       " 19.270412381823053,\n",
       " 4.806676881340184,\n",
       " 3.2803727531099014,\n",
       " -0.32810495942822016,\n",
       " 2.5449059085907813,\n",
       " -0.6319353500494067,\n",
       " 15.8785651222912,\n",
       " 3.0268863303469757,\n",
       " 2.687993879661043,\n",
       " 29.5474892223581,\n",
       " 28.223450639131283,\n",
       " 11.874597472738756,\n",
       " 28.881151050063938,\n",
       " 6.82962237036358,\n",
       " 9.04912884311295,\n",
       " -2.248896507611363,\n",
       " -2.3582053682870736,\n",
       " 27.685527213614524,\n",
       " -6.095267548639944,\n",
       " -1.9927089209382558,\n",
       " -1.3574506250281804,\n",
       " -2.3512615503162664,\n",
       " 0.7488578908643841,\n",
       " 6.096186602976186,\n",
       " -3.1480831190532417,\n",
       " 7.909801761431847,\n",
       " 10.433477896231679,\n",
       " -3.096218952105131,\n",
       " -1.3930312893320824,\n",
       " 43.24472011550439,\n",
       " 35.16631991957824,\n",
       " 2.885501650979865,\n",
       " -2.695664222059161,\n",
       " -3.1848509394481095,\n",
       " 9.201621449740873,\n",
       " 31.83506955638126,\n",
       " 3.661370119173835,\n",
       " -1.1555974598680958,\n",
       " 1.269133336715635,\n",
       " -6.124223453680089,\n",
       " 21.88623634747378,\n",
       " 2.9739227702540987,\n",
       " -3.1848509394481095,\n",
       " -3.111315298658374,\n",
       " -2.8388442093410546,\n",
       " -2.6588964016642933,\n",
       " 20.534722976220504,\n",
       " 3.101584032792104,\n",
       " 25.7830565103523,\n",
       " -1.4616517085557774,\n",
       " 24.958192280378388,\n",
       " 5.276538318947033,\n",
       " 1.422138185973143,\n",
       " -1.601348910415286,\n",
       " 7.302455332153464,\n",
       " 6.658176410277047,\n",
       " 11.89183234759668,\n",
       " 26.556434220412246,\n",
       " 15.64830267351575,\n",
       " 1.837246481042449,\n",
       " 26.68709660422505,\n",
       " 7.339450120114346,\n",
       " 19.064821588229936,\n",
       " 30.76066612182265,\n",
       " 9.983348219110397,\n",
       " 2.39039859825224,\n",
       " -6.236236452562409,\n",
       " 29.96579821529097,\n",
       " -0.17863853611036262,\n",
       " -1.4954978705388875,\n",
       " 1.480166304354162,\n",
       " 2.516042321761546,\n",
       " 24.797550886478557,\n",
       " 2.0738446594397697,\n",
       " 5.350073959736768,\n",
       " 311.42480019913694,\n",
       " 3.2276414562607094,\n",
       " -1.2747456506433608,\n",
       " 18.7749119000791,\n",
       " -1.2109302295934512,\n",
       " 34.68078501350814,\n",
       " 3.1674147856940635,\n",
       " 15.804292989791985,\n",
       " 7.880316524767615,\n",
       " -3.6227668639159134,\n",
       " 1.837246481042449,\n",
       " 3.343311334122074,\n",
       " 3.4223440297801773,\n",
       " -4.757628239742246,\n",
       " -5.211074182614867,\n",
       " -0.6306660271311646,\n",
       " 12.373339286034575,\n",
       " 1.4453164984810538,\n",
       " -4.93379097286795]"
      ]
     },
     "execution_count": 136,
     "metadata": {},
     "output_type": "execute_result"
    }
   ],
   "source": [
    "PredictY = list(PredictY)\n",
    "PredictY"
   ]
  },
  {
   "cell_type": "code",
   "execution_count": 138,
   "metadata": {},
   "outputs": [],
   "source": [
    "PredictY = np.array(list(map(lambda x : int(x * 10_0000), PredictY)))"
   ]
  },
  {
   "cell_type": "code",
   "execution_count": 141,
   "metadata": {},
   "outputs": [
    {
     "data": {
      "text/plain": [
       "array([ 1859377,  1239937,  2536297,  2160887,  1946699,    54040,\n",
       "              0,   402926,        0,  1030989,  1028067,  1655198,\n",
       "        1507485,        0,  1845903,  3374049,   355063,  1801322,\n",
       "        1041445,  1000041,        0,    43477,  1033892,        0,\n",
       "              0,  2036229,        0,  2320246,   470155,   577816,\n",
       "        1719885,        0,   536359,  2265229,        0,   121699,\n",
       "          46123,        0,        0,        0,   553476,    45192,\n",
       "         477236,   197921,   876718,  2360548,        0,   638451,\n",
       "         649593,        0,   119691,   961869,   509001,  1174649,\n",
       "        1098462,   420263,    66411,  1971267,  1868093,  2201102,\n",
       "        2150790,  2250170,   477872,        0,   463131,        0,\n",
       "        2041375,   250594,   846678,   476780,  3218679,  1897255,\n",
       "              0,  1852730,        0,        0,  1799486,   428185,\n",
       "         848291,        0,   417155,  1666906,        0,  2256538,\n",
       "              0,  2276632,        0,        0,   120056,   515189,\n",
       "              0,   129792,  1395277,  1661900,   215545,   134340,\n",
       "         156359,   214740,   974474,  1191640,  1304961,  2189754,\n",
       "              0,   168732,  1527207,   745012,  2391840,        0,\n",
       "        2252793,        0,        0,  2217534,  2128511,   169251,\n",
       "         126547,  1711162,   492145,  1460346,    30888,        0,\n",
       "          13295,  1585664,  1244550,        0,        0,        0,\n",
       "              0,        0,   481291,   193432,        0,  1763449,\n",
       "              0,        0,  2344529,  2254037,        0,  1551143,\n",
       "         686478,        0,        0,  2501599,  2077896,   661527,\n",
       "         139516,  1101987,        0,   697349,  2760083,  1927041,\n",
       "         480667,   328037,        0,   254490,        0,  1587856,\n",
       "         302688,   268799,  2954748,  2822345,  1187459,  2888115,\n",
       "         682962,   904912,        0,        0,  2768552,        0,\n",
       "              0,        0,        0,    74885,   609618,        0,\n",
       "         790980,  1043347,        0,        0,  4324472,  3516631,\n",
       "         288550,        0,        0,   920162,  3183506,   366137,\n",
       "              0,   126913,        0,  2188623,   297392,        0,\n",
       "              0,        0,        0,  2053472,   310158,  2578305,\n",
       "              0,  2495819,   527653,   142213,        0,   730245,\n",
       "         665817,  1189183,  2655643,  1564830,   183724,  2668709,\n",
       "         733945,  1906482,  3076066,   998334,   239039,        0,\n",
       "        2996579,        0,        0,   148016,   251604,  2479755,\n",
       "         207384,   535007, 31142480,   322764,        0,  1877491,\n",
       "              0,  3468078,   316741,  1580429,   788031,        0,\n",
       "         183724,   334331,   342234,        0,        0,        0,\n",
       "        1237333,   144531,        0])"
      ]
     },
     "execution_count": 141,
     "metadata": {},
     "output_type": "execute_result"
    }
   ],
   "source": [
    "PredictY = np.array(list(map(lambda x : x if x > 0 else 0, PredictY)))\n",
    "PredictY"
   ]
  },
  {
   "cell_type": "code",
   "execution_count": 142,
   "metadata": {},
   "outputs": [],
   "source": [
    "Export = pd.DataFrame({\n",
    "\t'title' : OutputTitle['title'],\n",
    "\t'box_off_num' : PredictY,\n",
    "})\n",
    "Export.to_csv('result.csv', index=False)"
   ]
  },
  {
   "attachments": {},
   "cell_type": "markdown",
   "metadata": {},
   "source": [
    "상위 99% 찍었다.. 뭔가 잘못된 게 분명쓰!!  \n",
    "2,496,823.73166  \n",
    "처음부터 다시 또 해봐야겠다"
   ]
  }
 ],
 "metadata": {
  "kernelspec": {
   "display_name": "Python 3",
   "language": "python",
   "name": "python3"
  },
  "language_info": {
   "codemirror_mode": {
    "name": "ipython",
    "version": 3
   },
   "file_extension": ".py",
   "mimetype": "text/x-python",
   "name": "python",
   "nbconvert_exporter": "python",
   "pygments_lexer": "ipython3",
   "version": "3.10.5"
  },
  "orig_nbformat": 4,
  "vscode": {
   "interpreter": {
    "hash": "cde9198c2e8e91a0b91670eed1e26ed14d52c99f31af54ead9171463984fcc7e"
   }
  }
 },
 "nbformat": 4,
 "nbformat_minor": 2
}
