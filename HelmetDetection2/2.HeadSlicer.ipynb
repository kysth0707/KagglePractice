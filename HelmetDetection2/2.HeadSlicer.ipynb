{
 "cells": [
  {
   "cell_type": "code",
   "execution_count": 4,
   "metadata": {},
   "outputs": [],
   "source": [
    "from Module.HeadRegion import GetHeadDict\n",
    "import os\n",
    "import cv2 as cv\n",
    "import numpy as np"
   ]
  },
  {
   "cell_type": "code",
   "execution_count": 5,
   "metadata": {},
   "outputs": [],
   "source": [
    "TargetPos = r'E:\\GithubProjects\\KagglePractice\\HelmetDetection2\\RawDatasets\\helmet'\n",
    "SavePos = r'E:\\GithubProjects\\KagglePractice\\HelmetDetection2\\Datasets\\original_helmet'\n",
    "FileNames = os.listdir(TargetPos)"
   ]
  },
  {
   "cell_type": "code",
   "execution_count": 6,
   "metadata": {},
   "outputs": [
    {
     "name": "stderr",
     "output_type": "stream",
     "text": [
      "C:\\Users\\th070\\AppData\\Local\\Temp\\ipykernel_10960\\508322133.py:2: VisibleDeprecationWarning: Creating an ndarray from ragged nested sequences (which is a list-or-tuple of lists-or-tuples-or ndarrays with different lengths or shapes) is deprecated. If you meant to do this, you must specify 'dtype=object' when creating the ndarray.\n",
      "  ImageList = np.array(ImageList)\n"
     ]
    },
    {
     "data": {
      "text/plain": [
       "(40, (3446, 5169, 3))"
      ]
     },
     "execution_count": 6,
     "metadata": {},
     "output_type": "execute_result"
    }
   ],
   "source": [
    "ImageList = [cv.imread(f\"{TargetPos}/{filename}\") for filename in FileNames]\n",
    "ImageList = np.array(ImageList)\n",
    "ImageList.shape[0], ImageList[0].shape"
   ]
  },
  {
   "cell_type": "code",
   "execution_count": 7,
   "metadata": {},
   "outputs": [
    {
     "name": "stdout",
     "output_type": "stream",
     "text": [
      "55 처리완료 ..."
     ]
    }
   ],
   "source": [
    "Index = 0\n",
    "for i, filename in enumerate(FileNames):\n",
    "\ttry:\n",
    "\t\tHeadDict = GetHeadDict(cv.imread(f'{TargetPos}/{filename}'), (100, 100))\n",
    "\t\tfor head in HeadDict['headlist']:\n",
    "\t\t\tcv.imwrite(f\"{SavePos}/{Index}.png\", head['head'])\n",
    "\t\t\tprint(f\"\\r{Index} 처리완료 ...\",end=\"\")\n",
    "\t\t\tIndex += 1\n",
    "\texcept:\n",
    "\t\tpass"
   ]
  },
  {
   "attachments": {},
   "cell_type": "markdown",
   "metadata": {},
   "source": [
    "NoHelmetImages"
   ]
  },
  {
   "cell_type": "code",
   "execution_count": 13,
   "metadata": {},
   "outputs": [],
   "source": [
    "TargetPos = r'E:\\GithubProjects\\KagglePractice\\HelmetDetection2\\RawDatasets\\without_helmet'\n",
    "SavePos = r'E:\\GithubProjects\\KagglePractice\\HelmetDetection2\\Datasets\\original_without_helmet'\n",
    "FileNames = os.listdir(TargetPos)"
   ]
  },
  {
   "cell_type": "code",
   "execution_count": 14,
   "metadata": {},
   "outputs": [
    {
     "name": "stderr",
     "output_type": "stream",
     "text": [
      "C:\\Users\\th070\\AppData\\Local\\Temp\\ipykernel_10960\\508322133.py:2: VisibleDeprecationWarning: Creating an ndarray from ragged nested sequences (which is a list-or-tuple of lists-or-tuples-or ndarrays with different lengths or shapes) is deprecated. If you meant to do this, you must specify 'dtype=object' when creating the ndarray.\n",
      "  ImageList = np.array(ImageList)\n"
     ]
    },
    {
     "data": {
      "text/plain": [
       "(40, (270, 180, 3))"
      ]
     },
     "execution_count": 14,
     "metadata": {},
     "output_type": "execute_result"
    }
   ],
   "source": [
    "ImageList = [cv.imread(f\"{TargetPos}/{filename}\") for filename in FileNames]\n",
    "ImageList = np.array(ImageList)\n",
    "ImageList.shape[0], ImageList[0].shape"
   ]
  },
  {
   "cell_type": "code",
   "execution_count": 15,
   "metadata": {},
   "outputs": [
    {
     "name": "stdout",
     "output_type": "stream",
     "text": [
      "30 처리완료 ..."
     ]
    }
   ],
   "source": [
    "Index = 0\n",
    "for i, filename in enumerate(FileNames):\n",
    "\ttry:\n",
    "\t\tHeadDict = GetHeadDict(cv.imread(f'{TargetPos}/{filename}'), (100, 100))\n",
    "\t\tfor head in HeadDict['headlist']:\n",
    "\t\t\tcv.imwrite(f\"{SavePos}/{Index}.png\", head['head'])\n",
    "\t\t\tprint(f\"\\r{Index} 처리완료 ...\",end=\"\")\n",
    "\t\t\tIndex += 1\n",
    "\texcept:\n",
    "\t\tpass"
   ]
  }
 ],
 "metadata": {
  "kernelspec": {
   "display_name": "Python 3",
   "language": "python",
   "name": "python3"
  },
  "language_info": {
   "codemirror_mode": {
    "name": "ipython",
    "version": 3
   },
   "file_extension": ".py",
   "mimetype": "text/x-python",
   "name": "python",
   "nbconvert_exporter": "python",
   "pygments_lexer": "ipython3",
   "version": "3.10.5"
  },
  "orig_nbformat": 4,
  "vscode": {
   "interpreter": {
    "hash": "cde9198c2e8e91a0b91670eed1e26ed14d52c99f31af54ead9171463984fcc7e"
   }
  }
 },
 "nbformat": 4,
 "nbformat_minor": 2
}
