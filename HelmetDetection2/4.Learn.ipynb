{
 "cells": [
  {
   "cell_type": "code",
   "execution_count": 9,
   "metadata": {},
   "outputs": [],
   "source": [
    "import tensorflow as tf\n",
    "from tensorflow.keras import layers\n",
    "from tensorflow.keras.models import Sequential\n",
    "import os\n",
    "import cv2 as cv\n",
    "import numpy as np"
   ]
  },
  {
   "cell_type": "code",
   "execution_count": 2,
   "metadata": {},
   "outputs": [],
   "source": [
    "Width, Height = (100, 100)"
   ]
  },
  {
   "cell_type": "code",
   "execution_count": 3,
   "metadata": {},
   "outputs": [],
   "source": [
    "model = Sequential([\n",
    "\tlayers.Conv2D(16, (3, 3), activation='relu', input_shape = (Height, Width, 3)),\n",
    "\tlayers.MaxPooling2D(2, 2),\n",
    "\tlayers.Conv2D(32, (3, 3), activation='relu'),\n",
    "\tlayers.MaxPooling2D(2, 2),\n",
    "\tlayers.Conv2D(64, (3, 3), activation='relu'),\n",
    "\tlayers.MaxPooling2D(2, 2),\n",
    "\tlayers.Flatten(),\n",
    "\tlayers.Dense(512, activation='relu'),\n",
    "\tlayers.Dense(1, activation='sigmoid')\n",
    "])"
   ]
  },
  {
   "cell_type": "code",
   "execution_count": 4,
   "metadata": {},
   "outputs": [
    {
     "name": "stderr",
     "output_type": "stream",
     "text": [
      "c:\\Users\\th070\\AppData\\Local\\Programs\\Python\\Python310\\lib\\site-packages\\keras\\optimizers\\optimizer_v2\\rmsprop.py:140: UserWarning: The `lr` argument is deprecated, use `learning_rate` instead.\n",
      "  super().__init__(name, **kwargs)\n"
     ]
    }
   ],
   "source": [
    "from tensorflow.keras.optimizers import RMSprop\n",
    "\n",
    "model.compile(\n",
    "\toptimizer = RMSprop(lr = 0.01),\n",
    "\tloss = 'binary_crossentropy',\n",
    "\tmetrics = ['accuracy']\n",
    ")"
   ]
  },
  {
   "cell_type": "code",
   "execution_count": 7,
   "metadata": {},
   "outputs": [],
   "source": [
    "HelmetPos = r'E:\\GithubProjects\\KagglePractice\\HelmetDetection2\\Datasets\\helmet'\n",
    "WithoutHelmetPos = r'E:\\GithubProjects\\KagglePractice\\HelmetDetection2\\Datasets\\without_helmet'"
   ]
  },
  {
   "cell_type": "code",
   "execution_count": 16,
   "metadata": {},
   "outputs": [],
   "source": [
    "DataX = []\n",
    "DataY = []"
   ]
  },
  {
   "cell_type": "code",
   "execution_count": 17,
   "metadata": {},
   "outputs": [],
   "source": [
    "for pos in os.listdir(HelmetPos):\n",
    "\tDataX.append(cv.imread(fr\"{HelmetPos}\\{pos}\"))\n",
    "\tDataY.append(1)"
   ]
  },
  {
   "cell_type": "code",
   "execution_count": 18,
   "metadata": {},
   "outputs": [],
   "source": [
    "for pos in os.listdir(WithoutHelmetPos):\n",
    "\tDataX.append(cv.imread(fr\"{WithoutHelmetPos}\\{pos}\"))\n",
    "\tDataY.append(0)"
   ]
  },
  {
   "cell_type": "code",
   "execution_count": 19,
   "metadata": {},
   "outputs": [
    {
     "data": {
      "text/plain": [
       "((3080, 100, 100, 3), (3080,))"
      ]
     },
     "execution_count": 19,
     "metadata": {},
     "output_type": "execute_result"
    }
   ],
   "source": [
    "DataX = np.array(DataX)\n",
    "DataY = np.array(DataY)\n",
    "DataX.shape, DataY.shape"
   ]
  },
  {
   "cell_type": "code",
   "execution_count": 20,
   "metadata": {},
   "outputs": [],
   "source": [
    "from sklearn.model_selection import train_test_split"
   ]
  },
  {
   "cell_type": "code",
   "execution_count": 22,
   "metadata": {},
   "outputs": [],
   "source": [
    "TrainDataX, TestDataX, TrainDataY, TestDataY = train_test_split(DataX, DataY,\n",
    "\t\t\t\t\t\t\t\t\t\t\t\t\t\t\t\t\t\t\ttest_size=0.2, shuffle=True, stratify=DataY, random_state=123)"
   ]
  },
  {
   "cell_type": "code",
   "execution_count": 23,
   "metadata": {},
   "outputs": [
    {
     "name": "stdout",
     "output_type": "stream",
     "text": [
      "Epoch 1/10\n",
      "77/77 [==============================] - 14s 167ms/step - loss: 2601.9185 - accuracy: 0.7423\n",
      "Epoch 2/10\n",
      "77/77 [==============================] - 16s 212ms/step - loss: 51.7148 - accuracy: 0.8438\n",
      "Epoch 3/10\n",
      "77/77 [==============================] - 17s 223ms/step - loss: 6.0099 - accuracy: 0.9127\n",
      "Epoch 4/10\n",
      "77/77 [==============================] - 16s 204ms/step - loss: 10.2796 - accuracy: 0.9140\n",
      "Epoch 5/10\n",
      "77/77 [==============================] - 16s 204ms/step - loss: 0.7066 - accuracy: 0.8754\n",
      "Epoch 6/10\n",
      "77/77 [==============================] - 16s 204ms/step - loss: 1.1994 - accuracy: 0.8555\n",
      "Epoch 7/10\n",
      "77/77 [==============================] - 16s 207ms/step - loss: 0.9835 - accuracy: 0.8827\n",
      "Epoch 8/10\n",
      "77/77 [==============================] - 15s 198ms/step - loss: 0.2828 - accuracy: 0.9464\n",
      "Epoch 9/10\n",
      "77/77 [==============================] - 16s 212ms/step - loss: 14.9368 - accuracy: 0.9351\n",
      "Epoch 10/10\n",
      "77/77 [==============================] - 15s 196ms/step - loss: 2.4341 - accuracy: 0.9627\n"
     ]
    },
    {
     "data": {
      "text/plain": [
       "<keras.callbacks.History at 0x16a66422b60>"
      ]
     },
     "execution_count": 23,
     "metadata": {},
     "output_type": "execute_result"
    }
   ],
   "source": [
    "model.fit(TrainDataX, TrainDataY, epochs=10)"
   ]
  },
  {
   "cell_type": "code",
   "execution_count": 24,
   "metadata": {},
   "outputs": [],
   "source": [
    "model.save(r'E:\\GithubProjects\\KagglePractice\\HelmetDetection2\\HelmetModel.h5')"
   ]
  },
  {
   "cell_type": "code",
   "execution_count": 29,
   "metadata": {},
   "outputs": [
    {
     "name": "stdout",
     "output_type": "stream",
     "text": [
      "20/20 [==============================] - 1s 37ms/step - loss: 0.0413 - accuracy: 0.9919\n"
     ]
    },
    {
     "data": {
      "text/plain": [
       "[0.04130387678742409, 0.9918830990791321]"
      ]
     },
     "execution_count": 29,
     "metadata": {},
     "output_type": "execute_result"
    }
   ],
   "source": [
    "model.evaluate(TestDataX, TestDataY)"
   ]
  }
 ],
 "metadata": {
  "kernelspec": {
   "display_name": "Python 3",
   "language": "python",
   "name": "python3"
  },
  "language_info": {
   "codemirror_mode": {
    "name": "ipython",
    "version": 3
   },
   "file_extension": ".py",
   "mimetype": "text/x-python",
   "name": "python",
   "nbconvert_exporter": "python",
   "pygments_lexer": "ipython3",
   "version": "3.10.5"
  },
  "orig_nbformat": 4,
  "vscode": {
   "interpreter": {
    "hash": "cde9198c2e8e91a0b91670eed1e26ed14d52c99f31af54ead9171463984fcc7e"
   }
  }
 },
 "nbformat": 4,
 "nbformat_minor": 2
}
